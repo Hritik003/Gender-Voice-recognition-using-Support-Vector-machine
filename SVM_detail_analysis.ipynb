{
  "metadata": {
    "kernelspec": {
      "display_name": "Python 3",
      "language": "python",
      "name": "python3"
    },
    "language_info": {
      "codemirror_mode": {
        "name": "ipython",
        "version": 3
      },
      "file_extension": ".py",
      "mimetype": "text/x-python",
      "name": "python",
      "nbconvert_exporter": "python",
      "pygments_lexer": "ipython3",
      "version": "3.5.2"
    },
    "colab": {
      "provenance": [],
      "toc_visible": true
    }
  },
  "nbformat": 4,
  "nbformat_minor": 0,
  "cells": [
    {
      "cell_type": "markdown",
      "source": [
        "**Support Vector machine** with different **kernels(linear,gaussian,polynomial)** and also tune the various parameters such as **C** ,**gamma** and **degree** to find out the best performing model ."
      ],
      "metadata": {
        "id": "qWLSZcs5SvKF"
      }
    },
    {
      "cell_type": "markdown",
      "source": [
        "# Importing all the necessary libraries"
      ],
      "metadata": {
        "id": "ssPJJOEaSvKJ"
      }
    },
    {
      "cell_type": "code",
      "source": [
        "import pandas as pd\n",
        "import numpy as np\n",
        "import seaborn as sns\n",
        "\n",
        "import matplotlib.pyplot as plt\n",
        "\n",
        "%matplotlib inline"
      ],
      "execution_count": null,
      "outputs": [],
      "metadata": {
        "id": "m7d7NLz8SvKJ"
      }
    },
    {
      "cell_type": "markdown",
      "source": [
        "# Reading the comma separated values file into the dataframe"
      ],
      "metadata": {
        "id": "4-rL534lSvKK"
      }
    },
    {
      "cell_type": "code",
      "source": [
        "df = pd.read_csv('/content/voice.csv')\n",
        "df.head()"
      ],
      "execution_count": null,
      "outputs": [
        {
          "output_type": "execute_result",
          "data": {
            "text/plain": [
              "   meanfreq        sd    median       Q25       Q75       IQR       skew  \\\n",
              "0  0.059781  0.064241  0.032027  0.015071  0.090193  0.075122  12.863462   \n",
              "1  0.066009  0.067310  0.040229  0.019414  0.092666  0.073252  22.423285   \n",
              "2  0.077316  0.083829  0.036718  0.008701  0.131908  0.123207  30.757155   \n",
              "3  0.151228  0.072111  0.158011  0.096582  0.207955  0.111374   1.232831   \n",
              "4  0.135120  0.079146  0.124656  0.078720  0.206045  0.127325   1.101174   \n",
              "\n",
              "          kurt    sp.ent       sfm  ...  centroid   meanfun    minfun  \\\n",
              "0   274.402906  0.893369  0.491918  ...  0.059781  0.084279  0.015702   \n",
              "1   634.613855  0.892193  0.513724  ...  0.066009  0.107937  0.015826   \n",
              "2  1024.927705  0.846389  0.478905  ...  0.077316  0.098706  0.015656   \n",
              "3     4.177296  0.963322  0.727232  ...  0.151228  0.088965  0.017798   \n",
              "4     4.333713  0.971955  0.783568  ...  0.135120  0.106398  0.016931   \n",
              "\n",
              "     maxfun   meandom    mindom    maxdom   dfrange   modindx  label  \n",
              "0  0.275862  0.007812  0.007812  0.007812  0.000000  0.000000   male  \n",
              "1  0.250000  0.009014  0.007812  0.054688  0.046875  0.052632   male  \n",
              "2  0.271186  0.007990  0.007812  0.015625  0.007812  0.046512   male  \n",
              "3  0.250000  0.201497  0.007812  0.562500  0.554688  0.247119   male  \n",
              "4  0.266667  0.712812  0.007812  5.484375  5.476562  0.208274   male  \n",
              "\n",
              "[5 rows x 21 columns]"
            ],
            "text/html": [
              "\n",
              "  <div id=\"df-bf5bba61-286d-43db-90fd-1e3a5fb390ee\">\n",
              "    <div class=\"colab-df-container\">\n",
              "      <div>\n",
              "<style scoped>\n",
              "    .dataframe tbody tr th:only-of-type {\n",
              "        vertical-align: middle;\n",
              "    }\n",
              "\n",
              "    .dataframe tbody tr th {\n",
              "        vertical-align: top;\n",
              "    }\n",
              "\n",
              "    .dataframe thead th {\n",
              "        text-align: right;\n",
              "    }\n",
              "</style>\n",
              "<table border=\"1\" class=\"dataframe\">\n",
              "  <thead>\n",
              "    <tr style=\"text-align: right;\">\n",
              "      <th></th>\n",
              "      <th>meanfreq</th>\n",
              "      <th>sd</th>\n",
              "      <th>median</th>\n",
              "      <th>Q25</th>\n",
              "      <th>Q75</th>\n",
              "      <th>IQR</th>\n",
              "      <th>skew</th>\n",
              "      <th>kurt</th>\n",
              "      <th>sp.ent</th>\n",
              "      <th>sfm</th>\n",
              "      <th>...</th>\n",
              "      <th>centroid</th>\n",
              "      <th>meanfun</th>\n",
              "      <th>minfun</th>\n",
              "      <th>maxfun</th>\n",
              "      <th>meandom</th>\n",
              "      <th>mindom</th>\n",
              "      <th>maxdom</th>\n",
              "      <th>dfrange</th>\n",
              "      <th>modindx</th>\n",
              "      <th>label</th>\n",
              "    </tr>\n",
              "  </thead>\n",
              "  <tbody>\n",
              "    <tr>\n",
              "      <th>0</th>\n",
              "      <td>0.059781</td>\n",
              "      <td>0.064241</td>\n",
              "      <td>0.032027</td>\n",
              "      <td>0.015071</td>\n",
              "      <td>0.090193</td>\n",
              "      <td>0.075122</td>\n",
              "      <td>12.863462</td>\n",
              "      <td>274.402906</td>\n",
              "      <td>0.893369</td>\n",
              "      <td>0.491918</td>\n",
              "      <td>...</td>\n",
              "      <td>0.059781</td>\n",
              "      <td>0.084279</td>\n",
              "      <td>0.015702</td>\n",
              "      <td>0.275862</td>\n",
              "      <td>0.007812</td>\n",
              "      <td>0.007812</td>\n",
              "      <td>0.007812</td>\n",
              "      <td>0.000000</td>\n",
              "      <td>0.000000</td>\n",
              "      <td>male</td>\n",
              "    </tr>\n",
              "    <tr>\n",
              "      <th>1</th>\n",
              "      <td>0.066009</td>\n",
              "      <td>0.067310</td>\n",
              "      <td>0.040229</td>\n",
              "      <td>0.019414</td>\n",
              "      <td>0.092666</td>\n",
              "      <td>0.073252</td>\n",
              "      <td>22.423285</td>\n",
              "      <td>634.613855</td>\n",
              "      <td>0.892193</td>\n",
              "      <td>0.513724</td>\n",
              "      <td>...</td>\n",
              "      <td>0.066009</td>\n",
              "      <td>0.107937</td>\n",
              "      <td>0.015826</td>\n",
              "      <td>0.250000</td>\n",
              "      <td>0.009014</td>\n",
              "      <td>0.007812</td>\n",
              "      <td>0.054688</td>\n",
              "      <td>0.046875</td>\n",
              "      <td>0.052632</td>\n",
              "      <td>male</td>\n",
              "    </tr>\n",
              "    <tr>\n",
              "      <th>2</th>\n",
              "      <td>0.077316</td>\n",
              "      <td>0.083829</td>\n",
              "      <td>0.036718</td>\n",
              "      <td>0.008701</td>\n",
              "      <td>0.131908</td>\n",
              "      <td>0.123207</td>\n",
              "      <td>30.757155</td>\n",
              "      <td>1024.927705</td>\n",
              "      <td>0.846389</td>\n",
              "      <td>0.478905</td>\n",
              "      <td>...</td>\n",
              "      <td>0.077316</td>\n",
              "      <td>0.098706</td>\n",
              "      <td>0.015656</td>\n",
              "      <td>0.271186</td>\n",
              "      <td>0.007990</td>\n",
              "      <td>0.007812</td>\n",
              "      <td>0.015625</td>\n",
              "      <td>0.007812</td>\n",
              "      <td>0.046512</td>\n",
              "      <td>male</td>\n",
              "    </tr>\n",
              "    <tr>\n",
              "      <th>3</th>\n",
              "      <td>0.151228</td>\n",
              "      <td>0.072111</td>\n",
              "      <td>0.158011</td>\n",
              "      <td>0.096582</td>\n",
              "      <td>0.207955</td>\n",
              "      <td>0.111374</td>\n",
              "      <td>1.232831</td>\n",
              "      <td>4.177296</td>\n",
              "      <td>0.963322</td>\n",
              "      <td>0.727232</td>\n",
              "      <td>...</td>\n",
              "      <td>0.151228</td>\n",
              "      <td>0.088965</td>\n",
              "      <td>0.017798</td>\n",
              "      <td>0.250000</td>\n",
              "      <td>0.201497</td>\n",
              "      <td>0.007812</td>\n",
              "      <td>0.562500</td>\n",
              "      <td>0.554688</td>\n",
              "      <td>0.247119</td>\n",
              "      <td>male</td>\n",
              "    </tr>\n",
              "    <tr>\n",
              "      <th>4</th>\n",
              "      <td>0.135120</td>\n",
              "      <td>0.079146</td>\n",
              "      <td>0.124656</td>\n",
              "      <td>0.078720</td>\n",
              "      <td>0.206045</td>\n",
              "      <td>0.127325</td>\n",
              "      <td>1.101174</td>\n",
              "      <td>4.333713</td>\n",
              "      <td>0.971955</td>\n",
              "      <td>0.783568</td>\n",
              "      <td>...</td>\n",
              "      <td>0.135120</td>\n",
              "      <td>0.106398</td>\n",
              "      <td>0.016931</td>\n",
              "      <td>0.266667</td>\n",
              "      <td>0.712812</td>\n",
              "      <td>0.007812</td>\n",
              "      <td>5.484375</td>\n",
              "      <td>5.476562</td>\n",
              "      <td>0.208274</td>\n",
              "      <td>male</td>\n",
              "    </tr>\n",
              "  </tbody>\n",
              "</table>\n",
              "<p>5 rows × 21 columns</p>\n",
              "</div>\n",
              "      <button class=\"colab-df-convert\" onclick=\"convertToInteractive('df-bf5bba61-286d-43db-90fd-1e3a5fb390ee')\"\n",
              "              title=\"Convert this dataframe to an interactive table.\"\n",
              "              style=\"display:none;\">\n",
              "        \n",
              "  <svg xmlns=\"http://www.w3.org/2000/svg\" height=\"24px\"viewBox=\"0 0 24 24\"\n",
              "       width=\"24px\">\n",
              "    <path d=\"M0 0h24v24H0V0z\" fill=\"none\"/>\n",
              "    <path d=\"M18.56 5.44l.94 2.06.94-2.06 2.06-.94-2.06-.94-.94-2.06-.94 2.06-2.06.94zm-11 1L8.5 8.5l.94-2.06 2.06-.94-2.06-.94L8.5 2.5l-.94 2.06-2.06.94zm10 10l.94 2.06.94-2.06 2.06-.94-2.06-.94-.94-2.06-.94 2.06-2.06.94z\"/><path d=\"M17.41 7.96l-1.37-1.37c-.4-.4-.92-.59-1.43-.59-.52 0-1.04.2-1.43.59L10.3 9.45l-7.72 7.72c-.78.78-.78 2.05 0 2.83L4 21.41c.39.39.9.59 1.41.59.51 0 1.02-.2 1.41-.59l7.78-7.78 2.81-2.81c.8-.78.8-2.07 0-2.86zM5.41 20L4 18.59l7.72-7.72 1.47 1.35L5.41 20z\"/>\n",
              "  </svg>\n",
              "      </button>\n",
              "      \n",
              "  <style>\n",
              "    .colab-df-container {\n",
              "      display:flex;\n",
              "      flex-wrap:wrap;\n",
              "      gap: 12px;\n",
              "    }\n",
              "\n",
              "    .colab-df-convert {\n",
              "      background-color: #E8F0FE;\n",
              "      border: none;\n",
              "      border-radius: 50%;\n",
              "      cursor: pointer;\n",
              "      display: none;\n",
              "      fill: #1967D2;\n",
              "      height: 32px;\n",
              "      padding: 0 0 0 0;\n",
              "      width: 32px;\n",
              "    }\n",
              "\n",
              "    .colab-df-convert:hover {\n",
              "      background-color: #E2EBFA;\n",
              "      box-shadow: 0px 1px 2px rgba(60, 64, 67, 0.3), 0px 1px 3px 1px rgba(60, 64, 67, 0.15);\n",
              "      fill: #174EA6;\n",
              "    }\n",
              "\n",
              "    [theme=dark] .colab-df-convert {\n",
              "      background-color: #3B4455;\n",
              "      fill: #D2E3FC;\n",
              "    }\n",
              "\n",
              "    [theme=dark] .colab-df-convert:hover {\n",
              "      background-color: #434B5C;\n",
              "      box-shadow: 0px 1px 3px 1px rgba(0, 0, 0, 0.15);\n",
              "      filter: drop-shadow(0px 1px 2px rgba(0, 0, 0, 0.3));\n",
              "      fill: #FFFFFF;\n",
              "    }\n",
              "  </style>\n",
              "\n",
              "      <script>\n",
              "        const buttonEl =\n",
              "          document.querySelector('#df-bf5bba61-286d-43db-90fd-1e3a5fb390ee button.colab-df-convert');\n",
              "        buttonEl.style.display =\n",
              "          google.colab.kernel.accessAllowed ? 'block' : 'none';\n",
              "\n",
              "        async function convertToInteractive(key) {\n",
              "          const element = document.querySelector('#df-bf5bba61-286d-43db-90fd-1e3a5fb390ee');\n",
              "          const dataTable =\n",
              "            await google.colab.kernel.invokeFunction('convertToInteractive',\n",
              "                                                     [key], {});\n",
              "          if (!dataTable) return;\n",
              "\n",
              "          const docLinkHtml = 'Like what you see? Visit the ' +\n",
              "            '<a target=\"_blank\" href=https://colab.research.google.com/notebooks/data_table.ipynb>data table notebook</a>'\n",
              "            + ' to learn more about interactive tables.';\n",
              "          element.innerHTML = '';\n",
              "          dataTable['output_type'] = 'display_data';\n",
              "          await google.colab.output.renderOutput(dataTable, element);\n",
              "          const docLink = document.createElement('div');\n",
              "          docLink.innerHTML = docLinkHtml;\n",
              "          element.appendChild(docLink);\n",
              "        }\n",
              "      </script>\n",
              "    </div>\n",
              "  </div>\n",
              "  "
            ]
          },
          "metadata": {},
          "execution_count": 93
        }
      ],
      "metadata": {
        "colab": {
          "base_uri": "https://localhost:8080/",
          "height": 280
        },
        "id": "cwG1yBd0SvKK",
        "outputId": "ee90fcdf-340a-489d-8dfa-166885566a20"
      }
    },
    {
      "cell_type": "code",
      "source": [
        "df.describe().T"
      ],
      "metadata": {
        "colab": {
          "base_uri": "https://localhost:8080/",
          "height": 677
        },
        "id": "GCaOUcWzWVSn",
        "outputId": "ec6f216f-e9f9-4cc1-bc73-1d9f97b05d0c"
      },
      "execution_count": null,
      "outputs": [
        {
          "output_type": "execute_result",
          "data": {
            "text/plain": [
              "           count       mean         std       min       25%       50%  \\\n",
              "meanfreq  3168.0   0.180907    0.029918  0.039363  0.163662  0.184838   \n",
              "sd        3168.0   0.057126    0.016652  0.018363  0.041954  0.059155   \n",
              "median    3168.0   0.185621    0.036360  0.010975  0.169593  0.190032   \n",
              "Q25       3168.0   0.140456    0.048680  0.000229  0.111087  0.140286   \n",
              "Q75       3168.0   0.224765    0.023639  0.042946  0.208747  0.225684   \n",
              "IQR       3168.0   0.084309    0.042783  0.014558  0.042560  0.094280   \n",
              "skew      3168.0   3.140168    4.240529  0.141735  1.649569  2.197101   \n",
              "kurt      3168.0  36.568461  134.928661  2.068455  5.669547  8.318463   \n",
              "sp.ent    3168.0   0.895127    0.044980  0.738651  0.861811  0.901767   \n",
              "sfm       3168.0   0.408216    0.177521  0.036876  0.258041  0.396335   \n",
              "mode      3168.0   0.165282    0.077203  0.000000  0.118016  0.186599   \n",
              "centroid  3168.0   0.180907    0.029918  0.039363  0.163662  0.184838   \n",
              "meanfun   3168.0   0.142807    0.032304  0.055565  0.116998  0.140519   \n",
              "minfun    3168.0   0.036802    0.019220  0.009775  0.018223  0.046110   \n",
              "maxfun    3168.0   0.258842    0.030077  0.103093  0.253968  0.271186   \n",
              "meandom   3168.0   0.829211    0.525205  0.007812  0.419828  0.765795   \n",
              "mindom    3168.0   0.052647    0.063299  0.004883  0.007812  0.023438   \n",
              "maxdom    3168.0   5.047277    3.521157  0.007812  2.070312  4.992188   \n",
              "dfrange   3168.0   4.994630    3.520039  0.000000  2.044922  4.945312   \n",
              "modindx   3168.0   0.173752    0.119454  0.000000  0.099766  0.139357   \n",
              "\n",
              "                75%          max  \n",
              "meanfreq   0.199146     0.251124  \n",
              "sd         0.067020     0.115273  \n",
              "median     0.210618     0.261224  \n",
              "Q25        0.175939     0.247347  \n",
              "Q75        0.243660     0.273469  \n",
              "IQR        0.114175     0.252225  \n",
              "skew       2.931694    34.725453  \n",
              "kurt      13.648905  1309.612887  \n",
              "sp.ent     0.928713     0.981997  \n",
              "sfm        0.533676     0.842936  \n",
              "mode       0.221104     0.280000  \n",
              "centroid   0.199146     0.251124  \n",
              "meanfun    0.169581     0.237636  \n",
              "minfun     0.047904     0.204082  \n",
              "maxfun     0.277457     0.279114  \n",
              "meandom    1.177166     2.957682  \n",
              "mindom     0.070312     0.458984  \n",
              "maxdom     7.007812    21.867188  \n",
              "dfrange    6.992188    21.843750  \n",
              "modindx    0.209183     0.932374  "
            ],
            "text/html": [
              "\n",
              "  <div id=\"df-096f1c21-2962-4fa7-bcc7-6a5282606426\">\n",
              "    <div class=\"colab-df-container\">\n",
              "      <div>\n",
              "<style scoped>\n",
              "    .dataframe tbody tr th:only-of-type {\n",
              "        vertical-align: middle;\n",
              "    }\n",
              "\n",
              "    .dataframe tbody tr th {\n",
              "        vertical-align: top;\n",
              "    }\n",
              "\n",
              "    .dataframe thead th {\n",
              "        text-align: right;\n",
              "    }\n",
              "</style>\n",
              "<table border=\"1\" class=\"dataframe\">\n",
              "  <thead>\n",
              "    <tr style=\"text-align: right;\">\n",
              "      <th></th>\n",
              "      <th>count</th>\n",
              "      <th>mean</th>\n",
              "      <th>std</th>\n",
              "      <th>min</th>\n",
              "      <th>25%</th>\n",
              "      <th>50%</th>\n",
              "      <th>75%</th>\n",
              "      <th>max</th>\n",
              "    </tr>\n",
              "  </thead>\n",
              "  <tbody>\n",
              "    <tr>\n",
              "      <th>meanfreq</th>\n",
              "      <td>3168.0</td>\n",
              "      <td>0.180907</td>\n",
              "      <td>0.029918</td>\n",
              "      <td>0.039363</td>\n",
              "      <td>0.163662</td>\n",
              "      <td>0.184838</td>\n",
              "      <td>0.199146</td>\n",
              "      <td>0.251124</td>\n",
              "    </tr>\n",
              "    <tr>\n",
              "      <th>sd</th>\n",
              "      <td>3168.0</td>\n",
              "      <td>0.057126</td>\n",
              "      <td>0.016652</td>\n",
              "      <td>0.018363</td>\n",
              "      <td>0.041954</td>\n",
              "      <td>0.059155</td>\n",
              "      <td>0.067020</td>\n",
              "      <td>0.115273</td>\n",
              "    </tr>\n",
              "    <tr>\n",
              "      <th>median</th>\n",
              "      <td>3168.0</td>\n",
              "      <td>0.185621</td>\n",
              "      <td>0.036360</td>\n",
              "      <td>0.010975</td>\n",
              "      <td>0.169593</td>\n",
              "      <td>0.190032</td>\n",
              "      <td>0.210618</td>\n",
              "      <td>0.261224</td>\n",
              "    </tr>\n",
              "    <tr>\n",
              "      <th>Q25</th>\n",
              "      <td>3168.0</td>\n",
              "      <td>0.140456</td>\n",
              "      <td>0.048680</td>\n",
              "      <td>0.000229</td>\n",
              "      <td>0.111087</td>\n",
              "      <td>0.140286</td>\n",
              "      <td>0.175939</td>\n",
              "      <td>0.247347</td>\n",
              "    </tr>\n",
              "    <tr>\n",
              "      <th>Q75</th>\n",
              "      <td>3168.0</td>\n",
              "      <td>0.224765</td>\n",
              "      <td>0.023639</td>\n",
              "      <td>0.042946</td>\n",
              "      <td>0.208747</td>\n",
              "      <td>0.225684</td>\n",
              "      <td>0.243660</td>\n",
              "      <td>0.273469</td>\n",
              "    </tr>\n",
              "    <tr>\n",
              "      <th>IQR</th>\n",
              "      <td>3168.0</td>\n",
              "      <td>0.084309</td>\n",
              "      <td>0.042783</td>\n",
              "      <td>0.014558</td>\n",
              "      <td>0.042560</td>\n",
              "      <td>0.094280</td>\n",
              "      <td>0.114175</td>\n",
              "      <td>0.252225</td>\n",
              "    </tr>\n",
              "    <tr>\n",
              "      <th>skew</th>\n",
              "      <td>3168.0</td>\n",
              "      <td>3.140168</td>\n",
              "      <td>4.240529</td>\n",
              "      <td>0.141735</td>\n",
              "      <td>1.649569</td>\n",
              "      <td>2.197101</td>\n",
              "      <td>2.931694</td>\n",
              "      <td>34.725453</td>\n",
              "    </tr>\n",
              "    <tr>\n",
              "      <th>kurt</th>\n",
              "      <td>3168.0</td>\n",
              "      <td>36.568461</td>\n",
              "      <td>134.928661</td>\n",
              "      <td>2.068455</td>\n",
              "      <td>5.669547</td>\n",
              "      <td>8.318463</td>\n",
              "      <td>13.648905</td>\n",
              "      <td>1309.612887</td>\n",
              "    </tr>\n",
              "    <tr>\n",
              "      <th>sp.ent</th>\n",
              "      <td>3168.0</td>\n",
              "      <td>0.895127</td>\n",
              "      <td>0.044980</td>\n",
              "      <td>0.738651</td>\n",
              "      <td>0.861811</td>\n",
              "      <td>0.901767</td>\n",
              "      <td>0.928713</td>\n",
              "      <td>0.981997</td>\n",
              "    </tr>\n",
              "    <tr>\n",
              "      <th>sfm</th>\n",
              "      <td>3168.0</td>\n",
              "      <td>0.408216</td>\n",
              "      <td>0.177521</td>\n",
              "      <td>0.036876</td>\n",
              "      <td>0.258041</td>\n",
              "      <td>0.396335</td>\n",
              "      <td>0.533676</td>\n",
              "      <td>0.842936</td>\n",
              "    </tr>\n",
              "    <tr>\n",
              "      <th>mode</th>\n",
              "      <td>3168.0</td>\n",
              "      <td>0.165282</td>\n",
              "      <td>0.077203</td>\n",
              "      <td>0.000000</td>\n",
              "      <td>0.118016</td>\n",
              "      <td>0.186599</td>\n",
              "      <td>0.221104</td>\n",
              "      <td>0.280000</td>\n",
              "    </tr>\n",
              "    <tr>\n",
              "      <th>centroid</th>\n",
              "      <td>3168.0</td>\n",
              "      <td>0.180907</td>\n",
              "      <td>0.029918</td>\n",
              "      <td>0.039363</td>\n",
              "      <td>0.163662</td>\n",
              "      <td>0.184838</td>\n",
              "      <td>0.199146</td>\n",
              "      <td>0.251124</td>\n",
              "    </tr>\n",
              "    <tr>\n",
              "      <th>meanfun</th>\n",
              "      <td>3168.0</td>\n",
              "      <td>0.142807</td>\n",
              "      <td>0.032304</td>\n",
              "      <td>0.055565</td>\n",
              "      <td>0.116998</td>\n",
              "      <td>0.140519</td>\n",
              "      <td>0.169581</td>\n",
              "      <td>0.237636</td>\n",
              "    </tr>\n",
              "    <tr>\n",
              "      <th>minfun</th>\n",
              "      <td>3168.0</td>\n",
              "      <td>0.036802</td>\n",
              "      <td>0.019220</td>\n",
              "      <td>0.009775</td>\n",
              "      <td>0.018223</td>\n",
              "      <td>0.046110</td>\n",
              "      <td>0.047904</td>\n",
              "      <td>0.204082</td>\n",
              "    </tr>\n",
              "    <tr>\n",
              "      <th>maxfun</th>\n",
              "      <td>3168.0</td>\n",
              "      <td>0.258842</td>\n",
              "      <td>0.030077</td>\n",
              "      <td>0.103093</td>\n",
              "      <td>0.253968</td>\n",
              "      <td>0.271186</td>\n",
              "      <td>0.277457</td>\n",
              "      <td>0.279114</td>\n",
              "    </tr>\n",
              "    <tr>\n",
              "      <th>meandom</th>\n",
              "      <td>3168.0</td>\n",
              "      <td>0.829211</td>\n",
              "      <td>0.525205</td>\n",
              "      <td>0.007812</td>\n",
              "      <td>0.419828</td>\n",
              "      <td>0.765795</td>\n",
              "      <td>1.177166</td>\n",
              "      <td>2.957682</td>\n",
              "    </tr>\n",
              "    <tr>\n",
              "      <th>mindom</th>\n",
              "      <td>3168.0</td>\n",
              "      <td>0.052647</td>\n",
              "      <td>0.063299</td>\n",
              "      <td>0.004883</td>\n",
              "      <td>0.007812</td>\n",
              "      <td>0.023438</td>\n",
              "      <td>0.070312</td>\n",
              "      <td>0.458984</td>\n",
              "    </tr>\n",
              "    <tr>\n",
              "      <th>maxdom</th>\n",
              "      <td>3168.0</td>\n",
              "      <td>5.047277</td>\n",
              "      <td>3.521157</td>\n",
              "      <td>0.007812</td>\n",
              "      <td>2.070312</td>\n",
              "      <td>4.992188</td>\n",
              "      <td>7.007812</td>\n",
              "      <td>21.867188</td>\n",
              "    </tr>\n",
              "    <tr>\n",
              "      <th>dfrange</th>\n",
              "      <td>3168.0</td>\n",
              "      <td>4.994630</td>\n",
              "      <td>3.520039</td>\n",
              "      <td>0.000000</td>\n",
              "      <td>2.044922</td>\n",
              "      <td>4.945312</td>\n",
              "      <td>6.992188</td>\n",
              "      <td>21.843750</td>\n",
              "    </tr>\n",
              "    <tr>\n",
              "      <th>modindx</th>\n",
              "      <td>3168.0</td>\n",
              "      <td>0.173752</td>\n",
              "      <td>0.119454</td>\n",
              "      <td>0.000000</td>\n",
              "      <td>0.099766</td>\n",
              "      <td>0.139357</td>\n",
              "      <td>0.209183</td>\n",
              "      <td>0.932374</td>\n",
              "    </tr>\n",
              "  </tbody>\n",
              "</table>\n",
              "</div>\n",
              "      <button class=\"colab-df-convert\" onclick=\"convertToInteractive('df-096f1c21-2962-4fa7-bcc7-6a5282606426')\"\n",
              "              title=\"Convert this dataframe to an interactive table.\"\n",
              "              style=\"display:none;\">\n",
              "        \n",
              "  <svg xmlns=\"http://www.w3.org/2000/svg\" height=\"24px\"viewBox=\"0 0 24 24\"\n",
              "       width=\"24px\">\n",
              "    <path d=\"M0 0h24v24H0V0z\" fill=\"none\"/>\n",
              "    <path d=\"M18.56 5.44l.94 2.06.94-2.06 2.06-.94-2.06-.94-.94-2.06-.94 2.06-2.06.94zm-11 1L8.5 8.5l.94-2.06 2.06-.94-2.06-.94L8.5 2.5l-.94 2.06-2.06.94zm10 10l.94 2.06.94-2.06 2.06-.94-2.06-.94-.94-2.06-.94 2.06-2.06.94z\"/><path d=\"M17.41 7.96l-1.37-1.37c-.4-.4-.92-.59-1.43-.59-.52 0-1.04.2-1.43.59L10.3 9.45l-7.72 7.72c-.78.78-.78 2.05 0 2.83L4 21.41c.39.39.9.59 1.41.59.51 0 1.02-.2 1.41-.59l7.78-7.78 2.81-2.81c.8-.78.8-2.07 0-2.86zM5.41 20L4 18.59l7.72-7.72 1.47 1.35L5.41 20z\"/>\n",
              "  </svg>\n",
              "      </button>\n",
              "      \n",
              "  <style>\n",
              "    .colab-df-container {\n",
              "      display:flex;\n",
              "      flex-wrap:wrap;\n",
              "      gap: 12px;\n",
              "    }\n",
              "\n",
              "    .colab-df-convert {\n",
              "      background-color: #E8F0FE;\n",
              "      border: none;\n",
              "      border-radius: 50%;\n",
              "      cursor: pointer;\n",
              "      display: none;\n",
              "      fill: #1967D2;\n",
              "      height: 32px;\n",
              "      padding: 0 0 0 0;\n",
              "      width: 32px;\n",
              "    }\n",
              "\n",
              "    .colab-df-convert:hover {\n",
              "      background-color: #E2EBFA;\n",
              "      box-shadow: 0px 1px 2px rgba(60, 64, 67, 0.3), 0px 1px 3px 1px rgba(60, 64, 67, 0.15);\n",
              "      fill: #174EA6;\n",
              "    }\n",
              "\n",
              "    [theme=dark] .colab-df-convert {\n",
              "      background-color: #3B4455;\n",
              "      fill: #D2E3FC;\n",
              "    }\n",
              "\n",
              "    [theme=dark] .colab-df-convert:hover {\n",
              "      background-color: #434B5C;\n",
              "      box-shadow: 0px 1px 3px 1px rgba(0, 0, 0, 0.15);\n",
              "      filter: drop-shadow(0px 1px 2px rgba(0, 0, 0, 0.3));\n",
              "      fill: #FFFFFF;\n",
              "    }\n",
              "  </style>\n",
              "\n",
              "      <script>\n",
              "        const buttonEl =\n",
              "          document.querySelector('#df-096f1c21-2962-4fa7-bcc7-6a5282606426 button.colab-df-convert');\n",
              "        buttonEl.style.display =\n",
              "          google.colab.kernel.accessAllowed ? 'block' : 'none';\n",
              "\n",
              "        async function convertToInteractive(key) {\n",
              "          const element = document.querySelector('#df-096f1c21-2962-4fa7-bcc7-6a5282606426');\n",
              "          const dataTable =\n",
              "            await google.colab.kernel.invokeFunction('convertToInteractive',\n",
              "                                                     [key], {});\n",
              "          if (!dataTable) return;\n",
              "\n",
              "          const docLinkHtml = 'Like what you see? Visit the ' +\n",
              "            '<a target=\"_blank\" href=https://colab.research.google.com/notebooks/data_table.ipynb>data table notebook</a>'\n",
              "            + ' to learn more about interactive tables.';\n",
              "          element.innerHTML = '';\n",
              "          dataTable['output_type'] = 'display_data';\n",
              "          await google.colab.output.renderOutput(dataTable, element);\n",
              "          const docLink = document.createElement('div');\n",
              "          docLink.innerHTML = docLinkHtml;\n",
              "          element.appendChild(docLink);\n",
              "        }\n",
              "      </script>\n",
              "    </div>\n",
              "  </div>\n",
              "  "
            ]
          },
          "metadata": {},
          "execution_count": 94
        }
      ]
    },
    {
      "cell_type": "markdown",
      "source": [
        "# Checking the correlation between each feature"
      ],
      "metadata": {
        "id": "xfEnomrxSvKL"
      }
    },
    {
      "cell_type": "code",
      "source": [
        "corr = df.corr(method = \"pearson\")\n",
        "c_map = sns.diverging_palette(250,354,80,60,center='dark',as_cmap = True)\n",
        "sns.heatmap(corr, vmax=1, vmin=-(.5), cmap=c_map, square=True, linewidths=.2)"
      ],
      "metadata": {
        "colab": {
          "base_uri": "https://localhost:8080/",
          "height": 564
        },
        "id": "qOMjbdeNVZgl",
        "outputId": "1ca2f54d-c206-4006-dfe4-340a636fa86e"
      },
      "execution_count": null,
      "outputs": [
        {
          "output_type": "stream",
          "name": "stderr",
          "text": [
            "<ipython-input-95-6db16aed4e5b>:1: FutureWarning: The default value of numeric_only in DataFrame.corr is deprecated. In a future version, it will default to False. Select only valid columns or specify the value of numeric_only to silence this warning.\n",
            "  corr = df.corr(method = \"pearson\")\n"
          ]
        },
        {
          "output_type": "execute_result",
          "data": {
            "text/plain": [
              "<Axes: >"
            ]
          },
          "metadata": {},
          "execution_count": 95
        },
        {
          "output_type": "display_data",
          "data": {
            "text/plain": [
              "<Figure size 640x480 with 2 Axes>"
            ],
            "image/png": "[encoded data removed]"
          },
          "metadata": {}
        }
      ]
    },
    {
      "cell_type": "code",
      "source": [
        "df.corr()"
      ],
      "execution_count": null,
      "outputs": [
        {
          "output_type": "stream",
          "name": "stderr",
          "text": [
            "<ipython-input-96-2f6f6606aa2c>:1: FutureWarning: The default value of numeric_only in DataFrame.corr is deprecated. In a future version, it will default to False. Select only valid columns or specify the value of numeric_only to silence this warning.\n",
            "  df.corr()\n"
          ]
        },
        {
          "output_type": "execute_result",
          "data": {
            "text/plain": [
              "          meanfreq        sd    median       Q25       Q75       IQR  \\\n",
              "meanfreq  1.000000 -0.739039  0.925445  0.911416  0.740997 -0.627605   \n",
              "sd       -0.739039  1.000000 -0.562603 -0.846931 -0.161076  0.874660   \n",
              "median    0.925445 -0.562603  1.000000  0.774922  0.731849 -0.477352   \n",
              "Q25       0.911416 -0.846931  0.774922  1.000000  0.477140 -0.874189   \n",
              "Q75       0.740997 -0.161076  0.731849  0.477140  1.000000  0.009636   \n",
              "IQR      -0.627605  0.874660 -0.477352 -0.874189  0.009636  1.000000   \n",
              "skew     -0.322327  0.314597 -0.257407 -0.319475 -0.206339  0.249497   \n",
              "kurt     -0.316036  0.346241 -0.243382 -0.350182 -0.148881  0.316185   \n",
              "sp.ent   -0.601203  0.716620 -0.502005 -0.648126 -0.174905  0.640813   \n",
              "sfm      -0.784332  0.838086 -0.661690 -0.766875 -0.378198  0.663601   \n",
              "mode      0.687715 -0.529150  0.677433  0.591277  0.486857 -0.403764   \n",
              "centroid  1.000000 -0.739039  0.925445  0.911416  0.740997 -0.627605   \n",
              "meanfun   0.460844 -0.466281  0.414909  0.545035  0.155091 -0.534462   \n",
              "minfun    0.383937 -0.345609  0.337602  0.320994  0.258002 -0.222680   \n",
              "maxfun    0.274004 -0.129662  0.251328  0.199841  0.285584 -0.069588   \n",
              "meandom   0.536666 -0.482726  0.455943  0.467403  0.359181 -0.333362   \n",
              "mindom    0.229261 -0.357667  0.191169  0.302255 -0.023750 -0.357037   \n",
              "maxdom    0.519528 -0.482278  0.438919  0.459683  0.335114 -0.337877   \n",
              "dfrange   0.515570 -0.475999  0.435621  0.454394  0.335648 -0.331563   \n",
              "modindx  -0.216979  0.122660 -0.213298 -0.141377 -0.216475  0.041252   \n",
              "\n",
              "              skew      kurt    sp.ent       sfm      mode  centroid  \\\n",
              "meanfreq -0.322327 -0.316036 -0.601203 -0.784332  0.687715  1.000000   \n",
              "sd        0.314597  0.346241  0.716620  0.838086 -0.529150 -0.739039   \n",
              "median   -0.257407 -0.243382 -0.502005 -0.661690  0.677433  0.925445   \n",
              "Q25      -0.319475 -0.350182 -0.648126 -0.766875  0.591277  0.911416   \n",
              "Q75      -0.206339 -0.148881 -0.174905 -0.378198  0.486857  0.740997   \n",
              "IQR       0.249497  0.316185  0.640813  0.663601 -0.403764 -0.627605   \n",
              "skew      1.000000  0.977020 -0.195459  0.079694 -0.434859 -0.322327   \n",
              "kurt      0.977020  1.000000 -0.127644  0.109884 -0.406722 -0.316036   \n",
              "sp.ent   -0.195459 -0.127644  1.000000  0.866411 -0.325298 -0.601203   \n",
              "sfm       0.079694  0.109884  0.866411  1.000000 -0.485913 -0.784332   \n",
              "mode     -0.434859 -0.406722 -0.325298 -0.485913  1.000000  0.687715   \n",
              "centroid -0.322327 -0.316036 -0.601203 -0.784332  0.687715  1.000000   \n",
              "meanfun  -0.167668 -0.194560 -0.513194 -0.421066  0.324771  0.460844   \n",
              "minfun   -0.216954 -0.203201 -0.305826 -0.362100  0.385467  0.383937   \n",
              "maxfun   -0.080861 -0.045667 -0.120738 -0.192369  0.172329  0.274004   \n",
              "meandom  -0.336848 -0.303234 -0.293562 -0.428442  0.491479  0.536666   \n",
              "mindom   -0.061608 -0.103313 -0.294869 -0.289593  0.198150  0.229261   \n",
              "maxdom   -0.305651 -0.274500 -0.324253 -0.436649  0.477187  0.519528   \n",
              "dfrange  -0.304640 -0.272729 -0.319054 -0.431580  0.473775  0.515570   \n",
              "modindx  -0.169325 -0.205539  0.198074  0.211477 -0.182344 -0.216979   \n",
              "\n",
              "           meanfun    minfun    maxfun   meandom    mindom    maxdom  \\\n",
              "meanfreq  0.460844  0.383937  0.274004  0.536666  0.229261  0.519528   \n",
              "sd       -0.466281 -0.345609 -0.129662 -0.482726 -0.357667 -0.482278   \n",
              "median    0.414909  0.337602  0.251328  0.455943  0.191169  0.438919   \n",
              "Q25       0.545035  0.320994  0.199841  0.467403  0.302255  0.459683   \n",
              "Q75       0.155091  0.258002  0.285584  0.359181 -0.023750  0.335114   \n",
              "IQR      -0.534462 -0.222680 -0.069588 -0.333362 -0.357037 -0.337877   \n",
              "skew     -0.167668 -0.216954 -0.080861 -0.336848 -0.061608 -0.305651   \n",
              "kurt     -0.194560 -0.203201 -0.045667 -0.303234 -0.103313 -0.274500   \n",
              "sp.ent   -0.513194 -0.305826 -0.120738 -0.293562 -0.294869 -0.324253   \n",
              "sfm      -0.421066 -0.362100 -0.192369 -0.428442 -0.289593 -0.436649   \n",
              "mode      0.324771  0.385467  0.172329  0.491479  0.198150  0.477187   \n",
              "centroid  0.460844  0.383937  0.274004  0.536666  0.229261  0.519528   \n",
              "meanfun   1.000000  0.339387  0.311950  0.270840  0.162163  0.277982   \n",
              "minfun    0.339387  1.000000  0.213987  0.375979  0.082015  0.317860   \n",
              "maxfun    0.311950  0.213987  1.000000  0.337553 -0.243426  0.355390   \n",
              "meandom   0.270840  0.375979  0.337553  1.000000  0.099656  0.812838   \n",
              "mindom    0.162163  0.082015 -0.243426  0.099656  1.000000  0.026640   \n",
              "maxdom    0.277982  0.317860  0.355390  0.812838  0.026640  1.000000   \n",
              "dfrange   0.275154  0.316486  0.359880  0.811304  0.008666  0.999838   \n",
              "modindx  -0.054858  0.002042 -0.363029 -0.180954  0.200212 -0.425531   \n",
              "\n",
              "           dfrange   modindx  \n",
              "meanfreq  0.515570 -0.216979  \n",
              "sd       -0.475999  0.122660  \n",
              "median    0.435621 -0.213298  \n",
              "Q25       0.454394 -0.141377  \n",
              "Q75       0.335648 -0.216475  \n",
              "IQR      -0.331563  0.041252  \n",
              "skew     -0.304640 -0.169325  \n",
              "kurt     -0.272729 -0.205539  \n",
              "sp.ent   -0.319054  0.198074  \n",
              "sfm      -0.431580  0.211477  \n",
              "mode      0.473775 -0.182344  \n",
              "centroid  0.515570 -0.216979  \n",
              "meanfun   0.275154 -0.054858  \n",
              "minfun    0.316486  0.002042  \n",
              "maxfun    0.359880 -0.363029  \n",
              "meandom   0.811304 -0.180954  \n",
              "mindom    0.008666  0.200212  \n",
              "maxdom    0.999838 -0.425531  \n",
              "dfrange   1.000000 -0.429266  \n",
              "modindx  -0.429266  1.000000  "
            ],
            "text/html": [
              "\n",
              "  <div id=\"df-4cde64d5-eab7-4946-a3b3-918b11f57af2\">\n",
              "    <div class=\"colab-df-container\">\n",
              "      <div>\n",
              "<style scoped>\n",
              "    .dataframe tbody tr th:only-of-type {\n",
              "        vertical-align: middle;\n",
              "    }\n",
              "\n",
              "    .dataframe tbody tr th {\n",
              "        vertical-align: top;\n",
              "    }\n",
              "\n",
              "    .dataframe thead th {\n",
              "        text-align: right;\n",
              "    }\n",
              "</style>\n",
              "<table border=\"1\" class=\"dataframe\">\n",
              "  <thead>\n",
              "    <tr style=\"text-align: right;\">\n",
              "      <th></th>\n",
              "      <th>meanfreq</th>\n",
              "      <th>sd</th>\n",
              "      <th>median</th>\n",
              "      <th>Q25</th>\n",
              "      <th>Q75</th>\n",
              "      <th>IQR</th>\n",
              "      <th>skew</th>\n",
              "      <th>kurt</th>\n",
              "      <th>sp.ent</th>\n",
              "      <th>sfm</th>\n",
              "      <th>mode</th>\n",
              "      <th>centroid</th>\n",
              "      <th>meanfun</th>\n",
              "      <th>minfun</th>\n",
              "      <th>maxfun</th>\n",
              "      <th>meandom</th>\n",
              "      <th>mindom</th>\n",
              "      <th>maxdom</th>\n",
              "      <th>dfrange</th>\n",
              "      <th>modindx</th>\n",
              "    </tr>\n",
              "  </thead>\n",
              "  <tbody>\n",
              "    <tr>\n",
              "      <th>meanfreq</th>\n",
              "      <td>1.000000</td>\n",
              "      <td>-0.739039</td>\n",
              "      <td>0.925445</td>\n",
              "      <td>0.911416</td>\n",
              "      <td>0.740997</td>\n",
              "      <td>-0.627605</td>\n",
              "      <td>-0.322327</td>\n",
              "      <td>-0.316036</td>\n",
              "      <td>-0.601203</td>\n",
              "      <td>-0.784332</td>\n",
              "      <td>0.687715</td>\n",
              "      <td>1.000000</td>\n",
              "      <td>0.460844</td>\n",
              "      <td>0.383937</td>\n",
              "      <td>0.274004</td>\n",
              "      <td>0.536666</td>\n",
              "      <td>0.229261</td>\n",
              "      <td>0.519528</td>\n",
              "      <td>0.515570</td>\n",
              "      <td>-0.216979</td>\n",
              "    </tr>\n",
              "    <tr>\n",
              "      <th>sd</th>\n",
              "      <td>-0.739039</td>\n",
              "      <td>1.000000</td>\n",
              "      <td>-0.562603</td>\n",
              "      <td>-0.846931</td>\n",
              "      <td>-0.161076</td>\n",
              "      <td>0.874660</td>\n",
              "      <td>0.314597</td>\n",
              "      <td>0.346241</td>\n",
              "      <td>0.716620</td>\n",
              "      <td>0.838086</td>\n",
              "      <td>-0.529150</td>\n",
              "      <td>-0.739039</td>\n",
              "      <td>-0.466281</td>\n",
              "      <td>-0.345609</td>\n",
              "      <td>-0.129662</td>\n",
              "      <td>-0.482726</td>\n",
              "      <td>-0.357667</td>\n",
              "      <td>-0.482278</td>\n",
              "      <td>-0.475999</td>\n",
              "      <td>0.122660</td>\n",
              "    </tr>\n",
              "    <tr>\n",
              "      <th>median</th>\n",
              "      <td>0.925445</td>\n",
              "      <td>-0.562603</td>\n",
              "      <td>1.000000</td>\n",
              "      <td>0.774922</td>\n",
              "      <td>0.731849</td>\n",
              "      <td>-0.477352</td>\n",
              "      <td>-0.257407</td>\n",
              "      <td>-0.243382</td>\n",
              "      <td>-0.502005</td>\n",
              "      <td>-0.661690</td>\n",
              "      <td>0.677433</td>\n",
              "      <td>0.925445</td>\n",
              "      <td>0.414909</td>\n",
              "      <td>0.337602</td>\n",
              "      <td>0.251328</td>\n",
              "      <td>0.455943</td>\n",
              "      <td>0.191169</td>\n",
              "      <td>0.438919</td>\n",
              "      <td>0.435621</td>\n",
              "      <td>-0.213298</td>\n",
              "    </tr>\n",
              "    <tr>\n",
              "      <th>Q25</th>\n",
              "      <td>0.911416</td>\n",
              "      <td>-0.846931</td>\n",
              "      <td>0.774922</td>\n",
              "      <td>1.000000</td>\n",
              "      <td>0.477140</td>\n",
              "      <td>-0.874189</td>\n",
              "      <td>-0.319475</td>\n",
              "      <td>-0.350182</td>\n",
              "      <td>-0.648126</td>\n",
              "      <td>-0.766875</td>\n",
              "      <td>0.591277</td>\n",
              "      <td>0.911416</td>\n",
              "      <td>0.545035</td>\n",
              "      <td>0.320994</td>\n",
              "      <td>0.199841</td>\n",
              "      <td>0.467403</td>\n",
              "      <td>0.302255</td>\n",
              "      <td>0.459683</td>\n",
              "      <td>0.454394</td>\n",
              "      <td>-0.141377</td>\n",
              "    </tr>\n",
              "    <tr>\n",
              "      <th>Q75</th>\n",
              "      <td>0.740997</td>\n",
              "      <td>-0.161076</td>\n",
              "      <td>0.731849</td>\n",
              "      <td>0.477140</td>\n",
              "      <td>1.000000</td>\n",
              "      <td>0.009636</td>\n",
              "      <td>-0.206339</td>\n",
              "      <td>-0.148881</td>\n",
              "      <td>-0.174905</td>\n",
              "      <td>-0.378198</td>\n",
              "      <td>0.486857</td>\n",
              "      <td>0.740997</td>\n",
              "      <td>0.155091</td>\n",
              "      <td>0.258002</td>\n",
              "      <td>0.285584</td>\n",
              "      <td>0.359181</td>\n",
              "      <td>-0.023750</td>\n",
              "      <td>0.335114</td>\n",
              "      <td>0.335648</td>\n",
              "      <td>-0.216475</td>\n",
              "    </tr>\n",
              "    <tr>\n",
              "      <th>IQR</th>\n",
              "      <td>-0.627605</td>\n",
              "      <td>0.874660</td>\n",
              "      <td>-0.477352</td>\n",
              "      <td>-0.874189</td>\n",
              "      <td>0.009636</td>\n",
              "      <td>1.000000</td>\n",
              "      <td>0.249497</td>\n",
              "      <td>0.316185</td>\n",
              "      <td>0.640813</td>\n",
              "      <td>0.663601</td>\n",
              "      <td>-0.403764</td>\n",
              "      <td>-0.627605</td>\n",
              "      <td>-0.534462</td>\n",
              "      <td>-0.222680</td>\n",
              "      <td>-0.069588</td>\n",
              "      <td>-0.333362</td>\n",
              "      <td>-0.357037</td>\n",
              "      <td>-0.337877</td>\n",
              "      <td>-0.331563</td>\n",
              "      <td>0.041252</td>\n",
              "    </tr>\n",
              "    <tr>\n",
              "      <th>skew</th>\n",
              "      <td>-0.322327</td>\n",
              "      <td>0.314597</td>\n",
              "      <td>-0.257407</td>\n",
              "      <td>-0.319475</td>\n",
              "      <td>-0.206339</td>\n",
              "      <td>0.249497</td>\n",
              "      <td>1.000000</td>\n",
              "      <td>0.977020</td>\n",
              "      <td>-0.195459</td>\n",
              "      <td>0.079694</td>\n",
              "      <td>-0.434859</td>\n",
              "      <td>-0.322327</td>\n",
              "      <td>-0.167668</td>\n",
              "      <td>-0.216954</td>\n",
              "      <td>-0.080861</td>\n",
              "      <td>-0.336848</td>\n",
              "      <td>-0.061608</td>\n",
              "      <td>-0.305651</td>\n",
              "      <td>-0.304640</td>\n",
              "      <td>-0.169325</td>\n",
              "    </tr>\n",
              "    <tr>\n",
              "      <th>kurt</th>\n",
              "      <td>-0.316036</td>\n",
              "      <td>0.346241</td>\n",
              "      <td>-0.243382</td>\n",
              "      <td>-0.350182</td>\n",
              "      <td>-0.148881</td>\n",
              "      <td>0.316185</td>\n",
              "      <td>0.977020</td>\n",
              "      <td>1.000000</td>\n",
              "      <td>-0.127644</td>\n",
              "      <td>0.109884</td>\n",
              "      <td>-0.406722</td>\n",
              "      <td>-0.316036</td>\n",
              "      <td>-0.194560</td>\n",
              "      <td>-0.203201</td>\n",
              "      <td>-0.045667</td>\n",
              "      <td>-0.303234</td>\n",
              "      <td>-0.103313</td>\n",
              "      <td>-0.274500</td>\n",
              "      <td>-0.272729</td>\n",
              "      <td>-0.205539</td>\n",
              "    </tr>\n",
              "    <tr>\n",
              "      <th>sp.ent</th>\n",
              "      <td>-0.601203</td>\n",
              "      <td>0.716620</td>\n",
              "      <td>-0.502005</td>\n",
              "      <td>-0.648126</td>\n",
              "      <td>-0.174905</td>\n",
              "      <td>0.640813</td>\n",
              "      <td>-0.195459</td>\n",
              "      <td>-0.127644</td>\n",
              "      <td>1.000000</td>\n",
              "      <td>0.866411</td>\n",
              "      <td>-0.325298</td>\n",
              "      <td>-0.601203</td>\n",
              "      <td>-0.513194</td>\n",
              "      <td>-0.305826</td>\n",
              "      <td>-0.120738</td>\n",
              "      <td>-0.293562</td>\n",
              "      <td>-0.294869</td>\n",
              "      <td>-0.324253</td>\n",
              "      <td>-0.319054</td>\n",
              "      <td>0.198074</td>\n",
              "    </tr>\n",
              "    <tr>\n",
              "      <th>sfm</th>\n",
              "      <td>-0.784332</td>\n",
              "      <td>0.838086</td>\n",
              "      <td>-0.661690</td>\n",
              "      <td>-0.766875</td>\n",
              "      <td>-0.378198</td>\n",
              "      <td>0.663601</td>\n",
              "      <td>0.079694</td>\n",
              "      <td>0.109884</td>\n",
              "      <td>0.866411</td>\n",
              "      <td>1.000000</td>\n",
              "      <td>-0.485913</td>\n",
              "      <td>-0.784332</td>\n",
              "      <td>-0.421066</td>\n",
              "      <td>-0.362100</td>\n",
              "      <td>-0.192369</td>\n",
              "      <td>-0.428442</td>\n",
              "      <td>-0.289593</td>\n",
              "      <td>-0.436649</td>\n",
              "      <td>-0.431580</td>\n",
              "      <td>0.211477</td>\n",
              "    </tr>\n",
              "    <tr>\n",
              "      <th>mode</th>\n",
              "      <td>0.687715</td>\n",
              "      <td>-0.529150</td>\n",
              "      <td>0.677433</td>\n",
              "      <td>0.591277</td>\n",
              "      <td>0.486857</td>\n",
              "      <td>-0.403764</td>\n",
              "      <td>-0.434859</td>\n",
              "      <td>-0.406722</td>\n",
              "      <td>-0.325298</td>\n",
              "      <td>-0.485913</td>\n",
              "      <td>1.000000</td>\n",
              "      <td>0.687715</td>\n",
              "      <td>0.324771</td>\n",
              "      <td>0.385467</td>\n",
              "      <td>0.172329</td>\n",
              "      <td>0.491479</td>\n",
              "      <td>0.198150</td>\n",
              "      <td>0.477187</td>\n",
              "      <td>0.473775</td>\n",
              "      <td>-0.182344</td>\n",
              "    </tr>\n",
              "    <tr>\n",
              "      <th>centroid</th>\n",
              "      <td>1.000000</td>\n",
              "      <td>-0.739039</td>\n",
              "      <td>0.925445</td>\n",
              "      <td>0.911416</td>\n",
              "      <td>0.740997</td>\n",
              "      <td>-0.627605</td>\n",
              "      <td>-0.322327</td>\n",
              "      <td>-0.316036</td>\n",
              "      <td>-0.601203</td>\n",
              "      <td>-0.784332</td>\n",
              "      <td>0.687715</td>\n",
              "      <td>1.000000</td>\n",
              "      <td>0.460844</td>\n",
              "      <td>0.383937</td>\n",
              "      <td>0.274004</td>\n",
              "      <td>0.536666</td>\n",
              "      <td>0.229261</td>\n",
              "      <td>0.519528</td>\n",
              "      <td>0.515570</td>\n",
              "      <td>-0.216979</td>\n",
              "    </tr>\n",
              "    <tr>\n",
              "      <th>meanfun</th>\n",
              "      <td>0.460844</td>\n",
              "      <td>-0.466281</td>\n",
              "      <td>0.414909</td>\n",
              "      <td>0.545035</td>\n",
              "      <td>0.155091</td>\n",
              "      <td>-0.534462</td>\n",
              "      <td>-0.167668</td>\n",
              "      <td>-0.194560</td>\n",
              "      <td>-0.513194</td>\n",
              "      <td>-0.421066</td>\n",
              "      <td>0.324771</td>\n",
              "      <td>0.460844</td>\n",
              "      <td>1.000000</td>\n",
              "      <td>0.339387</td>\n",
              "      <td>0.311950</td>\n",
              "      <td>0.270840</td>\n",
              "      <td>0.162163</td>\n",
              "      <td>0.277982</td>\n",
              "      <td>0.275154</td>\n",
              "      <td>-0.054858</td>\n",
              "    </tr>\n",
              "    <tr>\n",
              "      <th>minfun</th>\n",
              "      <td>0.383937</td>\n",
              "      <td>-0.345609</td>\n",
              "      <td>0.337602</td>\n",
              "      <td>0.320994</td>\n",
              "      <td>0.258002</td>\n",
              "      <td>-0.222680</td>\n",
              "      <td>-0.216954</td>\n",
              "      <td>-0.203201</td>\n",
              "      <td>-0.305826</td>\n",
              "      <td>-0.362100</td>\n",
              "      <td>0.385467</td>\n",
              "      <td>0.383937</td>\n",
              "      <td>0.339387</td>\n",
              "      <td>1.000000</td>\n",
              "      <td>0.213987</td>\n",
              "      <td>0.375979</td>\n",
              "      <td>0.082015</td>\n",
              "      <td>0.317860</td>\n",
              "      <td>0.316486</td>\n",
              "      <td>0.002042</td>\n",
              "    </tr>\n",
              "    <tr>\n",
              "      <th>maxfun</th>\n",
              "      <td>0.274004</td>\n",
              "      <td>-0.129662</td>\n",
              "      <td>0.251328</td>\n",
              "      <td>0.199841</td>\n",
              "      <td>0.285584</td>\n",
              "      <td>-0.069588</td>\n",
              "      <td>-0.080861</td>\n",
              "      <td>-0.045667</td>\n",
              "      <td>-0.120738</td>\n",
              "      <td>-0.192369</td>\n",
              "      <td>0.172329</td>\n",
              "      <td>0.274004</td>\n",
              "      <td>0.311950</td>\n",
              "      <td>0.213987</td>\n",
              "      <td>1.000000</td>\n",
              "      <td>0.337553</td>\n",
              "      <td>-0.243426</td>\n",
              "      <td>0.355390</td>\n",
              "      <td>0.359880</td>\n",
              "      <td>-0.363029</td>\n",
              "    </tr>\n",
              "    <tr>\n",
              "      <th>meandom</th>\n",
              "      <td>0.536666</td>\n",
              "      <td>-0.482726</td>\n",
              "      <td>0.455943</td>\n",
              "      <td>0.467403</td>\n",
              "      <td>0.359181</td>\n",
              "      <td>-0.333362</td>\n",
              "      <td>-0.336848</td>\n",
              "      <td>-0.303234</td>\n",
              "      <td>-0.293562</td>\n",
              "      <td>-0.428442</td>\n",
              "      <td>0.491479</td>\n",
              "      <td>0.536666</td>\n",
              "      <td>0.270840</td>\n",
              "      <td>0.375979</td>\n",
              "      <td>0.337553</td>\n",
              "      <td>1.000000</td>\n",
              "      <td>0.099656</td>\n",
              "      <td>0.812838</td>\n",
              "      <td>0.811304</td>\n",
              "      <td>-0.180954</td>\n",
              "    </tr>\n",
              "    <tr>\n",
              "      <th>mindom</th>\n",
              "      <td>0.229261</td>\n",
              "      <td>-0.357667</td>\n",
              "      <td>0.191169</td>\n",
              "      <td>0.302255</td>\n",
              "      <td>-0.023750</td>\n",
              "      <td>-0.357037</td>\n",
              "      <td>-0.061608</td>\n",
              "      <td>-0.103313</td>\n",
              "      <td>-0.294869</td>\n",
              "      <td>-0.289593</td>\n",
              "      <td>0.198150</td>\n",
              "      <td>0.229261</td>\n",
              "      <td>0.162163</td>\n",
              "      <td>0.082015</td>\n",
              "      <td>-0.243426</td>\n",
              "      <td>0.099656</td>\n",
              "      <td>1.000000</td>\n",
              "      <td>0.026640</td>\n",
              "      <td>0.008666</td>\n",
              "      <td>0.200212</td>\n",
              "    </tr>\n",
              "    <tr>\n",
              "      <th>maxdom</th>\n",
              "      <td>0.519528</td>\n",
              "      <td>-0.482278</td>\n",
              "      <td>0.438919</td>\n",
              "      <td>0.459683</td>\n",
              "      <td>0.335114</td>\n",
              "      <td>-0.337877</td>\n",
              "      <td>-0.305651</td>\n",
              "      <td>-0.274500</td>\n",
              "      <td>-0.324253</td>\n",
              "      <td>-0.436649</td>\n",
              "      <td>0.477187</td>\n",
              "      <td>0.519528</td>\n",
              "      <td>0.277982</td>\n",
              "      <td>0.317860</td>\n",
              "      <td>0.355390</td>\n",
              "      <td>0.812838</td>\n",
              "      <td>0.026640</td>\n",
              "      <td>1.000000</td>\n",
              "      <td>0.999838</td>\n",
              "      <td>-0.425531</td>\n",
              "    </tr>\n",
              "    <tr>\n",
              "      <th>dfrange</th>\n",
              "      <td>0.515570</td>\n",
              "      <td>-0.475999</td>\n",
              "      <td>0.435621</td>\n",
              "      <td>0.454394</td>\n",
              "      <td>0.335648</td>\n",
              "      <td>-0.331563</td>\n",
              "      <td>-0.304640</td>\n",
              "      <td>-0.272729</td>\n",
              "      <td>-0.319054</td>\n",
              "      <td>-0.431580</td>\n",
              "      <td>0.473775</td>\n",
              "      <td>0.515570</td>\n",
              "      <td>0.275154</td>\n",
              "      <td>0.316486</td>\n",
              "      <td>0.359880</td>\n",
              "      <td>0.811304</td>\n",
              "      <td>0.008666</td>\n",
              "      <td>0.999838</td>\n",
              "      <td>1.000000</td>\n",
              "      <td>-0.429266</td>\n",
              "    </tr>\n",
              "    <tr>\n",
              "      <th>modindx</th>\n",
              "      <td>-0.216979</td>\n",
              "      <td>0.122660</td>\n",
              "      <td>-0.213298</td>\n",
              "      <td>-0.141377</td>\n",
              "      <td>-0.216475</td>\n",
              "      <td>0.041252</td>\n",
              "      <td>-0.169325</td>\n",
              "      <td>-0.205539</td>\n",
              "      <td>0.198074</td>\n",
              "      <td>0.211477</td>\n",
              "      <td>-0.182344</td>\n",
              "      <td>-0.216979</td>\n",
              "      <td>-0.054858</td>\n",
              "      <td>0.002042</td>\n",
              "      <td>-0.363029</td>\n",
              "      <td>-0.180954</td>\n",
              "      <td>0.200212</td>\n",
              "      <td>-0.425531</td>\n",
              "      <td>-0.429266</td>\n",
              "      <td>1.000000</td>\n",
              "    </tr>\n",
              "  </tbody>\n",
              "</table>\n",
              "</div>\n",
              "      <button class=\"colab-df-convert\" onclick=\"convertToInteractive('df-4cde64d5-eab7-4946-a3b3-918b11f57af2')\"\n",
              "              title=\"Convert this dataframe to an interactive table.\"\n",
              "              style=\"display:none;\">\n",
              "        \n",
              "  <svg xmlns=\"http://www.w3.org/2000/svg\" height=\"24px\"viewBox=\"0 0 24 24\"\n",
              "       width=\"24px\">\n",
              "    <path d=\"M0 0h24v24H0V0z\" fill=\"none\"/>\n",
              "    <path d=\"M18.56 5.44l.94 2.06.94-2.06 2.06-.94-2.06-.94-.94-2.06-.94 2.06-2.06.94zm-11 1L8.5 8.5l.94-2.06 2.06-.94-2.06-.94L8.5 2.5l-.94 2.06-2.06.94zm10 10l.94 2.06.94-2.06 2.06-.94-2.06-.94-.94-2.06-.94 2.06-2.06.94z\"/><path d=\"M17.41 7.96l-1.37-1.37c-.4-.4-.92-.59-1.43-.59-.52 0-1.04.2-1.43.59L10.3 9.45l-7.72 7.72c-.78.78-.78 2.05 0 2.83L4 21.41c.39.39.9.59 1.41.59.51 0 1.02-.2 1.41-.59l7.78-7.78 2.81-2.81c.8-.78.8-2.07 0-2.86zM5.41 20L4 18.59l7.72-7.72 1.47 1.35L5.41 20z\"/>\n",
              "  </svg>\n",
              "      </button>\n",
              "      \n",
              "  <style>\n",
              "    .colab-df-container {\n",
              "      display:flex;\n",
              "      flex-wrap:wrap;\n",
              "      gap: 12px;\n",
              "    }\n",
              "\n",
              "    .colab-df-convert {\n",
              "      background-color: #E8F0FE;\n",
              "      border: none;\n",
              "      border-radius: 50%;\n",
              "      cursor: pointer;\n",
              "      display: none;\n",
              "      fill: #1967D2;\n",
              "      height: 32px;\n",
              "      padding: 0 0 0 0;\n",
              "      width: 32px;\n",
              "    }\n",
              "\n",
              "    .colab-df-convert:hover {\n",
              "      background-color: #E2EBFA;\n",
              "      box-shadow: 0px 1px 2px rgba(60, 64, 67, 0.3), 0px 1px 3px 1px rgba(60, 64, 67, 0.15);\n",
              "      fill: #174EA6;\n",
              "    }\n",
              "\n",
              "    [theme=dark] .colab-df-convert {\n",
              "      background-color: #3B4455;\n",
              "      fill: #D2E3FC;\n",
              "    }\n",
              "\n",
              "    [theme=dark] .colab-df-convert:hover {\n",
              "      background-color: #434B5C;\n",
              "      box-shadow: 0px 1px 3px 1px rgba(0, 0, 0, 0.15);\n",
              "      filter: drop-shadow(0px 1px 2px rgba(0, 0, 0, 0.3));\n",
              "      fill: #FFFFFF;\n",
              "    }\n",
              "  </style>\n",
              "\n",
              "      <script>\n",
              "        const buttonEl =\n",
              "          document.querySelector('#df-4cde64d5-eab7-4946-a3b3-918b11f57af2 button.colab-df-convert');\n",
              "        buttonEl.style.display =\n",
              "          google.colab.kernel.accessAllowed ? 'block' : 'none';\n",
              "\n",
              "        async function convertToInteractive(key) {\n",
              "          const element = document.querySelector('#df-4cde64d5-eab7-4946-a3b3-918b11f57af2');\n",
              "          const dataTable =\n",
              "            await google.colab.kernel.invokeFunction('convertToInteractive',\n",
              "                                                     [key], {});\n",
              "          if (!dataTable) return;\n",
              "\n",
              "          const docLinkHtml = 'Like what you see? Visit the ' +\n",
              "            '<a target=\"_blank\" href=https://colab.research.google.com/notebooks/data_table.ipynb>data table notebook</a>'\n",
              "            + ' to learn more about interactive tables.';\n",
              "          element.innerHTML = '';\n",
              "          dataTable['output_type'] = 'display_data';\n",
              "          await google.colab.output.renderOutput(dataTable, element);\n",
              "          const docLink = document.createElement('div');\n",
              "          docLink.innerHTML = docLinkHtml;\n",
              "          element.appendChild(docLink);\n",
              "        }\n",
              "      </script>\n",
              "    </div>\n",
              "  </div>\n",
              "  "
            ]
          },
          "metadata": {},
          "execution_count": 96
        }
      ],
      "metadata": {
        "colab": {
          "base_uri": "https://localhost:8080/",
          "height": 775
        },
        "id": "ZLEbP3EKSvKL",
        "outputId": "1f0777c4-8d22-4f5e-c1d6-162767cd158a"
      }
    },
    {
      "cell_type": "markdown",
      "source": [
        "# Checking whether there is any null values"
      ],
      "metadata": {
        "id": "4oiKGqo1SvKM"
      }
    },
    {
      "cell_type": "code",
      "source": [
        "df.isnull().sum()"
      ],
      "execution_count": null,
      "outputs": [
        {
          "output_type": "execute_result",
          "data": {
            "text/plain": [
              "meanfreq    0\n",
              "sd          0\n",
              "median      0\n",
              "Q25         0\n",
              "Q75         0\n",
              "IQR         0\n",
              "skew        0\n",
              "kurt        0\n",
              "sp.ent      0\n",
              "sfm         0\n",
              "mode        0\n",
              "centroid    0\n",
              "meanfun     0\n",
              "minfun      0\n",
              "maxfun      0\n",
              "meandom     0\n",
              "mindom      0\n",
              "maxdom      0\n",
              "dfrange     0\n",
              "modindx     0\n",
              "label       0\n",
              "dtype: int64"
            ]
          },
          "metadata": {},
          "execution_count": 97
        }
      ],
      "metadata": {
        "colab": {
          "base_uri": "https://localhost:8080/"
        },
        "id": "PGoh5VBvSvKM",
        "outputId": "6daa5ca5-86df-42e1-813a-48a28fcd4111"
      }
    },
    {
      "cell_type": "code",
      "source": [
        "df.shape"
      ],
      "execution_count": null,
      "outputs": [
        {
          "output_type": "execute_result",
          "data": {
            "text/plain": [
              "(3168, 21)"
            ]
          },
          "metadata": {},
          "execution_count": 98
        }
      ],
      "metadata": {
        "colab": {
          "base_uri": "https://localhost:8080/"
        },
        "id": "vwkhxQLzSvKN",
        "outputId": "931138ca-255c-4c5a-b7e7-0fb12075b63e"
      }
    },
    {
      "cell_type": "code",
      "source": [
        "print(\"Total number of labels: {}\".format(df.shape[0]))\n",
        "print(\"Number of male: {}\".format(df[df.label == 'male'].shape[0]))\n",
        "print(\"Number of female: {}\".format(df[df.label == 'female'].shape[0]))"
      ],
      "execution_count": null,
      "outputs": [
        {
          "output_type": "stream",
          "name": "stdout",
          "text": [
            "Total number of labels: 3168\n",
            "Number of male: 1584\n",
            "Number of female: 1584\n"
          ]
        }
      ],
      "metadata": {
        "colab": {
          "base_uri": "https://localhost:8080/"
        },
        "id": "VjdFSgEHSvKO",
        "outputId": "e190ef0d-21fa-4bf4-aa13-62df6b79af24"
      }
    },
    {
      "cell_type": "markdown",
      "source": [
        "Thus we can see there are equal number of male and female labels"
      ],
      "metadata": {
        "id": "6_B5Fta8SvKO"
      }
    },
    {
      "cell_type": "code",
      "source": [
        "df.shape"
      ],
      "execution_count": null,
      "outputs": [
        {
          "output_type": "execute_result",
          "data": {
            "text/plain": [
              "(3168, 21)"
            ]
          },
          "metadata": {},
          "execution_count": 100
        }
      ],
      "metadata": {
        "colab": {
          "base_uri": "https://localhost:8080/"
        },
        "id": "Hdjs2bTJSvKO",
        "outputId": "1d055914-a7d7-43ff-a26f-a2ee4c3adb16"
      }
    },
    {
      "cell_type": "markdown",
      "source": [
        "There are 21 features and 3168 instances."
      ],
      "metadata": {
        "id": "uzd7Q7POSvKO"
      }
    },
    {
      "cell_type": "markdown",
      "source": [
        "# Separating features and labels"
      ],
      "metadata": {
        "id": "AUD_zAaJSvKP"
      }
    },
    {
      "cell_type": "code",
      "source": [
        "X=df.drop(['label'],axis=1)\n",
        "X.head()"
      ],
      "execution_count": null,
      "outputs": [
        {
          "output_type": "execute_result",
          "data": {
            "text/plain": [
              "   meanfreq        sd    median       Q25       Q75       IQR       skew  \\\n",
              "0  0.059781  0.064241  0.032027  0.015071  0.090193  0.075122  12.863462   \n",
              "1  0.066009  0.067310  0.040229  0.019414  0.092666  0.073252  22.423285   \n",
              "2  0.077316  0.083829  0.036718  0.008701  0.131908  0.123207  30.757155   \n",
              "3  0.151228  0.072111  0.158011  0.096582  0.207955  0.111374   1.232831   \n",
              "4  0.135120  0.079146  0.124656  0.078720  0.206045  0.127325   1.101174   \n",
              "\n",
              "          kurt    sp.ent       sfm      mode  centroid   meanfun    minfun  \\\n",
              "0   274.402906  0.893369  0.491918  0.000000  0.059781  0.084279  0.015702   \n",
              "1   634.613855  0.892193  0.513724  0.000000  0.066009  0.107937  0.015826   \n",
              "2  1024.927705  0.846389  0.478905  0.000000  0.077316  0.098706  0.015656   \n",
              "3     4.177296  0.963322  0.727232  0.083878  0.151228  0.088965  0.017798   \n",
              "4     4.333713  0.971955  0.783568  0.104261  0.135120  0.106398  0.016931   \n",
              "\n",
              "     maxfun   meandom    mindom    maxdom   dfrange   modindx  \n",
              "0  0.275862  0.007812  0.007812  0.007812  0.000000  0.000000  \n",
              "1  0.250000  0.009014  0.007812  0.054688  0.046875  0.052632  \n",
              "2  0.271186  0.007990  0.007812  0.015625  0.007812  0.046512  \n",
              "3  0.250000  0.201497  0.007812  0.562500  0.554688  0.247119  \n",
              "4  0.266667  0.712812  0.007812  5.484375  5.476562  0.208274  "
            ],
            "text/html": [
              "\n",
              "  <div id=\"df-81e158f4-09c9-4c0a-b99b-76312aa5d8c7\">\n",
              "    <div class=\"colab-df-container\">\n",
              "      <div>\n",
              "<style scoped>\n",
              "    .dataframe tbody tr th:only-of-type {\n",
              "        vertical-align: middle;\n",
              "    }\n",
              "\n",
              "    .dataframe tbody tr th {\n",
              "        vertical-align: top;\n",
              "    }\n",
              "\n",
              "    .dataframe thead th {\n",
              "        text-align: right;\n",
              "    }\n",
              "</style>\n",
              "<table border=\"1\" class=\"dataframe\">\n",
              "  <thead>\n",
              "    <tr style=\"text-align: right;\">\n",
              "      <th></th>\n",
              "      <th>meanfreq</th>\n",
              "      <th>sd</th>\n",
              "      <th>median</th>\n",
              "      <th>Q25</th>\n",
              "      <th>Q75</th>\n",
              "      <th>IQR</th>\n",
              "      <th>skew</th>\n",
              "      <th>kurt</th>\n",
              "      <th>sp.ent</th>\n",
              "      <th>sfm</th>\n",
              "      <th>mode</th>\n",
              "      <th>centroid</th>\n",
              "      <th>meanfun</th>\n",
              "      <th>minfun</th>\n",
              "      <th>maxfun</th>\n",
              "      <th>meandom</th>\n",
              "      <th>mindom</th>\n",
              "      <th>maxdom</th>\n",
              "      <th>dfrange</th>\n",
              "      <th>modindx</th>\n",
              "    </tr>\n",
              "  </thead>\n",
              "  <tbody>\n",
              "    <tr>\n",
              "      <th>0</th>\n",
              "      <td>0.059781</td>\n",
              "      <td>0.064241</td>\n",
              "      <td>0.032027</td>\n",
              "      <td>0.015071</td>\n",
              "      <td>0.090193</td>\n",
              "      <td>0.075122</td>\n",
              "      <td>12.863462</td>\n",
              "      <td>274.402906</td>\n",
              "      <td>0.893369</td>\n",
              "      <td>0.491918</td>\n",
              "      <td>0.000000</td>\n",
              "      <td>0.059781</td>\n",
              "      <td>0.084279</td>\n",
              "      <td>0.015702</td>\n",
              "      <td>0.275862</td>\n",
              "      <td>0.007812</td>\n",
              "      <td>0.007812</td>\n",
              "      <td>0.007812</td>\n",
              "      <td>0.000000</td>\n",
              "      <td>0.000000</td>\n",
              "    </tr>\n",
              "    <tr>\n",
              "      <th>1</th>\n",
              "      <td>0.066009</td>\n",
              "      <td>0.067310</td>\n",
              "      <td>0.040229</td>\n",
              "      <td>0.019414</td>\n",
              "      <td>0.092666</td>\n",
              "      <td>0.073252</td>\n",
              "      <td>22.423285</td>\n",
              "      <td>634.613855</td>\n",
              "      <td>0.892193</td>\n",
              "      <td>0.513724</td>\n",
              "      <td>0.000000</td>\n",
              "      <td>0.066009</td>\n",
              "      <td>0.107937</td>\n",
              "      <td>0.015826</td>\n",
              "      <td>0.250000</td>\n",
              "      <td>0.009014</td>\n",
              "      <td>0.007812</td>\n",
              "      <td>0.054688</td>\n",
              "      <td>0.046875</td>\n",
              "      <td>0.052632</td>\n",
              "    </tr>\n",
              "    <tr>\n",
              "      <th>2</th>\n",
              "      <td>0.077316</td>\n",
              "      <td>0.083829</td>\n",
              "      <td>0.036718</td>\n",
              "      <td>0.008701</td>\n",
              "      <td>0.131908</td>\n",
              "      <td>0.123207</td>\n",
              "      <td>30.757155</td>\n",
              "      <td>1024.927705</td>\n",
              "      <td>0.846389</td>\n",
              "      <td>0.478905</td>\n",
              "      <td>0.000000</td>\n",
              "      <td>0.077316</td>\n",
              "      <td>0.098706</td>\n",
              "      <td>0.015656</td>\n",
              "      <td>0.271186</td>\n",
              "      <td>0.007990</td>\n",
              "      <td>0.007812</td>\n",
              "      <td>0.015625</td>\n",
              "      <td>0.007812</td>\n",
              "      <td>0.046512</td>\n",
              "    </tr>\n",
              "    <tr>\n",
              "      <th>3</th>\n",
              "      <td>0.151228</td>\n",
              "      <td>0.072111</td>\n",
              "      <td>0.158011</td>\n",
              "      <td>0.096582</td>\n",
              "      <td>0.207955</td>\n",
              "      <td>0.111374</td>\n",
              "      <td>1.232831</td>\n",
              "      <td>4.177296</td>\n",
              "      <td>0.963322</td>\n",
              "      <td>0.727232</td>\n",
              "      <td>0.083878</td>\n",
              "      <td>0.151228</td>\n",
              "      <td>0.088965</td>\n",
              "      <td>0.017798</td>\n",
              "      <td>0.250000</td>\n",
              "      <td>0.201497</td>\n",
              "      <td>0.007812</td>\n",
              "      <td>0.562500</td>\n",
              "      <td>0.554688</td>\n",
              "      <td>0.247119</td>\n",
              "    </tr>\n",
              "    <tr>\n",
              "      <th>4</th>\n",
              "      <td>0.135120</td>\n",
              "      <td>0.079146</td>\n",
              "      <td>0.124656</td>\n",
              "      <td>0.078720</td>\n",
              "      <td>0.206045</td>\n",
              "      <td>0.127325</td>\n",
              "      <td>1.101174</td>\n",
              "      <td>4.333713</td>\n",
              "      <td>0.971955</td>\n",
              "      <td>0.783568</td>\n",
              "      <td>0.104261</td>\n",
              "      <td>0.135120</td>\n",
              "      <td>0.106398</td>\n",
              "      <td>0.016931</td>\n",
              "      <td>0.266667</td>\n",
              "      <td>0.712812</td>\n",
              "      <td>0.007812</td>\n",
              "      <td>5.484375</td>\n",
              "      <td>5.476562</td>\n",
              "      <td>0.208274</td>\n",
              "    </tr>\n",
              "  </tbody>\n",
              "</table>\n",
              "</div>\n",
              "      <button class=\"colab-df-convert\" onclick=\"convertToInteractive('df-81e158f4-09c9-4c0a-b99b-76312aa5d8c7')\"\n",
              "              title=\"Convert this dataframe to an interactive table.\"\n",
              "              style=\"display:none;\">\n",
              "        \n",
              "  <svg xmlns=\"http://www.w3.org/2000/svg\" height=\"24px\"viewBox=\"0 0 24 24\"\n",
              "       width=\"24px\">\n",
              "    <path d=\"M0 0h24v24H0V0z\" fill=\"none\"/>\n",
              "    <path d=\"M18.56 5.44l.94 2.06.94-2.06 2.06-.94-2.06-.94-.94-2.06-.94 2.06-2.06.94zm-11 1L8.5 8.5l.94-2.06 2.06-.94-2.06-.94L8.5 2.5l-.94 2.06-2.06.94zm10 10l.94 2.06.94-2.06 2.06-.94-2.06-.94-.94-2.06-.94 2.06-2.06.94z\"/><path d=\"M17.41 7.96l-1.37-1.37c-.4-.4-.92-.59-1.43-.59-.52 0-1.04.2-1.43.59L10.3 9.45l-7.72 7.72c-.78.78-.78 2.05 0 2.83L4 21.41c.39.39.9.59 1.41.59.51 0 1.02-.2 1.41-.59l7.78-7.78 2.81-2.81c.8-.78.8-2.07 0-2.86zM5.41 20L4 18.59l7.72-7.72 1.47 1.35L5.41 20z\"/>\n",
              "  </svg>\n",
              "      </button>\n",
              "      \n",
              "  <style>\n",
              "    .colab-df-container {\n",
              "      display:flex;\n",
              "      flex-wrap:wrap;\n",
              "      gap: 12px;\n",
              "    }\n",
              "\n",
              "    .colab-df-convert {\n",
              "      background-color: #E8F0FE;\n",
              "      border: none;\n",
              "      border-radius: 50%;\n",
              "      cursor: pointer;\n",
              "      display: none;\n",
              "      fill: #1967D2;\n",
              "      height: 32px;\n",
              "      padding: 0 0 0 0;\n",
              "      width: 32px;\n",
              "    }\n",
              "\n",
              "    .colab-df-convert:hover {\n",
              "      background-color: #E2EBFA;\n",
              "      box-shadow: 0px 1px 2px rgba(60, 64, 67, 0.3), 0px 1px 3px 1px rgba(60, 64, 67, 0.15);\n",
              "      fill: #174EA6;\n",
              "    }\n",
              "\n",
              "    [theme=dark] .colab-df-convert {\n",
              "      background-color: #3B4455;\n",
              "      fill: #D2E3FC;\n",
              "    }\n",
              "\n",
              "    [theme=dark] .colab-df-convert:hover {\n",
              "      background-color: #434B5C;\n",
              "      box-shadow: 0px 1px 3px 1px rgba(0, 0, 0, 0.15);\n",
              "      filter: drop-shadow(0px 1px 2px rgba(0, 0, 0, 0.3));\n",
              "      fill: #FFFFFF;\n",
              "    }\n",
              "  </style>\n",
              "\n",
              "      <script>\n",
              "        const buttonEl =\n",
              "          document.querySelector('#df-81e158f4-09c9-4c0a-b99b-76312aa5d8c7 button.colab-df-convert');\n",
              "        buttonEl.style.display =\n",
              "          google.colab.kernel.accessAllowed ? 'block' : 'none';\n",
              "\n",
              "        async function convertToInteractive(key) {\n",
              "          const element = document.querySelector('#df-81e158f4-09c9-4c0a-b99b-76312aa5d8c7');\n",
              "          const dataTable =\n",
              "            await google.colab.kernel.invokeFunction('convertToInteractive',\n",
              "                                                     [key], {});\n",
              "          if (!dataTable) return;\n",
              "\n",
              "          const docLinkHtml = 'Like what you see? Visit the ' +\n",
              "            '<a target=\"_blank\" href=https://colab.research.google.com/notebooks/data_table.ipynb>data table notebook</a>'\n",
              "            + ' to learn more about interactive tables.';\n",
              "          element.innerHTML = '';\n",
              "          dataTable['output_type'] = 'display_data';\n",
              "          await google.colab.output.renderOutput(dataTable, element);\n",
              "          const docLink = document.createElement('div');\n",
              "          docLink.innerHTML = docLinkHtml;\n",
              "          element.appendChild(docLink);\n",
              "        }\n",
              "      </script>\n",
              "    </div>\n",
              "  </div>\n",
              "  "
            ]
          },
          "metadata": {},
          "execution_count": 101
        }
      ],
      "metadata": {
        "colab": {
          "base_uri": "https://localhost:8080/",
          "height": 250
        },
        "id": "PMLamCjcSvKP",
        "outputId": "3d12bb10-4afb-4a5b-921d-564fedbcc39a"
      }
    },
    {
      "cell_type": "markdown",
      "source": [
        "# Encoding Male-0 and Female-1"
      ],
      "metadata": {
        "id": "6i0gY8UpSvKP"
      }
    },
    {
      "cell_type": "code",
      "source": [
        "from sklearn.preprocessing import LabelEncoder\n",
        "gender=df['label']\n",
        "gender_encoder = LabelEncoder()\n",
        "gender= gender_encoder.fit_transform(gender)\n",
        "print(gender)"
      ],
      "execution_count": null,
      "outputs": [
        {
          "output_type": "stream",
          "name": "stdout",
          "text": [
            "[1 1 1 ... 0 0 0]\n"
          ]
        }
      ],
      "metadata": {
        "colab": {
          "base_uri": "https://localhost:8080/"
        },
        "id": "_T1m-dIqSvKP",
        "outputId": "e18fd73a-4776-4fc3-a0db-4c6acb714e9c"
      }
    },
    {
      "cell_type": "markdown",
      "source": [
        "# Data Standardisation\n",
        "Standardization refers to shifting the distribution of each attribute to have a mean of zero and a standard deviation of one (unit variance). It is useful to standardize attributes for a model. Standardization of datasets is a common requirement for many machine learning estimators implemented in scikit-learn; they might behave badly if the individual features do not more or less look like standard normally distributed data."
      ],
      "metadata": {
        "id": "ujb_9oWySvKQ"
      }
    },
    {
      "cell_type": "code",
      "source": [
        "# Scale the data to be between -1 and 1\n",
        "from sklearn.preprocessing import StandardScaler\n",
        "scaler = StandardScaler()\n",
        "scaler.fit(X)\n",
        "X = scaler.transform(X)\n",
        "X=pd.DataFrame(X)\n",
        "X.head()\n"
      ],
      "execution_count": null,
      "outputs": [
        {
          "output_type": "execute_result",
          "data": {
            "text/plain": [
              "         0         1         2         3         4         5         6   \\\n",
              "0 -4.049248  0.427355 -4.224901 -2.576102 -5.693607 -0.214778  2.293306   \n",
              "1 -3.841053  0.611669 -3.999293 -2.486885 -5.588987 -0.258485  4.548056   \n",
              "2 -3.463066  1.603848 -4.095851 -2.706986 -3.928699  0.909326  6.513656   \n",
              "3 -0.992157  0.899998 -0.759454 -0.901418 -0.711205  0.632690 -0.449858   \n",
              "4 -1.530640  1.322561 -1.676948 -1.268395 -0.792029  1.005588 -0.480911   \n",
              "\n",
              "         7         8         9         10        11        12        13  \\\n",
              "0  1.762946 -0.039083  0.471575 -2.141210 -4.049248 -1.812038 -1.097998   \n",
              "1  4.433008 -0.065236  0.594431 -2.141210 -3.841053 -1.079594 -1.091533   \n",
              "2  7.326207 -1.083730  0.398261 -2.141210 -3.463066 -1.365368 -1.100397   \n",
              "3 -0.240099  1.516383  1.797340 -1.054576 -0.992157 -1.666966 -0.988934   \n",
              "4 -0.238940  1.708336  2.114740 -0.790514 -1.530640 -1.127233 -1.034015   \n",
              "\n",
              "         14        15        16        17        18        19  \n",
              "0  0.565959 -1.564205 -0.708404 -1.431422 -1.419137 -1.454772  \n",
              "1 -0.294030 -1.561916 -0.708404 -1.418107 -1.405818 -1.014103  \n",
              "2  0.410480 -1.563866 -0.708404 -1.429203 -1.416917 -1.065344  \n",
              "3 -0.294030 -1.195367 -0.708404 -1.273867 -1.261532  0.614286  \n",
              "4  0.260185 -0.221660 -0.708404  0.124154  0.136933  0.289046  "
            ],
            "text/html": [
              "\n",
              "  <div id=\"df-1acbcf33-ae79-419d-8848-789a7c3e62cb\">\n",
              "    <div class=\"colab-df-container\">\n",
              "      <div>\n",
              "<style scoped>\n",
              "    .dataframe tbody tr th:only-of-type {\n",
              "        vertical-align: middle;\n",
              "    }\n",
              "\n",
              "    .dataframe tbody tr th {\n",
              "        vertical-align: top;\n",
              "    }\n",
              "\n",
              "    .dataframe thead th {\n",
              "        text-align: right;\n",
              "    }\n",
              "</style>\n",
              "<table border=\"1\" class=\"dataframe\">\n",
              "  <thead>\n",
              "    <tr style=\"text-align: right;\">\n",
              "      <th></th>\n",
              "      <th>0</th>\n",
              "      <th>1</th>\n",
              "      <th>2</th>\n",
              "      <th>3</th>\n",
              "      <th>4</th>\n",
              "      <th>5</th>\n",
              "      <th>6</th>\n",
              "      <th>7</th>\n",
              "      <th>8</th>\n",
              "      <th>9</th>\n",
              "      <th>10</th>\n",
              "      <th>11</th>\n",
              "      <th>12</th>\n",
              "      <th>13</th>\n",
              "      <th>14</th>\n",
              "      <th>15</th>\n",
              "      <th>16</th>\n",
              "      <th>17</th>\n",
              "      <th>18</th>\n",
              "      <th>19</th>\n",
              "    </tr>\n",
              "  </thead>\n",
              "  <tbody>\n",
              "    <tr>\n",
              "      <th>0</th>\n",
              "      <td>-4.049248</td>\n",
              "      <td>0.427355</td>\n",
              "      <td>-4.224901</td>\n",
              "      <td>-2.576102</td>\n",
              "      <td>-5.693607</td>\n",
              "      <td>-0.214778</td>\n",
              "      <td>2.293306</td>\n",
              "      <td>1.762946</td>\n",
              "      <td>-0.039083</td>\n",
              "      <td>0.471575</td>\n",
              "      <td>-2.141210</td>\n",
              "      <td>-4.049248</td>\n",
              "      <td>-1.812038</td>\n",
              "      <td>-1.097998</td>\n",
              "      <td>0.565959</td>\n",
              "      <td>-1.564205</td>\n",
              "      <td>-0.708404</td>\n",
              "      <td>-1.431422</td>\n",
              "      <td>-1.419137</td>\n",
              "      <td>-1.454772</td>\n",
              "    </tr>\n",
              "    <tr>\n",
              "      <th>1</th>\n",
              "      <td>-3.841053</td>\n",
              "      <td>0.611669</td>\n",
              "      <td>-3.999293</td>\n",
              "      <td>-2.486885</td>\n",
              "      <td>-5.588987</td>\n",
              "      <td>-0.258485</td>\n",
              "      <td>4.548056</td>\n",
              "      <td>4.433008</td>\n",
              "      <td>-0.065236</td>\n",
              "      <td>0.594431</td>\n",
              "      <td>-2.141210</td>\n",
              "      <td>-3.841053</td>\n",
              "      <td>-1.079594</td>\n",
              "      <td>-1.091533</td>\n",
              "      <td>-0.294030</td>\n",
              "      <td>-1.561916</td>\n",
              "      <td>-0.708404</td>\n",
              "      <td>-1.418107</td>\n",
              "      <td>-1.405818</td>\n",
              "      <td>-1.014103</td>\n",
              "    </tr>\n",
              "    <tr>\n",
              "      <th>2</th>\n",
              "      <td>-3.463066</td>\n",
              "      <td>1.603848</td>\n",
              "      <td>-4.095851</td>\n",
              "      <td>-2.706986</td>\n",
              "      <td>-3.928699</td>\n",
              "      <td>0.909326</td>\n",
              "      <td>6.513656</td>\n",
              "      <td>7.326207</td>\n",
              "      <td>-1.083730</td>\n",
              "      <td>0.398261</td>\n",
              "      <td>-2.141210</td>\n",
              "      <td>-3.463066</td>\n",
              "      <td>-1.365368</td>\n",
              "      <td>-1.100397</td>\n",
              "      <td>0.410480</td>\n",
              "      <td>-1.563866</td>\n",
              "      <td>-0.708404</td>\n",
              "      <td>-1.429203</td>\n",
              "      <td>-1.416917</td>\n",
              "      <td>-1.065344</td>\n",
              "    </tr>\n",
              "    <tr>\n",
              "      <th>3</th>\n",
              "      <td>-0.992157</td>\n",
              "      <td>0.899998</td>\n",
              "      <td>-0.759454</td>\n",
              "      <td>-0.901418</td>\n",
              "      <td>-0.711205</td>\n",
              "      <td>0.632690</td>\n",
              "      <td>-0.449858</td>\n",
              "      <td>-0.240099</td>\n",
              "      <td>1.516383</td>\n",
              "      <td>1.797340</td>\n",
              "      <td>-1.054576</td>\n",
              "      <td>-0.992157</td>\n",
              "      <td>-1.666966</td>\n",
              "      <td>-0.988934</td>\n",
              "      <td>-0.294030</td>\n",
              "      <td>-1.195367</td>\n",
              "      <td>-0.708404</td>\n",
              "      <td>-1.273867</td>\n",
              "      <td>-1.261532</td>\n",
              "      <td>0.614286</td>\n",
              "    </tr>\n",
              "    <tr>\n",
              "      <th>4</th>\n",
              "      <td>-1.530640</td>\n",
              "      <td>1.322561</td>\n",
              "      <td>-1.676948</td>\n",
              "      <td>-1.268395</td>\n",
              "      <td>-0.792029</td>\n",
              "      <td>1.005588</td>\n",
              "      <td>-0.480911</td>\n",
              "      <td>-0.238940</td>\n",
              "      <td>1.708336</td>\n",
              "      <td>2.114740</td>\n",
              "      <td>-0.790514</td>\n",
              "      <td>-1.530640</td>\n",
              "      <td>-1.127233</td>\n",
              "      <td>-1.034015</td>\n",
              "      <td>0.260185</td>\n",
              "      <td>-0.221660</td>\n",
              "      <td>-0.708404</td>\n",
              "      <td>0.124154</td>\n",
              "      <td>0.136933</td>\n",
              "      <td>0.289046</td>\n",
              "    </tr>\n",
              "  </tbody>\n",
              "</table>\n",
              "</div>\n",
              "      <button class=\"colab-df-convert\" onclick=\"convertToInteractive('df-1acbcf33-ae79-419d-8848-789a7c3e62cb')\"\n",
              "              title=\"Convert this dataframe to an interactive table.\"\n",
              "              style=\"display:none;\">\n",
              "        \n",
              "  <svg xmlns=\"http://www.w3.org/2000/svg\" height=\"24px\"viewBox=\"0 0 24 24\"\n",
              "       width=\"24px\">\n",
              "    <path d=\"M0 0h24v24H0V0z\" fill=\"none\"/>\n",
              "    <path d=\"M18.56 5.44l.94 2.06.94-2.06 2.06-.94-2.06-.94-.94-2.06-.94 2.06-2.06.94zm-11 1L8.5 8.5l.94-2.06 2.06-.94-2.06-.94L8.5 2.5l-.94 2.06-2.06.94zm10 10l.94 2.06.94-2.06 2.06-.94-2.06-.94-.94-2.06-.94 2.06-2.06.94z\"/><path d=\"M17.41 7.96l-1.37-1.37c-.4-.4-.92-.59-1.43-.59-.52 0-1.04.2-1.43.59L10.3 9.45l-7.72 7.72c-.78.78-.78 2.05 0 2.83L4 21.41c.39.39.9.59 1.41.59.51 0 1.02-.2 1.41-.59l7.78-7.78 2.81-2.81c.8-.78.8-2.07 0-2.86zM5.41 20L4 18.59l7.72-7.72 1.47 1.35L5.41 20z\"/>\n",
              "  </svg>\n",
              "      </button>\n",
              "      \n",
              "  <style>\n",
              "    .colab-df-container {\n",
              "      display:flex;\n",
              "      flex-wrap:wrap;\n",
              "      gap: 12px;\n",
              "    }\n",
              "\n",
              "    .colab-df-convert {\n",
              "      background-color: #E8F0FE;\n",
              "      border: none;\n",
              "      border-radius: 50%;\n",
              "      cursor: pointer;\n",
              "      display: none;\n",
              "      fill: #1967D2;\n",
              "      height: 32px;\n",
              "      padding: 0 0 0 0;\n",
              "      width: 32px;\n",
              "    }\n",
              "\n",
              "    .colab-df-convert:hover {\n",
              "      background-color: #E2EBFA;\n",
              "      box-shadow: 0px 1px 2px rgba(60, 64, 67, 0.3), 0px 1px 3px 1px rgba(60, 64, 67, 0.15);\n",
              "      fill: #174EA6;\n",
              "    }\n",
              "\n",
              "    [theme=dark] .colab-df-convert {\n",
              "      background-color: #3B4455;\n",
              "      fill: #D2E3FC;\n",
              "    }\n",
              "\n",
              "    [theme=dark] .colab-df-convert:hover {\n",
              "      background-color: #434B5C;\n",
              "      box-shadow: 0px 1px 3px 1px rgba(0, 0, 0, 0.15);\n",
              "      filter: drop-shadow(0px 1px 2px rgba(0, 0, 0, 0.3));\n",
              "      fill: #FFFFFF;\n",
              "    }\n",
              "  </style>\n",
              "\n",
              "      <script>\n",
              "        const buttonEl =\n",
              "          document.querySelector('#df-1acbcf33-ae79-419d-8848-789a7c3e62cb button.colab-df-convert');\n",
              "        buttonEl.style.display =\n",
              "          google.colab.kernel.accessAllowed ? 'block' : 'none';\n",
              "\n",
              "        async function convertToInteractive(key) {\n",
              "          const element = document.querySelector('#df-1acbcf33-ae79-419d-8848-789a7c3e62cb');\n",
              "          const dataTable =\n",
              "            await google.colab.kernel.invokeFunction('convertToInteractive',\n",
              "                                                     [key], {});\n",
              "          if (!dataTable) return;\n",
              "\n",
              "          const docLinkHtml = 'Like what you see? Visit the ' +\n",
              "            '<a target=\"_blank\" href=https://colab.research.google.com/notebooks/data_table.ipynb>data table notebook</a>'\n",
              "            + ' to learn more about interactive tables.';\n",
              "          element.innerHTML = '';\n",
              "          dataTable['output_type'] = 'display_data';\n",
              "          await google.colab.output.renderOutput(dataTable, element);\n",
              "          const docLink = document.createElement('div');\n",
              "          docLink.innerHTML = docLinkHtml;\n",
              "          element.appendChild(docLink);\n",
              "        }\n",
              "      </script>\n",
              "    </div>\n",
              "  </div>\n",
              "  "
            ]
          },
          "metadata": {},
          "execution_count": 103
        }
      ],
      "metadata": {
        "colab": {
          "base_uri": "https://localhost:8080/",
          "height": 270
        },
        "id": "a0XkQvxASvKQ",
        "outputId": "6b9fb718-3a15-4788-d21f-e0436a608198"
      }
    },
    {
      "cell_type": "markdown",
      "source": [
        "# Splitting dataset into training set and testing set for better generalisation"
      ],
      "metadata": {
        "id": "buAZ2D64SvKQ"
      }
    },
    {
      "cell_type": "code",
      "source": [
        "from sklearn.model_selection import train_test_split\n",
        "X_train, X_test, y_train, y_test = train_test_split(X, gender, test_size=0.2, random_state=1)"
      ],
      "execution_count": null,
      "outputs": [],
      "metadata": {
        "id": "DR_5JbowSvKQ"
      }
    },
    {
      "cell_type": "markdown",
      "source": [
        "#SVM with default hyperparameter."
      ],
      "metadata": {
        "id": "6cli5yLbSvKQ"
      }
    },
    {
      "cell_type": "code",
      "source": [
        "from sklearn.svm import SVC\n",
        "from sklearn import metrics\n",
        "svc=SVC()\n",
        "svc.fit(X_train,y_train)\n",
        "y_pred=svc.predict(X_test)\n",
        "print('Accuracy Score:')\n",
        "print(round(metrics.accuracy_score(y_test,y_pred)*100,2),\"%\")"
      ],
      "execution_count": null,
      "outputs": [
        {
          "output_type": "stream",
          "name": "stdout",
          "text": [
            "Accuracy Score:\n",
            "97.63 %\n"
          ]
        }
      ],
      "metadata": {
        "colab": {
          "base_uri": "https://localhost:8080/"
        },
        "id": "J6_RYTWLSvKQ",
        "outputId": "f154259f-5bc0-4cea-a4d4-03a2afda10ef"
      }
    },
    {
      "cell_type": "markdown",
      "source": [
        "## Default Linear kernel"
      ],
      "metadata": {
        "id": "5YpXrDNPSvKR"
      }
    },
    {
      "cell_type": "code",
      "source": [
        "svc=SVC(kernel='linear')\n",
        "svc.fit(X_train,y_train)\n",
        "y_pred=svc.predict(X_test)\n",
        "print('Accuracy Score:')\n",
        "print(round(metrics.accuracy_score(y_test,y_pred)*100,2),\"%\")"
      ],
      "execution_count": null,
      "outputs": [
        {
          "output_type": "stream",
          "name": "stdout",
          "text": [
            "Accuracy Score:\n",
            "97.79 %\n"
          ]
        }
      ],
      "metadata": {
        "colab": {
          "base_uri": "https://localhost:8080/"
        },
        "id": "SgmFoFMVSvKR",
        "outputId": "30883670-3da6-4d97-dd6f-4f62390632ac"
      }
    },
    {
      "cell_type": "markdown",
      "source": [
        "## Default RBF kernel"
      ],
      "metadata": {
        "id": "bWM-Ahd9SvKR"
      }
    },
    {
      "cell_type": "code",
      "source": [
        "svc=SVC(kernel='rbf')\n",
        "svc.fit(X_train,y_train)\n",
        "y_pred=svc.predict(X_test)\n",
        "print('Accuracy Score:')\n",
        "print(round(metrics.accuracy_score(y_test,y_pred)*100,2),\"%\")"
      ],
      "execution_count": null,
      "outputs": [
        {
          "output_type": "stream",
          "name": "stdout",
          "text": [
            "Accuracy Score:\n",
            "97.63 %\n"
          ]
        }
      ],
      "metadata": {
        "colab": {
          "base_uri": "https://localhost:8080/"
        },
        "id": "TwAp1peHSvKR",
        "outputId": "6cbe8212-ff39-45e9-9b22-5c30f4f05fae"
      }
    },
    {
      "cell_type": "markdown",
      "source": [
        "We can conclude from above that svm by default uses **rbf** kernel as a parameter for kernel"
      ],
      "metadata": {
        "id": "kCDwhTkJSvKR"
      }
    },
    {
      "cell_type": "markdown",
      "source": [
        "## Default Polynomial kernel"
      ],
      "metadata": {
        "id": "TipNScv5SvKR"
      }
    },
    {
      "cell_type": "code",
      "source": [
        "svc=SVC(kernel='poly')\n",
        "svc.fit(X_train,y_train)\n",
        "y_pred=svc.predict(X_test)\n",
        "print('Accuracy Score:')\n",
        "print(round(metrics.accuracy_score(y_test,y_pred)*100,2),\"%\")"
      ],
      "execution_count": null,
      "outputs": [
        {
          "output_type": "stream",
          "name": "stdout",
          "text": [
            "Accuracy Score:\n",
            "95.9 %\n"
          ]
        }
      ],
      "metadata": {
        "colab": {
          "base_uri": "https://localhost:8080/"
        },
        "id": "tDcyTuPLSvKR",
        "outputId": "e5899e45-fc31-47d4-fe81-5cda6bb127a0"
      }
    },
    {
      "cell_type": "markdown",
      "source": [
        "Polynomial kernel is performing poorly.The reason behind this maybe it is overfitting the training dataset"
      ],
      "metadata": {
        "id": "tvfZ32oVSvKS"
      }
    },
    {
      "cell_type": "markdown",
      "source": [
        "# Performing K-fold cross validation with different kernels"
      ],
      "metadata": {
        "id": "JnDERE5cSvKS"
      }
    },
    {
      "cell_type": "markdown",
      "source": [
        "##CV on Linear kernel"
      ],
      "metadata": {
        "id": "m-FA_D_gSvKS"
      }
    },
    {
      "cell_type": "code",
      "source": [
        "from sklearn.model_selection import cross_val_score\n",
        "svc=SVC(kernel='linear')\n",
        "scores = cross_val_score(svc, X, gender, cv=10, scoring='accuracy') #cv is cross validation\n",
        "print(scores)"
      ],
      "execution_count": null,
      "outputs": [
        {
          "output_type": "stream",
          "name": "stdout",
          "text": [
            "[0.91167192 0.97160883 0.97160883 0.97791798 0.95899054 0.9873817\n",
            " 0.99369085 0.97791798 0.95253165 0.99367089]\n"
          ]
        }
      ],
      "metadata": {
        "colab": {
          "base_uri": "https://localhost:8080/"
        },
        "id": "V7kIPgkZSvKS",
        "outputId": "cf228dd9-82d7-4909-d7ff-3dae6efc0e09"
      }
    },
    {
      "cell_type": "markdown",
      "source": [
        "We can see above how the accuracy score is different everytime.This shows that accuracy score depends upon how the datasets got split."
      ],
      "metadata": {
        "id": "dC8qsftzSvKS"
      }
    },
    {
      "cell_type": "code",
      "source": [
        "print(scores.mean())"
      ],
      "execution_count": null,
      "outputs": [
        {
          "output_type": "stream",
          "name": "stdout",
          "text": [
            "0.9696991175178692\n"
          ]
        }
      ],
      "metadata": {
        "colab": {
          "base_uri": "https://localhost:8080/"
        },
        "id": "1iYvUGB3SvKS",
        "outputId": "976becea-e3d2-459a-a5a9-734eda9c6a53"
      }
    },
    {
      "cell_type": "markdown",
      "source": [
        "In K-fold cross validation we generally take the mean of all the scores."
      ],
      "metadata": {
        "id": "u2A82cP-SvKS"
      }
    },
    {
      "cell_type": "markdown",
      "source": [
        "## CV on rbf kernel"
      ],
      "metadata": {
        "id": "QMWltnViSvKb"
      }
    },
    {
      "cell_type": "code",
      "source": [
        "from sklearn.model_selection import cross_val_score\n",
        "svc=SVC(kernel='rbf')\n",
        "scores = cross_val_score(svc, X, gender, cv=10, scoring='accuracy') #cv is cross validation\n",
        "print(scores)"
      ],
      "execution_count": null,
      "outputs": [],
      "metadata": {
        "id": "VgDduQjMSvKb"
      }
    },
    {
      "cell_type": "code",
      "source": [
        "print(scores.mean())"
      ],
      "execution_count": null,
      "outputs": [],
      "metadata": {
        "id": "ogbcDXQYSvKb"
      }
    },
    {
      "cell_type": "markdown",
      "source": [
        "## CV on Polynomial kernel"
      ],
      "metadata": {
        "id": "dd5pK82lSvKc"
      }
    },
    {
      "cell_type": "code",
      "source": [
        "from sklearn.model_selection import cross_val_score\n",
        "svc=SVC(kernel='poly')\n",
        "scores = cross_val_score(svc, X, gender, cv=10, scoring='accuracy') #cv is cross validation\n",
        "print(scores)"
      ],
      "execution_count": null,
      "outputs": [
        {
          "output_type": "stream",
          "name": "stdout",
          "text": [
            "[0.89274448 0.94952681 0.93059937 0.92744479 0.94952681 0.99369085\n",
            " 0.98422713 0.96529968 0.87974684 0.9778481 ]\n"
          ]
        }
      ],
      "metadata": {
        "colab": {
          "base_uri": "https://localhost:8080/"
        },
        "id": "EM6UCtRwSvKc",
        "outputId": "eb0b55ef-a18f-45cb-a039-6fd1f9f9803c"
      }
    },
    {
      "cell_type": "code",
      "source": [
        "print(scores.mean())"
      ],
      "execution_count": null,
      "outputs": [
        {
          "output_type": "stream",
          "name": "stdout",
          "text": [
            "0.9450654873617378\n"
          ]
        }
      ],
      "metadata": {
        "colab": {
          "base_uri": "https://localhost:8080/"
        },
        "id": "3Jc1BKYVSvKc",
        "outputId": "8b8239f8-f9b4-40be-dd20-918d4ce818b1"
      }
    },
    {
      "cell_type": "markdown",
      "source": [
        "**When K-fold cross validation is done we can see different score in each iteration.This happens because when we use train_test_split method,the dataset get split in random manner into testing and training dataset.Thus it depends on how the dataset got split and which samples are training set and which samples are in testing set.**\n",
        "\n",
        "**With K-fold cross validation we can see that the dataset got split into 10 equal parts thus covering all the data into training as well into testing set.This is the reason we got 10 different accuracy score.**"
      ],
      "metadata": {
        "id": "zT84xBx4SvKc"
      }
    },
    {
      "cell_type": "markdown",
      "source": [
        "### Taking all the values of C and checking out the accuracy score with kernel as linear."
      ],
      "metadata": {
        "id": "g4FczEAYSvKc"
      }
    },
    {
      "cell_type": "markdown",
      "source": [
        "**The C parameter tells the SVM optimization how much you want to avoid misclassifying each training example. For large values of C, the optimization will choose a smaller-margin hyperplane if that hyperplane does a better job of getting all the training points classified correctly. Conversely, a very small value of C will cause the optimizer to look for a larger-margin separating hyperplane, even if that hyperplane misclassifies more points.**\n",
        "\n",
        "**Thus for a very large values we can cause overfitting of the model and for a very small value of C we can cause underfitting.Thus the value of C must be chosen in such a manner that it generalised the unseen data well**"
      ],
      "metadata": {
        "id": "JFdJAKdTSvKc"
      }
    },
    {
      "cell_type": "code",
      "source": [
        "C_range=list(range(1,50))\n",
        "acc_score=[]\n",
        "for c in C_range:\n",
        "    svc = SVC(kernel='linear', C=c)\n",
        "    scores = cross_val_score(svc, X, gender, cv=10, scoring='accuracy')\n",
        "    acc_score.append(scores.mean())\n",
        "print(acc_score)\n"
      ],
      "execution_count": null,
      "outputs": [
        {
          "output_type": "stream",
          "name": "stdout",
          "text": [
            "[0.9696991175178692, 0.969068202691371, 0.969068202691371, 0.969068202691371, 0.9693836601046201, 0.9693836601046201, 0.969068202691371, 0.9687527452781215, 0.9684372878648724, 0.9684372878648724, 0.9684372878648724, 0.9684372878648724, 0.9681208321686698, 0.9681208321686698, 0.9681208321686698, 0.9681208321686698, 0.9678043764724673, 0.9678043764724673, 0.9678043764724673, 0.9678043764724673, 0.9681208321686698, 0.968436289581919, 0.968436289581919, 0.9681198338857164, 0.9681198338857164, 0.9681198338857164, 0.9681198338857164, 0.9681198338857164, 0.968436289581919, 0.9681198338857164, 0.9681198338857164, 0.9681198338857164, 0.9681198338857164, 0.9681198338857164, 0.9681198338857164, 0.9681198338857164, 0.9681198338857164, 0.9681198338857164, 0.9681198338857164, 0.9681198338857164, 0.9681198338857164, 0.9681198338857164, 0.9681198338857164, 0.9681198338857164, 0.9681198338857164, 0.9681198338857164, 0.9681198338857164, 0.9681198338857164, 0.9681198338857164]\n"
          ]
        }
      ],
      "metadata": {
        "colab": {
          "base_uri": "https://localhost:8080/"
        },
        "id": "gSu-UybJSvKd",
        "outputId": "46b96478-5b2b-444d-df72-08748d24e941"
      }
    },
    {
      "cell_type": "code",
      "source": [
        "import matplotlib.pyplot as plt\n",
        "%matplotlib inline\n",
        "\n",
        "\n",
        "C_values=list(range(1,50))\n",
        "# plot the value of C for SVM (x-axis) versus the cross-validated accuracy (y-axis)\n",
        "plt.plot(C_values,acc_score)\n",
        "plt.xticks(np.arange(0,11,2))\n",
        "plt.xlabel('Value of C for SVC')\n",
        "plt.ylabel('Cross-Validated Accuracy')"
      ],
      "execution_count": null,
      "outputs": [
        {
          "output_type": "execute_result",
          "data": {
            "text/plain": [
              "Text(0, 0.5, 'Cross-Validated Accuracy')"
            ]
          },
          "metadata": {},
          "execution_count": 117
        },
        {
          "output_type": "display_data",
          "data": {
            "text/plain": [
              "<Figure size 640x480 with 1 Axes>"
            ],
            "image/png": "[encoded data removed]"
          },
          "metadata": {}
        }
      ],
      "metadata": {
        "colab": {
          "base_uri": "https://localhost:8080/",
          "height": 466
        },
        "id": "C6uzstS5SvKd",
        "outputId": "65638af8-4fa3-460c-dbf3-4d6cb678846b"
      }
    },
    {
      "cell_type": "markdown",
      "source": [
        "**From the above plot we can see that accuracy has been close to 97% for C=1 and C=6 and then it drops around 96.8% and remains constant.**"
      ],
      "metadata": {
        "id": "nlBzujZtSvKd"
      }
    },
    {
      "cell_type": "markdown",
      "source": [
        "### Let us look into more detail of what is the exact value of C which is giving us a good accuracy score"
      ],
      "metadata": {
        "id": "sI2-8aNlSvKd"
      }
    },
    {
      "cell_type": "code",
      "source": [
        "C_range=list(np.arange(0.1,6,0.1))\n",
        "acc_score=[]\n",
        "for c in C_range:\n",
        "    svc = SVC(kernel='linear', C=c)\n",
        "    scores = cross_val_score(svc, X, gender, cv=10, scoring='accuracy')\n",
        "    acc_score.append(scores.mean())\n",
        "print(acc_score)\n"
      ],
      "execution_count": null,
      "outputs": [
        {
          "output_type": "stream",
          "name": "stdout",
          "text": [
            "[0.9706474863235236, 0.9693846583875733, 0.9693836601046201, 0.9693836601046201, 0.9696991175178692, 0.9696991175178692, 0.9693836601046201, 0.9696981192349158, 0.9693826618216667, 0.9696991175178692, 0.9696991175178692, 0.9696991175178692, 0.9696991175178692, 0.9690672044084174, 0.9693836601046201, 0.9693836601046201, 0.9693836601046201, 0.9693836601046201, 0.969068202691371, 0.969068202691371, 0.9693836601046201, 0.9693836601046201, 0.969068202691371, 0.969068202691371, 0.969068202691371, 0.969068202691371, 0.969068202691371, 0.969068202691371, 0.969068202691371, 0.969068202691371, 0.969068202691371, 0.969068202691371, 0.969068202691371, 0.969068202691371, 0.969068202691371, 0.969068202691371, 0.969068202691371, 0.969068202691371, 0.969068202691371, 0.969068202691371, 0.969068202691371, 0.969068202691371, 0.969068202691371, 0.969068202691371, 0.969068202691371, 0.969068202691371, 0.9693836601046201, 0.9693836601046201, 0.9693836601046201, 0.9693836601046201, 0.9693836601046201, 0.969068202691371, 0.969068202691371, 0.969068202691371, 0.969068202691371, 0.9693836601046201, 0.9693836601046201, 0.9693836601046201, 0.9693836601046201]\n"
          ]
        }
      ],
      "metadata": {
        "colab": {
          "base_uri": "https://localhost:8080/"
        },
        "id": "7GC_g2OeSvKd",
        "outputId": "0c8ab87f-dc01-4653-d0b9-94eff7eae581"
      }
    },
    {
      "cell_type": "code",
      "source": [
        "import matplotlib.pyplot as plt\n",
        "%matplotlib inline\n",
        "\n",
        "C_values=list(np.arange(0.1,6,0.1))\n",
        "# plot the value of C for SVM (x-axis) versus the cross-validated accuracy (y-axis)\n",
        "plt.plot(C_values,acc_score)\n",
        "plt.xticks(np.arange(0.0,6,0.3))\n",
        "plt.xlabel('Value of C for SVC ')\n",
        "plt.ylabel('Cross-Validated Accuracy')"
      ],
      "execution_count": null,
      "outputs": [
        {
          "output_type": "execute_result",
          "data": {
            "text/plain": [
              "Text(0, 0.5, 'Cross-Validated Accuracy')"
            ]
          },
          "metadata": {},
          "execution_count": 29
        },
        {
          "output_type": "display_data",
          "data": {
            "text/plain": [
              "<Figure size 640x480 with 1 Axes>"
            ],
            "image/png": "[encoded data removed]"
          },
          "metadata": {}
        }
      ],
      "metadata": {
        "colab": {
          "base_uri": "https://localhost:8080/",
          "height": 466
        },
        "id": "V_F5bDd8SvKe",
        "outputId": "7cddcec2-ae32-4020-e3d9-1fa07da2af8d"
      }
    },
    {
      "cell_type": "markdown",
      "source": [
        "### Accuracy score is highest for C=0.1."
      ],
      "metadata": {
        "id": "-1w3g2BwSvKe"
      }
    },
    {
      "cell_type": "markdown",
      "source": [
        "### Taking kernel as **rbf** and taking different values gamma"
      ],
      "metadata": {
        "id": "N8wEmLzzSvKe"
      }
    },
    {
      "cell_type": "markdown",
      "source": [
        "**Technically, the gamma parameter is the inverse of the standard deviation of the RBF kernel (Gaussian function), which is used as similarity measure between two points. Intuitively, a small gamma value define a Gaussian function with a large variance. In this case, two points can be considered similar even if are far from each other. In the other hand, a large gamma value means define a Gaussian function with a small variance and in this case, two points are considered similar just if they are close to each other**"
      ],
      "metadata": {
        "id": "mQ0nlg_RSvKe"
      }
    },
    {
      "cell_type": "code",
      "source": [
        "gamma_range=[0.0001,0.001,0.01,0.1,1,10,100]\n",
        "acc_score=[]\n",
        "for g in gamma_range:\n",
        "    svc = SVC(kernel='rbf', gamma=g)\n",
        "    scores = cross_val_score(svc, X, gender, cv=10, scoring='accuracy')\n",
        "    acc_score.append(scores.mean())\n",
        "print(acc_score)\n"
      ],
      "execution_count": null,
      "outputs": [
        {
          "output_type": "stream",
          "name": "stdout",
          "text": [
            "[0.888240226809887, 0.9551820868106857, 0.9681168390368565, 0.9636874575729744, 0.9061883560276325, 0.6016421754582119, 0.49905362776025236]\n"
          ]
        }
      ],
      "metadata": {
        "colab": {
          "base_uri": "https://localhost:8080/"
        },
        "id": "byKMs6ZvSvKe",
        "outputId": "067bd956-91b2-4dcb-e7a4-23f043eb0e0a"
      }
    },
    {
      "cell_type": "code",
      "source": [
        "import matplotlib.pyplot as plt\n",
        "%matplotlib inline\n",
        "\n",
        "gamma_range=[0.0001,0.001,0.01,0.1,1,10,100]\n",
        "\n",
        "# plot the value of C for SVM (x-axis) versus the cross-validated accuracy (y-axis)\n",
        "plt.plot(gamma_range,acc_score)\n",
        "plt.xlabel('Value of gamma for SVC ')\n",
        "plt.xticks(np.arange(0.0001,100,5))\n",
        "plt.ylabel('Cross-Validated Accuracy')"
      ],
      "execution_count": null,
      "outputs": [
        {
          "output_type": "execute_result",
          "data": {
            "text/plain": [
              "Text(0, 0.5, 'Cross-Validated Accuracy')"
            ]
          },
          "metadata": {},
          "execution_count": 31
        },
        {
          "output_type": "display_data",
          "data": {
            "text/plain": [
              "<Figure size 640x480 with 1 Axes>"
            ],
            "image/png": "[encoded data removed]"
          },
          "metadata": {}
        }
      ],
      "metadata": {
        "colab": {
          "base_uri": "https://localhost:8080/",
          "height": 466
        },
        "id": "tDRmsfLGSvKf",
        "outputId": "9f57123a-9489-46bc-caba-eb72ef96a373"
      }
    },
    {
      "cell_type": "markdown",
      "source": [
        "**We can see that for gamma=10 and 100 the kernel is performing poorly.We can also see a slight dip in accuracy score when gamma is 1.Let us look into more details for the range 0.0001 to 0.1.**"
      ],
      "metadata": {
        "id": "VgnalNJDSvKf"
      }
    },
    {
      "cell_type": "code",
      "source": [
        "gamma_range=[0.0001,0.001,0.01,0.1]\n",
        "acc_score=[]\n",
        "for g in gamma_range:\n",
        "    svc = SVC(kernel='rbf', gamma=g)\n",
        "    scores = cross_val_score(svc, X, gender, cv=10, scoring='accuracy')\n",
        "    acc_score.append(scores.mean())\n",
        "print(acc_score)\n"
      ],
      "execution_count": null,
      "outputs": [
        {
          "output_type": "stream",
          "name": "stdout",
          "text": [
            "[0.888240226809887, 0.9551820868106857, 0.9681168390368565, 0.9636874575729744]\n"
          ]
        }
      ],
      "metadata": {
        "colab": {
          "base_uri": "https://localhost:8080/"
        },
        "id": "joZASnd2SvKf",
        "outputId": "044f10f2-1d3d-4192-fb27-5be7e78b68ac"
      }
    },
    {
      "cell_type": "code",
      "source": [
        "import matplotlib.pyplot as plt\n",
        "%matplotlib inline\n",
        "\n",
        "gamma_range=[0.0001,0.001,0.01,0.1]\n",
        "\n",
        "# plot the value of C for SVM (x-axis) versus the cross-validated accuracy (y-axis)\n",
        "plt.plot(gamma_range,acc_score)\n",
        "plt.xlabel('Value of gamma for SVC ')\n",
        "plt.ylabel('Cross-Validated Accuracy')"
      ],
      "execution_count": null,
      "outputs": [
        {
          "output_type": "execute_result",
          "data": {
            "text/plain": [
              "Text(0, 0.5, 'Cross-Validated Accuracy')"
            ]
          },
          "metadata": {},
          "execution_count": 33
        },
        {
          "output_type": "display_data",
          "data": {
            "text/plain": [
              "<Figure size 640x480 with 1 Axes>"
            ],
            "image/png": "[encoded data removed]"
          },
          "metadata": {}
        }
      ],
      "metadata": {
        "colab": {
          "base_uri": "https://localhost:8080/",
          "height": 466
        },
        "id": "yqgM7d9CSvKg",
        "outputId": "69d12cba-c1fb-4eb2-cd65-6437fd1e7ff8"
      }
    },
    {
      "cell_type": "markdown",
      "source": [
        "The score increases steadily and raches its peak at 0.01 and then decreases till gamma=1.Thus Gamma should be around 0.01."
      ],
      "metadata": {
        "id": "a6nqP7qxSvKg"
      }
    },
    {
      "cell_type": "markdown",
      "source": [
        "Let us look into more detail for gamma values"
      ],
      "metadata": {
        "id": "WUX7aLZWSvKg"
      }
    },
    {
      "cell_type": "code",
      "source": [
        "gamma_range=[0.01,0.02,0.03,0.04,0.05]\n",
        "acc_score=[]\n",
        "for g in gamma_range:\n",
        "    svc = SVC(kernel='rbf', gamma=g)\n",
        "    scores = cross_val_score(svc, X, gender, cv=10, scoring='accuracy')\n",
        "    acc_score.append(scores.mean())\n",
        "print(acc_score)\n"
      ],
      "execution_count": null,
      "outputs": [
        {
          "output_type": "stream",
          "name": "stdout",
          "text": [
            "[0.9681168390368565, 0.9681168390368565, 0.9681148424709501, 0.9671664736652957, 0.9665325639899376]\n"
          ]
        }
      ],
      "metadata": {
        "colab": {
          "base_uri": "https://localhost:8080/"
        },
        "id": "wOCRZGeCSvKg",
        "outputId": "98764b8d-9422-432c-d76a-e7d7f1470bec"
      }
    },
    {
      "cell_type": "code",
      "source": [
        "import matplotlib.pyplot as plt\n",
        "%matplotlib inline\n",
        "\n",
        "gamma_range=[0.01,0.02,0.03,0.04,0.05]\n",
        "\n",
        "# plot the value of C for SVM (x-axis) versus the cross-validated accuracy (y-axis)\n",
        "plt.plot(gamma_range,acc_score)\n",
        "plt.xlabel('Value of gamma for SVC ')\n",
        "plt.ylabel('Cross-Validated Accuracy')"
      ],
      "execution_count": null,
      "outputs": [
        {
          "output_type": "execute_result",
          "data": {
            "text/plain": [
              "Text(0, 0.5, 'Cross-Validated Accuracy')"
            ]
          },
          "metadata": {},
          "execution_count": 35
        },
        {
          "output_type": "display_data",
          "data": {
            "text/plain": [
              "<Figure size 640x480 with 1 Axes>"
            ],
            "image/png": "[encoded data removed]"
          },
          "metadata": {}
        }
      ],
      "metadata": {
        "colab": {
          "base_uri": "https://localhost:8080/",
          "height": 466
        },
        "id": "QVq2wTLUSvKh",
        "outputId": "00d26493-17b3-419a-9388-83de68c7cd6d"
      }
    },
    {
      "cell_type": "markdown",
      "source": [
        "**We can see there is constant decrease in the accuracy score as gamma value increase.Thus gamma=0.01 is the best parameter.**"
      ],
      "metadata": {
        "id": "VkugPAUuSvKh"
      }
    },
    {
      "cell_type": "markdown",
      "source": [
        "# Taking polynomial kernel with different degree"
      ],
      "metadata": {
        "id": "k3N6j5T_SvKh"
      }
    },
    {
      "cell_type": "code",
      "source": [
        "degree=[2,3,4,5,6]\n",
        "acc_score=[]\n",
        "for d in degree:\n",
        "    svc = SVC(kernel='poly', degree=d)\n",
        "    scores = cross_val_score(svc, X, gender, cv=10, scoring='accuracy')\n",
        "    acc_score.append(scores.mean())\n",
        "print(acc_score)\n"
      ],
      "execution_count": null,
      "outputs": [
        {
          "output_type": "stream",
          "name": "stdout",
          "text": [
            "[0.8515842750469194, 0.9450654873617378, 0.8313989937307829, 0.8661622010142555, 0.7736463283152977]\n"
          ]
        }
      ],
      "metadata": {
        "colab": {
          "base_uri": "https://localhost:8080/"
        },
        "id": "q2QtHCZpSvKh",
        "outputId": "7670dab0-72cf-4ce2-fc25-f353a8f322b6"
      }
    },
    {
      "cell_type": "code",
      "source": [
        "import matplotlib.pyplot as plt\n",
        "%matplotlib inline\n",
        "\n",
        "degree=[2,3,4,5,6]\n",
        "\n",
        "# plot the value of C for SVM (x-axis) versus the cross-validated accuracy (y-axis)\n",
        "plt.plot(degree,acc_score,color='r')\n",
        "plt.xlabel('degrees for SVC ')\n",
        "plt.ylabel('Cross-Validated Accuracy')"
      ],
      "execution_count": null,
      "outputs": [
        {
          "output_type": "execute_result",
          "data": {
            "text/plain": [
              "Text(0, 0.5, 'Cross-Validated Accuracy')"
            ]
          },
          "metadata": {},
          "execution_count": 37
        },
        {
          "output_type": "display_data",
          "data": {
            "text/plain": [
              "<Figure size 640x480 with 1 Axes>"
            ],
            "image/png": "[encoded data removed]"
          },
          "metadata": {}
        }
      ],
      "metadata": {
        "colab": {
          "base_uri": "https://localhost:8080/",
          "height": 466
        },
        "id": "ECmmIer7SvKh",
        "outputId": "385db1e9-1762-41cd-a072-78b8c4787b6d"
      }
    },
    {
      "cell_type": "markdown",
      "source": [
        "## **Score is high for third degree polynomial and then there is drop in the accuracy score as degree of polynomial increases.Thus increase in polynomial degree results in high complexity of the model and thus causes overfitting.**"
      ],
      "metadata": {
        "id": "n6WmBVoDSvKi"
      }
    },
    {
      "cell_type": "markdown",
      "source": [
        "# Now performing SVM by taking hyperparameter C=0.1 and kernel as linear\n",
        "\n",
        "\n",
        "----------"
      ],
      "metadata": {
        "id": "sh-NjLhESvKi"
      }
    },
    {
      "cell_type": "code",
      "source": [
        "from sklearn.svm import SVC\n",
        "svc= SVC(kernel='linear',C=0.1)\n",
        "svc.fit(X_train,y_train)\n",
        "y_predict=svc.predict(X_test)\n",
        "accuracy_score= metrics.accuracy_score(y_test,y_predict)\n",
        "print(accuracy_score)"
      ],
      "execution_count": null,
      "outputs": [
        {
          "output_type": "stream",
          "name": "stdout",
          "text": [
            "0.9747634069400631\n"
          ]
        }
      ],
      "metadata": {
        "colab": {
          "base_uri": "https://localhost:8080/"
        },
        "id": "vGwWQMPrSvKi",
        "outputId": "0f56aee2-4dba-4365-f9e6-0a04f56eff11"
      }
    },
    {
      "cell_type": "markdown",
      "source": [
        "# With K-fold cross validation(where K=10)"
      ],
      "metadata": {
        "id": "fyQViVFASvKi"
      }
    },
    {
      "cell_type": "code",
      "source": [
        "from sklearn.model_selection import cross_val_score\n",
        "svc=SVC(kernel='linear',C=0.1)\n",
        "scores = cross_val_score(svc, X, gender, cv=10, scoring='accuracy')\n",
        "print(scores)"
      ],
      "execution_count": null,
      "outputs": [
        {
          "output_type": "stream",
          "name": "stdout",
          "text": [
            "[0.90851735 0.97160883 0.97476341 0.97791798 0.95899054 0.99053628\n",
            " 0.99369085 0.97791798 0.95886076 0.99367089]\n"
          ]
        }
      ],
      "metadata": {
        "colab": {
          "base_uri": "https://localhost:8080/"
        },
        "id": "B1KVRN31SvKj",
        "outputId": "dc0d8992-e4af-4c4a-d05f-15624357a41c"
      }
    },
    {
      "cell_type": "markdown",
      "source": [
        "Taking the mean of all the scores"
      ],
      "metadata": {
        "id": "hdy70klqSvKj"
      }
    },
    {
      "cell_type": "code",
      "source": [
        "print(scores.mean())"
      ],
      "execution_count": null,
      "outputs": [
        {
          "output_type": "stream",
          "name": "stdout",
          "text": [
            "0.9706474863235236\n"
          ]
        }
      ],
      "metadata": {
        "colab": {
          "base_uri": "https://localhost:8080/"
        },
        "id": "q8-nWBFMSvKj",
        "outputId": "511f6663-23a7-48c7-d622-bc4992a6fce2"
      }
    },
    {
      "cell_type": "markdown",
      "source": [
        "The accuracy is slightly good without K-fold cross validation but it may fail to generalise the unseen data.Hence it is advisable to perform K-fold cross validation where all the data is covered so it may predict unseen data well."
      ],
      "metadata": {
        "id": "EPLY_qPwSvKj"
      }
    },
    {
      "cell_type": "markdown",
      "source": [
        "# Now performing SVM by taking hyperparameter gamma=0.01 and kernel as rbf"
      ],
      "metadata": {
        "id": "ehC7dgzWSvKj"
      }
    },
    {
      "cell_type": "code",
      "source": [
        "from sklearn.svm import SVC\n",
        "svc= SVC(kernel='rbf',gamma=0.01)\n",
        "svc.fit(X_train,y_train)\n",
        "y_predict=svc.predict(X_test)\n",
        "metrics.accuracy_score(y_test,y_predict)"
      ],
      "execution_count": null,
      "outputs": [
        {
          "output_type": "execute_result",
          "data": {
            "text/plain": [
              "0.9668769716088328"
            ]
          },
          "metadata": {},
          "execution_count": 41
        }
      ],
      "metadata": {
        "colab": {
          "base_uri": "https://localhost:8080/"
        },
        "id": "wX49s5-sSvKj",
        "outputId": "df5aa6a0-54be-4ab0-ecba-f34bc8dfec6d"
      }
    },
    {
      "cell_type": "markdown",
      "source": [
        "# With K-fold cross validation(where K=10)"
      ],
      "metadata": {
        "id": "WJ06wDWZSvKk"
      }
    },
    {
      "cell_type": "code",
      "source": [
        "svc=SVC(kernel='linear',gamma=0.01)\n",
        "scores = cross_val_score(svc, X, gender, cv=10, scoring='accuracy')\n",
        "print(scores)\n",
        "print(scores.mean())"
      ],
      "execution_count": null,
      "outputs": [
        {
          "output_type": "stream",
          "name": "stdout",
          "text": [
            "[0.91167192 0.97160883 0.97160883 0.97791798 0.95899054 0.9873817\n",
            " 0.99369085 0.97791798 0.95253165 0.99367089]\n",
            "0.9696991175178692\n"
          ]
        }
      ],
      "metadata": {
        "colab": {
          "base_uri": "https://localhost:8080/"
        },
        "id": "LbitIVWQSvKk",
        "outputId": "b077a413-4738-4fb0-8f3e-59762eb94a81"
      }
    },
    {
      "cell_type": "markdown",
      "source": [
        "# Now performing SVM by taking hyperparameter degree=3 and kernel as poly"
      ],
      "metadata": {
        "id": "KZxMe1jRSvKk"
      }
    },
    {
      "cell_type": "code",
      "source": [
        "from sklearn.svm import SVC\n",
        "svc= SVC(kernel='poly',degree=3)\n",
        "svc.fit(X_train,y_train)\n",
        "y_predict=svc.predict(X_test)\n",
        "accuracy_score= metrics.accuracy_score(y_test,y_predict)\n",
        "print(accuracy_score)"
      ],
      "execution_count": null,
      "outputs": [
        {
          "output_type": "stream",
          "name": "stdout",
          "text": [
            "0.9589905362776026\n"
          ]
        }
      ],
      "metadata": {
        "colab": {
          "base_uri": "https://localhost:8080/"
        },
        "id": "UB3hOKG0SvKm",
        "outputId": "ad2d0bee-ab56-4301-8a29-a70900eb86d2"
      }
    },
    {
      "cell_type": "markdown",
      "source": [
        "# With K-fold cross validation(where K=10)"
      ],
      "metadata": {
        "id": "q-9pM6HySvKn"
      }
    },
    {
      "cell_type": "code",
      "source": [
        "svc=SVC(kernel='poly',degree=3)\n",
        "scores = cross_val_score(svc, X, gender, cv=10, scoring='accuracy')\n",
        "print(scores)\n",
        "print(scores.mean())"
      ],
      "execution_count": null,
      "outputs": [
        {
          "output_type": "stream",
          "name": "stdout",
          "text": [
            "[0.89274448 0.94952681 0.93059937 0.92744479 0.94952681 0.99369085\n",
            " 0.98422713 0.96529968 0.87974684 0.9778481 ]\n",
            "0.9450654873617378\n"
          ]
        }
      ],
      "metadata": {
        "colab": {
          "base_uri": "https://localhost:8080/"
        },
        "id": "rIC-A_5BSvKn",
        "outputId": "2f0e6f92-dcae-4741-8f99-53a1d63df2ac"
      }
    },
    {
      "cell_type": "markdown",
      "source": [
        "#Let us perform Grid search technique to find the best parameter"
      ],
      "metadata": {
        "id": "NWxkzErZSvKn"
      }
    },
    {
      "cell_type": "code",
      "source": [
        "from sklearn.svm import SVC\n",
        "svm_model= SVC()"
      ],
      "execution_count": null,
      "outputs": [],
      "metadata": {
        "id": "MrRC-gfpSvKn"
      }
    },
    {
      "cell_type": "code",
      "source": [
        "tuned_parameters = {\n",
        " 'C': (np.arange(0.1,1,0.1)) , 'kernel': ['linear'],\n",
        " 'C': (np.arange(0.1,1,0.1)) , 'gamma': [0.01,0.02,0.03,0.04,0.05], 'kernel': ['rbf'],\n",
        " 'degree': [2,3,4] ,'gamma':[0.01,0.02,0.03,0.04,0.05], 'C':(np.arange(0.1,1,0.1)) , 'kernel':['poly']\n",
        "                   }"
      ],
      "execution_count": null,
      "outputs": [],
      "metadata": {
        "id": "EgUxidE9SvKn"
      }
    },
    {
      "cell_type": "code",
      "source": [
        "from sklearn.model_selection import GridSearchCV\n",
        "\n",
        "model_svm = GridSearchCV(svm_model, tuned_parameters,cv=10,scoring='accuracy')"
      ],
      "execution_count": null,
      "outputs": [],
      "metadata": {
        "id": "4r15ndziSvKo"
      }
    },
    {
      "cell_type": "code",
      "source": [
        "model_svm.fit(X_train, y_train)\n",
        "print(model_svm.best_score_)"
      ],
      "execution_count": null,
      "outputs": [
        {
          "output_type": "stream",
          "name": "stdout",
          "text": [
            "0.9569745728424264\n"
          ]
        }
      ],
      "metadata": {
        "colab": {
          "base_uri": "https://localhost:8080/"
        },
        "id": "JJBlpqvxSvKo",
        "outputId": "39abbf59-51ac-4afa-9ea4-748bf30dc599"
      }
    },
    {
      "cell_type": "code",
      "source": [
        "print(model_svm.cv_results_)"
      ],
      "execution_count": null,
      "outputs": [
        {
          "output_type": "stream",
          "name": "stdout",
          "text": [
            "{'mean_fit_time': array([0.13777533, 0.12799048, 0.10652888, 0.09956222, 0.09548306,\n",
            "       0.13611445, 0.14051182, 0.13066549, 0.08176658, 0.07041914,\n",
            "       0.13885846, 0.13380041, 0.12763119, 0.11723812, 0.10551116,\n",
            "       0.16414428, 0.14169478, 0.09754426, 0.0940846 , 0.08427613,\n",
            "       0.12309601, 0.09931769, 0.08489392, 0.07090766, 0.05923612,\n",
            "       0.14254026, 0.18941691, 0.12251894, 0.10959587, 0.09590244,\n",
            "       0.1316627 , 0.10351501, 0.09292133, 0.08520288, 0.07896192,\n",
            "       0.17009983, 0.11039939, 0.0789752 , 0.06460705, 0.05451844,\n",
            "       0.13606365, 0.12941816, 0.11683402, 0.10361533, 0.0925467 ,\n",
            "       0.17264132, 0.11857228, 0.09017372, 0.08172376, 0.07740335,\n",
            "       0.11758151, 0.09223592, 0.07312322, 0.06012068, 0.05199544,\n",
            "       0.13816242, 0.18443401, 0.12459383, 0.09774835, 0.09057355,\n",
            "       0.12203119, 0.09664562, 0.08667855, 0.07932403, 0.07353785,\n",
            "       0.12128532, 0.12755468, 0.09776061, 0.05678413, 0.04859354,\n",
            "       0.13428218, 0.1280797 , 0.1106817 , 0.09747813, 0.08704467,\n",
            "       0.1159936 , 0.09856791, 0.13856814, 0.08517077, 0.0718071 ,\n",
            "       0.11708956, 0.08699913, 0.06656237, 0.05425272, 0.04645178,\n",
            "       0.13537409, 0.12587061, 0.10747697, 0.13651345, 0.10356274,\n",
            "       0.11171026, 0.09239273, 0.08129075, 0.0751817 , 0.07126811,\n",
            "       0.11014051, 0.08522909, 0.06474562, 0.0534178 , 0.0462461 ,\n",
            "       0.18625469, 0.13873589, 0.10713391, 0.09273396, 0.08297975,\n",
            "       0.11035392, 0.0902492 , 0.07847993, 0.07401769, 0.06876705,\n",
            "       0.12360401, 0.13601406, 0.06276805, 0.05095372, 0.04447143,\n",
            "       0.135461  , 0.12433102, 0.10398045, 0.09158981, 0.08156059,\n",
            "       0.10635881, 0.08951545, 0.12361934, 0.09161339, 0.06943324,\n",
            "       0.10440984, 0.08056796, 0.05975358, 0.04831531, 0.04270418,\n",
            "       0.13626752, 0.123277  , 0.10244133, 0.09237018, 0.1304904 ]), 'std_fit_time': array([0.0037407 , 0.0037211 , 0.00243937, 0.00178951, 0.00197211,\n",
            "       0.00456508, 0.03192085, 0.02891248, 0.00203519, 0.00082039,\n",
            "       0.00260298, 0.00293239, 0.00224846, 0.00357477, 0.00311645,\n",
            "       0.04050901, 0.03448212, 0.00282261, 0.00393616, 0.00091361,\n",
            "       0.0046826 , 0.00204357, 0.00177279, 0.00231015, 0.00092033,\n",
            "       0.01798287, 0.03754967, 0.00218678, 0.00461838, 0.0020084 ,\n",
            "       0.00439199, 0.00258074, 0.00193368, 0.00227569, 0.00210254,\n",
            "       0.0320156 , 0.02669355, 0.00188935, 0.00183272, 0.00087349,\n",
            "       0.00287542, 0.00204515, 0.00260399, 0.00637629, 0.00181354,\n",
            "       0.03572295, 0.02762657, 0.00138889, 0.00070389, 0.00354246,\n",
            "       0.0026924 , 0.00265848, 0.00093888, 0.00189187, 0.00323064,\n",
            "       0.00389536, 0.03493237, 0.0234445 , 0.00340285, 0.00219494,\n",
            "       0.00369917, 0.00260581, 0.00107689, 0.00273226, 0.00186236,\n",
            "       0.00213057, 0.0266617 , 0.02254276, 0.00222732, 0.00235526,\n",
            "       0.0058029 , 0.00244283, 0.00372333, 0.0028137 , 0.0024458 ,\n",
            "       0.00427331, 0.00921906, 0.00216403, 0.0169083 , 0.00196876,\n",
            "       0.00561868, 0.00367221, 0.0012165 , 0.00152995, 0.00100424,\n",
            "       0.00260659, 0.0024283 , 0.00291107, 0.02380065, 0.02493401,\n",
            "       0.00356351, 0.00282821, 0.00207539, 0.00233442, 0.00218235,\n",
            "       0.00241015, 0.00232475, 0.0019284 , 0.00132968, 0.0029338 ,\n",
            "       0.03912563, 0.02660851, 0.00242076, 0.00396729, 0.00252346,\n",
            "       0.00376842, 0.00148909, 0.0014328 , 0.00260118, 0.0017818 ,\n",
            "       0.0294745 , 0.00260651, 0.00192335, 0.00137559, 0.00214267,\n",
            "       0.00296308, 0.0028769 , 0.00368377, 0.00236986, 0.00169327,\n",
            "       0.00189769, 0.00200411, 0.01300856, 0.0223533 , 0.00287939,\n",
            "       0.00183398, 0.00215822, 0.00135168, 0.00214993, 0.00096426,\n",
            "       0.00286324, 0.00264426, 0.00348802, 0.00557585, 0.00384335]), 'mean_score_time': array([0.01394873, 0.01309783, 0.01195221, 0.01158402, 0.01073895,\n",
            "       0.01355288, 0.01604605, 0.01429245, 0.00959051, 0.0083431 ,\n",
            "       0.01400187, 0.01368778, 0.0132772 , 0.01226392, 0.0110914 ,\n",
            "       0.01730545, 0.01520112, 0.01097014, 0.00989811, 0.00938072,\n",
            "       0.01299355, 0.01139348, 0.00953615, 0.00824237, 0.00704327,\n",
            "       0.0147131 , 0.01879985, 0.0123368 , 0.01142361, 0.01039331,\n",
            "       0.01327009, 0.01145613, 0.01019998, 0.00933306, 0.0086937 ,\n",
            "       0.01900244, 0.01288867, 0.00909185, 0.00768087, 0.00678258,\n",
            "       0.01385148, 0.01325481, 0.01192701, 0.01059141, 0.00959082,\n",
            "       0.01860023, 0.01254227, 0.00984902, 0.0090426 , 0.0083581 ,\n",
            "       0.01348138, 0.01064053, 0.00866456, 0.00726163, 0.00630291,\n",
            "       0.01421034, 0.01998096, 0.01262739, 0.01021025, 0.00913205,\n",
            "       0.01240113, 0.01093924, 0.00998328, 0.00882268, 0.00832539,\n",
            "       0.01260648, 0.01487024, 0.0110383 , 0.00679042, 0.00597732,\n",
            "       0.01396971, 0.01330311, 0.01145835, 0.01015887, 0.00905547,\n",
            "       0.01282845, 0.01179557, 0.01562672, 0.00896094, 0.00781386,\n",
            "       0.0127326 , 0.01020186, 0.00790877, 0.00658314, 0.00571549,\n",
            "       0.01398149, 0.0129344 , 0.01130352, 0.01485019, 0.01009786,\n",
            "       0.01228225, 0.0105875 , 0.00910096, 0.0081521 , 0.00757694,\n",
            "       0.0123908 , 0.00990562, 0.00773096, 0.00632846, 0.00533009,\n",
            "       0.0205162 , 0.01374364, 0.01115386, 0.00950079, 0.00831282,\n",
            "       0.01197002, 0.01036839, 0.00855153, 0.00814781, 0.00752113,\n",
            "       0.01379242, 0.01570294, 0.00749362, 0.00609887, 0.00539606,\n",
            "       0.0140496 , 0.01276329, 0.0109911 , 0.00945206, 0.00817277,\n",
            "       0.01252882, 0.01022091, 0.0140743 , 0.0095758 , 0.00714238,\n",
            "       0.01234813, 0.00940182, 0.00722933, 0.00586827, 0.00510972,\n",
            "       0.01449893, 0.01259677, 0.01123199, 0.00971265, 0.0127404 ]), 'std_score_time': array([8.14122457e-04, 3.40922580e-04, 1.88948245e-04, 1.11520473e-03,\n",
            "       3.49800053e-04, 4.00401363e-04, 3.75762005e-03, 3.50030370e-03,\n",
            "       4.12656090e-04, 1.16682757e-04, 1.73422844e-04, 2.78884257e-04,\n",
            "       4.09157322e-04, 4.42085013e-04, 4.64902218e-04, 4.39704392e-03,\n",
            "       3.90237103e-03, 4.47207398e-04, 2.98847490e-04, 3.96617518e-04,\n",
            "       1.85513264e-04, 1.37227821e-04, 1.31697522e-04, 2.68902760e-04,\n",
            "       8.04158123e-05, 2.79650065e-03, 4.30656057e-03, 1.72201276e-04,\n",
            "       5.84118633e-04, 7.40037513e-04, 4.75702901e-04, 3.14686067e-04,\n",
            "       9.59318150e-05, 1.03814417e-04, 1.73649501e-04, 3.69337424e-03,\n",
            "       3.13736313e-03, 2.18652274e-04, 2.53159903e-04, 4.56397130e-04,\n",
            "       2.45843617e-04, 1.00255455e-04, 1.30138997e-04, 1.00480361e-04,\n",
            "       3.01535958e-04, 3.83709240e-03, 3.19566678e-03, 1.97932968e-04,\n",
            "       3.11158921e-04, 2.00431658e-04, 1.76850376e-03, 1.16433988e-04,\n",
            "       1.43693982e-04, 1.96851069e-04, 3.08018093e-04, 1.06369458e-03,\n",
            "       3.29762463e-03, 2.99587011e-03, 2.76135436e-04, 1.51337673e-04,\n",
            "       1.16911314e-04, 2.04995429e-04, 1.47578839e-03, 4.83216869e-04,\n",
            "       1.03723667e-03, 2.49347793e-04, 2.97491425e-03, 2.77073480e-03,\n",
            "       1.29558790e-04, 2.87560048e-04, 3.14150869e-04, 5.61354588e-04,\n",
            "       2.32069248e-04, 3.76721487e-04, 4.16598604e-04, 5.16062643e-04,\n",
            "       2.18761685e-03, 1.49770010e-03, 1.63334353e-03, 2.16901374e-04,\n",
            "       2.51194158e-04, 5.77091312e-04, 1.02961653e-04, 7.54237505e-05,\n",
            "       1.66859121e-04, 3.17981089e-04, 1.15610386e-04, 1.69370726e-04,\n",
            "       1.80633044e-03, 2.52524132e-03, 2.88529378e-04, 3.53762573e-04,\n",
            "       5.07498000e-04, 2.20584174e-04, 7.64958868e-05, 2.28046662e-04,\n",
            "       3.96631242e-04, 1.90966257e-04, 1.47731672e-04, 1.13221416e-04,\n",
            "       4.44709495e-03, 2.32134792e-03, 2.03885361e-04, 3.36707744e-04,\n",
            "       1.31447376e-04, 2.21123006e-04, 5.28534024e-04, 9.09724853e-05,\n",
            "       5.60474619e-04, 4.89808645e-04, 3.35701688e-03, 1.98320669e-03,\n",
            "       2.72840356e-04, 1.08359985e-04, 2.94956065e-04, 2.86307044e-04,\n",
            "       9.71017408e-05, 2.98473971e-04, 4.01570513e-04, 3.13300219e-04,\n",
            "       1.57061079e-03, 1.06266655e-03, 4.68634985e-04, 2.33152244e-03,\n",
            "       9.87701186e-05, 4.36883058e-04, 3.25946651e-04, 2.51416885e-04,\n",
            "       8.53935375e-05, 1.08867941e-04, 1.58579147e-03, 3.69094539e-04,\n",
            "       1.30378365e-03, 1.89939231e-03, 3.16274542e-04]), 'param_C': masked_array(data=[0.1, 0.1, 0.1, 0.1, 0.1, 0.1, 0.1, 0.1, 0.1, 0.1, 0.1,\n",
            "                   0.1, 0.1, 0.1, 0.1, 0.2, 0.2, 0.2, 0.2, 0.2, 0.2, 0.2,\n",
            "                   0.2, 0.2, 0.2, 0.2, 0.2, 0.2, 0.2, 0.2,\n",
            "                   0.30000000000000004, 0.30000000000000004,\n",
            "                   0.30000000000000004, 0.30000000000000004,\n",
            "                   0.30000000000000004, 0.30000000000000004,\n",
            "                   0.30000000000000004, 0.30000000000000004,\n",
            "                   0.30000000000000004, 0.30000000000000004,\n",
            "                   0.30000000000000004, 0.30000000000000004,\n",
            "                   0.30000000000000004, 0.30000000000000004,\n",
            "                   0.30000000000000004, 0.4, 0.4, 0.4, 0.4, 0.4, 0.4, 0.4,\n",
            "                   0.4, 0.4, 0.4, 0.4, 0.4, 0.4, 0.4, 0.4, 0.5, 0.5, 0.5,\n",
            "                   0.5, 0.5, 0.5, 0.5, 0.5, 0.5, 0.5, 0.5, 0.5, 0.5, 0.5,\n",
            "                   0.5, 0.6, 0.6, 0.6, 0.6, 0.6, 0.6, 0.6, 0.6, 0.6, 0.6,\n",
            "                   0.6, 0.6, 0.6, 0.6, 0.6, 0.7000000000000001,\n",
            "                   0.7000000000000001, 0.7000000000000001,\n",
            "                   0.7000000000000001, 0.7000000000000001,\n",
            "                   0.7000000000000001, 0.7000000000000001,\n",
            "                   0.7000000000000001, 0.7000000000000001,\n",
            "                   0.7000000000000001, 0.7000000000000001,\n",
            "                   0.7000000000000001, 0.7000000000000001,\n",
            "                   0.7000000000000001, 0.7000000000000001, 0.8, 0.8, 0.8,\n",
            "                   0.8, 0.8, 0.8, 0.8, 0.8, 0.8, 0.8, 0.8, 0.8, 0.8, 0.8,\n",
            "                   0.8, 0.9, 0.9, 0.9, 0.9, 0.9, 0.9, 0.9, 0.9, 0.9, 0.9,\n",
            "                   0.9, 0.9, 0.9, 0.9, 0.9],\n",
            "             mask=[False, False, False, False, False, False, False, False,\n",
            "                   False, False, False, False, False, False, False, False,\n",
            "                   False, False, False, False, False, False, False, False,\n",
            "                   False, False, False, False, False, False, False, False,\n",
            "                   False, False, False, False, False, False, False, False,\n",
            "                   False, False, False, False, False, False, False, False,\n",
            "                   False, False, False, False, False, False, False, False,\n",
            "                   False, False, False, False, False, False, False, False,\n",
            "                   False, False, False, False, False, False, False, False,\n",
            "                   False, False, False, False, False, False, False, False,\n",
            "                   False, False, False, False, False, False, False, False,\n",
            "                   False, False, False, False, False, False, False, False,\n",
            "                   False, False, False, False, False, False, False, False,\n",
            "                   False, False, False, False, False, False, False, False,\n",
            "                   False, False, False, False, False, False, False, False,\n",
            "                   False, False, False, False, False, False, False, False,\n",
            "                   False, False, False, False, False, False, False],\n",
            "       fill_value='?',\n",
            "            dtype=object), 'param_degree': masked_array(data=[2, 2, 2, 2, 2, 3, 3, 3, 3, 3, 4, 4, 4, 4, 4, 2, 2, 2,\n",
            "                   2, 2, 3, 3, 3, 3, 3, 4, 4, 4, 4, 4, 2, 2, 2, 2, 2, 3,\n",
            "                   3, 3, 3, 3, 4, 4, 4, 4, 4, 2, 2, 2, 2, 2, 3, 3, 3, 3,\n",
            "                   3, 4, 4, 4, 4, 4, 2, 2, 2, 2, 2, 3, 3, 3, 3, 3, 4, 4,\n",
            "                   4, 4, 4, 2, 2, 2, 2, 2, 3, 3, 3, 3, 3, 4, 4, 4, 4, 4,\n",
            "                   2, 2, 2, 2, 2, 3, 3, 3, 3, 3, 4, 4, 4, 4, 4, 2, 2, 2,\n",
            "                   2, 2, 3, 3, 3, 3, 3, 4, 4, 4, 4, 4, 2, 2, 2, 2, 2, 3,\n",
            "                   3, 3, 3, 3, 4, 4, 4, 4, 4],\n",
            "             mask=[False, False, False, False, False, False, False, False,\n",
            "                   False, False, False, False, False, False, False, False,\n",
            "                   False, False, False, False, False, False, False, False,\n",
            "                   False, False, False, False, False, False, False, False,\n",
            "                   False, False, False, False, False, False, False, False,\n",
            "                   False, False, False, False, False, False, False, False,\n",
            "                   False, False, False, False, False, False, False, False,\n",
            "                   False, False, False, False, False, False, False, False,\n",
            "                   False, False, False, False, False, False, False, False,\n",
            "                   False, False, False, False, False, False, False, False,\n",
            "                   False, False, False, False, False, False, False, False,\n",
            "                   False, False, False, False, False, False, False, False,\n",
            "                   False, False, False, False, False, False, False, False,\n",
            "                   False, False, False, False, False, False, False, False,\n",
            "                   False, False, False, False, False, False, False, False,\n",
            "                   False, False, False, False, False, False, False, False,\n",
            "                   False, False, False, False, False, False, False],\n",
            "       fill_value='?',\n",
            "            dtype=object), 'param_gamma': masked_array(data=[0.01, 0.02, 0.03, 0.04, 0.05, 0.01, 0.02, 0.03, 0.04,\n",
            "                   0.05, 0.01, 0.02, 0.03, 0.04, 0.05, 0.01, 0.02, 0.03,\n",
            "                   0.04, 0.05, 0.01, 0.02, 0.03, 0.04, 0.05, 0.01, 0.02,\n",
            "                   0.03, 0.04, 0.05, 0.01, 0.02, 0.03, 0.04, 0.05, 0.01,\n",
            "                   0.02, 0.03, 0.04, 0.05, 0.01, 0.02, 0.03, 0.04, 0.05,\n",
            "                   0.01, 0.02, 0.03, 0.04, 0.05, 0.01, 0.02, 0.03, 0.04,\n",
            "                   0.05, 0.01, 0.02, 0.03, 0.04, 0.05, 0.01, 0.02, 0.03,\n",
            "                   0.04, 0.05, 0.01, 0.02, 0.03, 0.04, 0.05, 0.01, 0.02,\n",
            "                   0.03, 0.04, 0.05, 0.01, 0.02, 0.03, 0.04, 0.05, 0.01,\n",
            "                   0.02, 0.03, 0.04, 0.05, 0.01, 0.02, 0.03, 0.04, 0.05,\n",
            "                   0.01, 0.02, 0.03, 0.04, 0.05, 0.01, 0.02, 0.03, 0.04,\n",
            "                   0.05, 0.01, 0.02, 0.03, 0.04, 0.05, 0.01, 0.02, 0.03,\n",
            "                   0.04, 0.05, 0.01, 0.02, 0.03, 0.04, 0.05, 0.01, 0.02,\n",
            "                   0.03, 0.04, 0.05, 0.01, 0.02, 0.03, 0.04, 0.05, 0.01,\n",
            "                   0.02, 0.03, 0.04, 0.05, 0.01, 0.02, 0.03, 0.04, 0.05],\n",
            "             mask=[False, False, False, False, False, False, False, False,\n",
            "                   False, False, False, False, False, False, False, False,\n",
            "                   False, False, False, False, False, False, False, False,\n",
            "                   False, False, False, False, False, False, False, False,\n",
            "                   False, False, False, False, False, False, False, False,\n",
            "                   False, False, False, False, False, False, False, False,\n",
            "                   False, False, False, False, False, False, False, False,\n",
            "                   False, False, False, False, False, False, False, False,\n",
            "                   False, False, False, False, False, False, False, False,\n",
            "                   False, False, False, False, False, False, False, False,\n",
            "                   False, False, False, False, False, False, False, False,\n",
            "                   False, False, False, False, False, False, False, False,\n",
            "                   False, False, False, False, False, False, False, False,\n",
            "                   False, False, False, False, False, False, False, False,\n",
            "                   False, False, False, False, False, False, False, False,\n",
            "                   False, False, False, False, False, False, False, False,\n",
            "                   False, False, False, False, False, False, False],\n",
            "       fill_value='?',\n",
            "            dtype=object), 'param_kernel': masked_array(data=['poly', 'poly', 'poly', 'poly', 'poly', 'poly', 'poly',\n",
            "                   'poly', 'poly', 'poly', 'poly', 'poly', 'poly', 'poly',\n",
            "                   'poly', 'poly', 'poly', 'poly', 'poly', 'poly', 'poly',\n",
            "                   'poly', 'poly', 'poly', 'poly', 'poly', 'poly', 'poly',\n",
            "                   'poly', 'poly', 'poly', 'poly', 'poly', 'poly', 'poly',\n",
            "                   'poly', 'poly', 'poly', 'poly', 'poly', 'poly', 'poly',\n",
            "                   'poly', 'poly', 'poly', 'poly', 'poly', 'poly', 'poly',\n",
            "                   'poly', 'poly', 'poly', 'poly', 'poly', 'poly', 'poly',\n",
            "                   'poly', 'poly', 'poly', 'poly', 'poly', 'poly', 'poly',\n",
            "                   'poly', 'poly', 'poly', 'poly', 'poly', 'poly', 'poly',\n",
            "                   'poly', 'poly', 'poly', 'poly', 'poly', 'poly', 'poly',\n",
            "                   'poly', 'poly', 'poly', 'poly', 'poly', 'poly', 'poly',\n",
            "                   'poly', 'poly', 'poly', 'poly', 'poly', 'poly', 'poly',\n",
            "                   'poly', 'poly', 'poly', 'poly', 'poly', 'poly', 'poly',\n",
            "                   'poly', 'poly', 'poly', 'poly', 'poly', 'poly', 'poly',\n",
            "                   'poly', 'poly', 'poly', 'poly', 'poly', 'poly', 'poly',\n",
            "                   'poly', 'poly', 'poly', 'poly', 'poly', 'poly', 'poly',\n",
            "                   'poly', 'poly', 'poly', 'poly', 'poly', 'poly', 'poly',\n",
            "                   'poly', 'poly', 'poly', 'poly', 'poly', 'poly', 'poly',\n",
            "                   'poly', 'poly'],\n",
            "             mask=[False, False, False, False, False, False, False, False,\n",
            "                   False, False, False, False, False, False, False, False,\n",
            "                   False, False, False, False, False, False, False, False,\n",
            "                   False, False, False, False, False, False, False, False,\n",
            "                   False, False, False, False, False, False, False, False,\n",
            "                   False, False, False, False, False, False, False, False,\n",
            "                   False, False, False, False, False, False, False, False,\n",
            "                   False, False, False, False, False, False, False, False,\n",
            "                   False, False, False, False, False, False, False, False,\n",
            "                   False, False, False, False, False, False, False, False,\n",
            "                   False, False, False, False, False, False, False, False,\n",
            "                   False, False, False, False, False, False, False, False,\n",
            "                   False, False, False, False, False, False, False, False,\n",
            "                   False, False, False, False, False, False, False, False,\n",
            "                   False, False, False, False, False, False, False, False,\n",
            "                   False, False, False, False, False, False, False, False,\n",
            "                   False, False, False, False, False, False, False],\n",
            "       fill_value='?',\n",
            "            dtype=object), 'params': [{'C': 0.1, 'degree': 2, 'gamma': 0.01, 'kernel': 'poly'}, {'C': 0.1, 'degree': 2, 'gamma': 0.02, 'kernel': 'poly'}, {'C': 0.1, 'degree': 2, 'gamma': 0.03, 'kernel': 'poly'}, {'C': 0.1, 'degree': 2, 'gamma': 0.04, 'kernel': 'poly'}, {'C': 0.1, 'degree': 2, 'gamma': 0.05, 'kernel': 'poly'}, {'C': 0.1, 'degree': 3, 'gamma': 0.01, 'kernel': 'poly'}, {'C': 0.1, 'degree': 3, 'gamma': 0.02, 'kernel': 'poly'}, {'C': 0.1, 'degree': 3, 'gamma': 0.03, 'kernel': 'poly'}, {'C': 0.1, 'degree': 3, 'gamma': 0.04, 'kernel': 'poly'}, {'C': 0.1, 'degree': 3, 'gamma': 0.05, 'kernel': 'poly'}, {'C': 0.1, 'degree': 4, 'gamma': 0.01, 'kernel': 'poly'}, {'C': 0.1, 'degree': 4, 'gamma': 0.02, 'kernel': 'poly'}, {'C': 0.1, 'degree': 4, 'gamma': 0.03, 'kernel': 'poly'}, {'C': 0.1, 'degree': 4, 'gamma': 0.04, 'kernel': 'poly'}, {'C': 0.1, 'degree': 4, 'gamma': 0.05, 'kernel': 'poly'}, {'C': 0.2, 'degree': 2, 'gamma': 0.01, 'kernel': 'poly'}, {'C': 0.2, 'degree': 2, 'gamma': 0.02, 'kernel': 'poly'}, {'C': 0.2, 'degree': 2, 'gamma': 0.03, 'kernel': 'poly'}, {'C': 0.2, 'degree': 2, 'gamma': 0.04, 'kernel': 'poly'}, {'C': 0.2, 'degree': 2, 'gamma': 0.05, 'kernel': 'poly'}, {'C': 0.2, 'degree': 3, 'gamma': 0.01, 'kernel': 'poly'}, {'C': 0.2, 'degree': 3, 'gamma': 0.02, 'kernel': 'poly'}, {'C': 0.2, 'degree': 3, 'gamma': 0.03, 'kernel': 'poly'}, {'C': 0.2, 'degree': 3, 'gamma': 0.04, 'kernel': 'poly'}, {'C': 0.2, 'degree': 3, 'gamma': 0.05, 'kernel': 'poly'}, {'C': 0.2, 'degree': 4, 'gamma': 0.01, 'kernel': 'poly'}, {'C': 0.2, 'degree': 4, 'gamma': 0.02, 'kernel': 'poly'}, {'C': 0.2, 'degree': 4, 'gamma': 0.03, 'kernel': 'poly'}, {'C': 0.2, 'degree': 4, 'gamma': 0.04, 'kernel': 'poly'}, {'C': 0.2, 'degree': 4, 'gamma': 0.05, 'kernel': 'poly'}, {'C': 0.30000000000000004, 'degree': 2, 'gamma': 0.01, 'kernel': 'poly'}, {'C': 0.30000000000000004, 'degree': 2, 'gamma': 0.02, 'kernel': 'poly'}, {'C': 0.30000000000000004, 'degree': 2, 'gamma': 0.03, 'kernel': 'poly'}, {'C': 0.30000000000000004, 'degree': 2, 'gamma': 0.04, 'kernel': 'poly'}, {'C': 0.30000000000000004, 'degree': 2, 'gamma': 0.05, 'kernel': 'poly'}, {'C': 0.30000000000000004, 'degree': 3, 'gamma': 0.01, 'kernel': 'poly'}, {'C': 0.30000000000000004, 'degree': 3, 'gamma': 0.02, 'kernel': 'poly'}, {'C': 0.30000000000000004, 'degree': 3, 'gamma': 0.03, 'kernel': 'poly'}, {'C': 0.30000000000000004, 'degree': 3, 'gamma': 0.04, 'kernel': 'poly'}, {'C': 0.30000000000000004, 'degree': 3, 'gamma': 0.05, 'kernel': 'poly'}, {'C': 0.30000000000000004, 'degree': 4, 'gamma': 0.01, 'kernel': 'poly'}, {'C': 0.30000000000000004, 'degree': 4, 'gamma': 0.02, 'kernel': 'poly'}, {'C': 0.30000000000000004, 'degree': 4, 'gamma': 0.03, 'kernel': 'poly'}, {'C': 0.30000000000000004, 'degree': 4, 'gamma': 0.04, 'kernel': 'poly'}, {'C': 0.30000000000000004, 'degree': 4, 'gamma': 0.05, 'kernel': 'poly'}, {'C': 0.4, 'degree': 2, 'gamma': 0.01, 'kernel': 'poly'}, {'C': 0.4, 'degree': 2, 'gamma': 0.02, 'kernel': 'poly'}, {'C': 0.4, 'degree': 2, 'gamma': 0.03, 'kernel': 'poly'}, {'C': 0.4, 'degree': 2, 'gamma': 0.04, 'kernel': 'poly'}, {'C': 0.4, 'degree': 2, 'gamma': 0.05, 'kernel': 'poly'}, {'C': 0.4, 'degree': 3, 'gamma': 0.01, 'kernel': 'poly'}, {'C': 0.4, 'degree': 3, 'gamma': 0.02, 'kernel': 'poly'}, {'C': 0.4, 'degree': 3, 'gamma': 0.03, 'kernel': 'poly'}, {'C': 0.4, 'degree': 3, 'gamma': 0.04, 'kernel': 'poly'}, {'C': 0.4, 'degree': 3, 'gamma': 0.05, 'kernel': 'poly'}, {'C': 0.4, 'degree': 4, 'gamma': 0.01, 'kernel': 'poly'}, {'C': 0.4, 'degree': 4, 'gamma': 0.02, 'kernel': 'poly'}, {'C': 0.4, 'degree': 4, 'gamma': 0.03, 'kernel': 'poly'}, {'C': 0.4, 'degree': 4, 'gamma': 0.04, 'kernel': 'poly'}, {'C': 0.4, 'degree': 4, 'gamma': 0.05, 'kernel': 'poly'}, {'C': 0.5, 'degree': 2, 'gamma': 0.01, 'kernel': 'poly'}, {'C': 0.5, 'degree': 2, 'gamma': 0.02, 'kernel': 'poly'}, {'C': 0.5, 'degree': 2, 'gamma': 0.03, 'kernel': 'poly'}, {'C': 0.5, 'degree': 2, 'gamma': 0.04, 'kernel': 'poly'}, {'C': 0.5, 'degree': 2, 'gamma': 0.05, 'kernel': 'poly'}, {'C': 0.5, 'degree': 3, 'gamma': 0.01, 'kernel': 'poly'}, {'C': 0.5, 'degree': 3, 'gamma': 0.02, 'kernel': 'poly'}, {'C': 0.5, 'degree': 3, 'gamma': 0.03, 'kernel': 'poly'}, {'C': 0.5, 'degree': 3, 'gamma': 0.04, 'kernel': 'poly'}, {'C': 0.5, 'degree': 3, 'gamma': 0.05, 'kernel': 'poly'}, {'C': 0.5, 'degree': 4, 'gamma': 0.01, 'kernel': 'poly'}, {'C': 0.5, 'degree': 4, 'gamma': 0.02, 'kernel': 'poly'}, {'C': 0.5, 'degree': 4, 'gamma': 0.03, 'kernel': 'poly'}, {'C': 0.5, 'degree': 4, 'gamma': 0.04, 'kernel': 'poly'}, {'C': 0.5, 'degree': 4, 'gamma': 0.05, 'kernel': 'poly'}, {'C': 0.6, 'degree': 2, 'gamma': 0.01, 'kernel': 'poly'}, {'C': 0.6, 'degree': 2, 'gamma': 0.02, 'kernel': 'poly'}, {'C': 0.6, 'degree': 2, 'gamma': 0.03, 'kernel': 'poly'}, {'C': 0.6, 'degree': 2, 'gamma': 0.04, 'kernel': 'poly'}, {'C': 0.6, 'degree': 2, 'gamma': 0.05, 'kernel': 'poly'}, {'C': 0.6, 'degree': 3, 'gamma': 0.01, 'kernel': 'poly'}, {'C': 0.6, 'degree': 3, 'gamma': 0.02, 'kernel': 'poly'}, {'C': 0.6, 'degree': 3, 'gamma': 0.03, 'kernel': 'poly'}, {'C': 0.6, 'degree': 3, 'gamma': 0.04, 'kernel': 'poly'}, {'C': 0.6, 'degree': 3, 'gamma': 0.05, 'kernel': 'poly'}, {'C': 0.6, 'degree': 4, 'gamma': 0.01, 'kernel': 'poly'}, {'C': 0.6, 'degree': 4, 'gamma': 0.02, 'kernel': 'poly'}, {'C': 0.6, 'degree': 4, 'gamma': 0.03, 'kernel': 'poly'}, {'C': 0.6, 'degree': 4, 'gamma': 0.04, 'kernel': 'poly'}, {'C': 0.6, 'degree': 4, 'gamma': 0.05, 'kernel': 'poly'}, {'C': 0.7000000000000001, 'degree': 2, 'gamma': 0.01, 'kernel': 'poly'}, {'C': 0.7000000000000001, 'degree': 2, 'gamma': 0.02, 'kernel': 'poly'}, {'C': 0.7000000000000001, 'degree': 2, 'gamma': 0.03, 'kernel': 'poly'}, {'C': 0.7000000000000001, 'degree': 2, 'gamma': 0.04, 'kernel': 'poly'}, {'C': 0.7000000000000001, 'degree': 2, 'gamma': 0.05, 'kernel': 'poly'}, {'C': 0.7000000000000001, 'degree': 3, 'gamma': 0.01, 'kernel': 'poly'}, {'C': 0.7000000000000001, 'degree': 3, 'gamma': 0.02, 'kernel': 'poly'}, {'C': 0.7000000000000001, 'degree': 3, 'gamma': 0.03, 'kernel': 'poly'}, {'C': 0.7000000000000001, 'degree': 3, 'gamma': 0.04, 'kernel': 'poly'}, {'C': 0.7000000000000001, 'degree': 3, 'gamma': 0.05, 'kernel': 'poly'}, {'C': 0.7000000000000001, 'degree': 4, 'gamma': 0.01, 'kernel': 'poly'}, {'C': 0.7000000000000001, 'degree': 4, 'gamma': 0.02, 'kernel': 'poly'}, {'C': 0.7000000000000001, 'degree': 4, 'gamma': 0.03, 'kernel': 'poly'}, {'C': 0.7000000000000001, 'degree': 4, 'gamma': 0.04, 'kernel': 'poly'}, {'C': 0.7000000000000001, 'degree': 4, 'gamma': 0.05, 'kernel': 'poly'}, {'C': 0.8, 'degree': 2, 'gamma': 0.01, 'kernel': 'poly'}, {'C': 0.8, 'degree': 2, 'gamma': 0.02, 'kernel': 'poly'}, {'C': 0.8, 'degree': 2, 'gamma': 0.03, 'kernel': 'poly'}, {'C': 0.8, 'degree': 2, 'gamma': 0.04, 'kernel': 'poly'}, {'C': 0.8, 'degree': 2, 'gamma': 0.05, 'kernel': 'poly'}, {'C': 0.8, 'degree': 3, 'gamma': 0.01, 'kernel': 'poly'}, {'C': 0.8, 'degree': 3, 'gamma': 0.02, 'kernel': 'poly'}, {'C': 0.8, 'degree': 3, 'gamma': 0.03, 'kernel': 'poly'}, {'C': 0.8, 'degree': 3, 'gamma': 0.04, 'kernel': 'poly'}, {'C': 0.8, 'degree': 3, 'gamma': 0.05, 'kernel': 'poly'}, {'C': 0.8, 'degree': 4, 'gamma': 0.01, 'kernel': 'poly'}, {'C': 0.8, 'degree': 4, 'gamma': 0.02, 'kernel': 'poly'}, {'C': 0.8, 'degree': 4, 'gamma': 0.03, 'kernel': 'poly'}, {'C': 0.8, 'degree': 4, 'gamma': 0.04, 'kernel': 'poly'}, {'C': 0.8, 'degree': 4, 'gamma': 0.05, 'kernel': 'poly'}, {'C': 0.9, 'degree': 2, 'gamma': 0.01, 'kernel': 'poly'}, {'C': 0.9, 'degree': 2, 'gamma': 0.02, 'kernel': 'poly'}, {'C': 0.9, 'degree': 2, 'gamma': 0.03, 'kernel': 'poly'}, {'C': 0.9, 'degree': 2, 'gamma': 0.04, 'kernel': 'poly'}, {'C': 0.9, 'degree': 2, 'gamma': 0.05, 'kernel': 'poly'}, {'C': 0.9, 'degree': 3, 'gamma': 0.01, 'kernel': 'poly'}, {'C': 0.9, 'degree': 3, 'gamma': 0.02, 'kernel': 'poly'}, {'C': 0.9, 'degree': 3, 'gamma': 0.03, 'kernel': 'poly'}, {'C': 0.9, 'degree': 3, 'gamma': 0.04, 'kernel': 'poly'}, {'C': 0.9, 'degree': 3, 'gamma': 0.05, 'kernel': 'poly'}, {'C': 0.9, 'degree': 4, 'gamma': 0.01, 'kernel': 'poly'}, {'C': 0.9, 'degree': 4, 'gamma': 0.02, 'kernel': 'poly'}, {'C': 0.9, 'degree': 4, 'gamma': 0.03, 'kernel': 'poly'}, {'C': 0.9, 'degree': 4, 'gamma': 0.04, 'kernel': 'poly'}, {'C': 0.9, 'degree': 4, 'gamma': 0.05, 'kernel': 'poly'}], 'split0_test_score': array([0.7007874 , 0.67322835, 0.73228346, 0.80314961, 0.81496063,\n",
            "       0.56692913, 0.89370079, 0.87795276, 0.88582677, 0.90944882,\n",
            "       0.52362205, 0.55511811, 0.6496063 , 0.72047244, 0.73622047,\n",
            "       0.63779528, 0.72440945, 0.81102362, 0.81889764, 0.84251969,\n",
            "       0.68110236, 0.88976378, 0.87795276, 0.90551181, 0.91338583,\n",
            "       0.52362205, 0.62992126, 0.69291339, 0.72834646, 0.79133858,\n",
            "       0.65354331, 0.7480315 , 0.81889764, 0.84251969, 0.87007874,\n",
            "       0.71259843, 0.88188976, 0.88976378, 0.90551181, 0.92125984,\n",
            "       0.52362205, 0.62598425, 0.72047244, 0.74409449, 0.80708661,\n",
            "       0.67322835, 0.80314961, 0.83464567, 0.87007874, 0.87401575,\n",
            "       0.88188976, 0.86614173, 0.8976378 , 0.91732283, 0.92913386,\n",
            "       0.52362205, 0.62992126, 0.72440945, 0.7519685 , 0.82677165,\n",
            "       0.68897638, 0.81102362, 0.84251969, 0.87007874, 0.87401575,\n",
            "       0.92125984, 0.86614173, 0.90551181, 0.91732283, 0.93700787,\n",
            "       0.52362205, 0.6496063 , 0.72440945, 0.79133858, 0.83070866,\n",
            "       0.70472441, 0.81496063, 0.84251969, 0.87401575, 0.87795276,\n",
            "       0.91338583, 0.87007874, 0.90551181, 0.92125984, 0.94094488,\n",
            "       0.52362205, 0.66141732, 0.72440945, 0.7992126 , 0.83858268,\n",
            "       0.71653543, 0.81889764, 0.86614173, 0.87401575, 0.88188976,\n",
            "       0.90551181, 0.88582677, 0.90551181, 0.92913386, 0.9488189 ,\n",
            "       0.52362205, 0.66535433, 0.72834646, 0.80314961, 0.8503937 ,\n",
            "       0.72440945, 0.81889764, 0.87007874, 0.87795276, 0.88582677,\n",
            "       0.89370079, 0.88582677, 0.90551181, 0.92913386, 0.95275591,\n",
            "       0.52755906, 0.66535433, 0.74015748, 0.80708661, 0.86220472,\n",
            "       0.73228346, 0.83464567, 0.87007874, 0.87795276, 0.89370079,\n",
            "       0.90944882, 0.88976378, 0.90551181, 0.93307087, 0.95275591,\n",
            "       0.52755906, 0.67322835, 0.74409449, 0.81496063, 0.86614173]), 'split1_test_score': array([0.72047244, 0.65748031, 0.74015748, 0.78740157, 0.82283465,\n",
            "       0.58661417, 0.87795276, 0.88582677, 0.92125984, 0.92125984,\n",
            "       0.51181102, 0.68503937, 0.59448819, 0.68110236, 0.73622047,\n",
            "       0.5984252 , 0.72440945, 0.7992126 , 0.83070866, 0.85433071,\n",
            "       0.67716535, 0.88582677, 0.90944882, 0.92125984, 0.93307087,\n",
            "       0.50787402, 0.59448819, 0.64173228, 0.72834646, 0.78346457,\n",
            "       0.63779528, 0.77559055, 0.83464567, 0.84645669, 0.87795276,\n",
            "       0.75984252, 0.89370079, 0.92125984, 0.92519685, 0.94094488,\n",
            "       0.50787402, 0.56692913, 0.68110236, 0.75984252, 0.83858268,\n",
            "       0.65748031, 0.78740157, 0.83464567, 0.87401575, 0.88582677,\n",
            "       0.87401575, 0.88582677, 0.91732283, 0.93307087, 0.94094488,\n",
            "       0.51181102, 0.58267717, 0.70472441, 0.77559055, 0.87007874,\n",
            "       0.68503937, 0.7992126 , 0.84645669, 0.87795276, 0.89370079,\n",
            "       0.85433071, 0.8976378 , 0.92125984, 0.93700787, 0.95275591,\n",
            "       0.51181102, 0.59448819, 0.71259843, 0.78346457, 0.87007874,\n",
            "       0.69685039, 0.82283465, 0.85433071, 0.88582677, 0.89370079,\n",
            "       0.88976378, 0.90944882, 0.92125984, 0.94094488, 0.95669291,\n",
            "       0.51181102, 0.6023622 , 0.72440945, 0.80708661, 0.87795276,\n",
            "       0.71259843, 0.83464567, 0.87007874, 0.88188976, 0.9015748 ,\n",
            "       0.88188976, 0.90944882, 0.92519685, 0.94094488, 0.95669291,\n",
            "       0.51574803, 0.61023622, 0.73622047, 0.83464567, 0.87795276,\n",
            "       0.72440945, 0.83070866, 0.87401575, 0.89370079, 0.9015748 ,\n",
            "       0.87795276, 0.92125984, 0.92913386, 0.94488189, 0.95669291,\n",
            "       0.51968504, 0.62204724, 0.74015748, 0.8503937 , 0.87795276,\n",
            "       0.74015748, 0.83464567, 0.87795276, 0.89370079, 0.90944882,\n",
            "       0.87401575, 0.92125984, 0.93307087, 0.9488189 , 0.96456693,\n",
            "       0.52362205, 0.63779528, 0.7519685 , 0.86614173, 0.87795276]), 'split2_test_score': array([0.68503937, 0.66929134, 0.74015748, 0.80314961, 0.8503937 ,\n",
            "       0.55511811, 0.91338583, 0.90944882, 0.91732283, 0.95275591,\n",
            "       0.51574803, 0.54330709, 0.62992126, 0.69291339, 0.73228346,\n",
            "       0.62598425, 0.73622047, 0.81889764, 0.86220472, 0.88188976,\n",
            "       0.67322835, 0.91732283, 0.90551181, 0.95275591, 0.96062992,\n",
            "       0.51574803, 0.62992126, 0.66535433, 0.71653543, 0.77952756,\n",
            "       0.64173228, 0.75984252, 0.85826772, 0.87795276, 0.8976378 ,\n",
            "       0.7007874 , 0.92125984, 0.93700787, 0.9488189 , 0.97637795,\n",
            "       0.51574803, 0.61417323, 0.69291339, 0.74015748, 0.80708661,\n",
            "       0.66929134, 0.80314961, 0.86220472, 0.88582677, 0.9015748 ,\n",
            "       0.90944882, 0.8976378 , 0.9488189 , 0.96456693, 0.97637795,\n",
            "       0.51574803, 0.62204724, 0.70866142, 0.76377953, 0.82677165,\n",
            "       0.70866142, 0.83464567, 0.87795276, 0.8976378 , 0.9015748 ,\n",
            "       0.91338583, 0.8976378 , 0.95275591, 0.96456693, 0.97637795,\n",
            "       0.51574803, 0.62992126, 0.71259843, 0.78346457, 0.83070866,\n",
            "       0.72047244, 0.84645669, 0.88582677, 0.9015748 , 0.9015748 ,\n",
            "       0.90944882, 0.9015748 , 0.95275591, 0.97637795, 0.98031496,\n",
            "       0.51574803, 0.63779528, 0.71259843, 0.7992126 , 0.84251969,\n",
            "       0.72834646, 0.86614173, 0.88582677, 0.9015748 , 0.90551181,\n",
            "       0.91338583, 0.90551181, 0.95275591, 0.97637795, 0.98031496,\n",
            "       0.52362205, 0.63779528, 0.72440945, 0.80708661, 0.8503937 ,\n",
            "       0.73622047, 0.86220472, 0.89370079, 0.9015748 , 0.90944882,\n",
            "       0.91338583, 0.91732283, 0.95275591, 0.97637795, 0.98031496,\n",
            "       0.52362205, 0.64566929, 0.73622047, 0.82283465, 0.85826772,\n",
            "       0.74015748, 0.86220472, 0.8976378 , 0.9015748 , 0.90944882,\n",
            "       0.90944882, 0.92125984, 0.96062992, 0.97637795, 0.98031496,\n",
            "       0.52755906, 0.65354331, 0.73622047, 0.82283465, 0.87007874]), 'split3_test_score': array([0.74015748, 0.65354331, 0.72047244, 0.76771654, 0.80314961,\n",
            "       0.59055118, 0.87795276, 0.87401575, 0.8976378 , 0.90551181,\n",
            "       0.51181102, 0.54330709, 0.64173228, 0.68897638, 0.72834646,\n",
            "       0.62598425, 0.72047244, 0.77952756, 0.80708661, 0.83464567,\n",
            "       0.6496063 , 0.87401575, 0.89370079, 0.90944882, 0.92913386,\n",
            "       0.51968504, 0.64566929, 0.66929134, 0.71653543, 0.76771654,\n",
            "       0.64173228, 0.73622047, 0.81102362, 0.83070866, 0.84645669,\n",
            "       0.67716535, 0.87795276, 0.90551181, 0.92125984, 0.93700787,\n",
            "       0.51968504, 0.63385827, 0.68110236, 0.73622047, 0.7992126 ,\n",
            "       0.65354331, 0.76771654, 0.81889764, 0.83464567, 0.85826772,\n",
            "       0.83464567, 0.87795276, 0.90551181, 0.92913386, 0.94094488,\n",
            "       0.51968504, 0.63779528, 0.69291339, 0.75984252, 0.81102362,\n",
            "       0.67716535, 0.79133858, 0.82677165, 0.84645669, 0.86614173,\n",
            "       0.8976378 , 0.88582677, 0.91338583, 0.93700787, 0.9488189 ,\n",
            "       0.51968504, 0.63779528, 0.7007874 , 0.77165354, 0.83464567,\n",
            "       0.67716535, 0.80314961, 0.82677165, 0.85433071, 0.87007874,\n",
            "       0.90551181, 0.89370079, 0.92125984, 0.93700787, 0.94488189,\n",
            "       0.51968504, 0.64173228, 0.71653543, 0.79527559, 0.84645669,\n",
            "       0.71259843, 0.80708661, 0.83464567, 0.86220472, 0.87795276,\n",
            "       0.87795276, 0.8976378 , 0.92125984, 0.94094488, 0.9488189 ,\n",
            "       0.52362205, 0.6496063 , 0.71653543, 0.7992126 , 0.8503937 ,\n",
            "       0.72047244, 0.80708661, 0.84251969, 0.86614173, 0.88188976,\n",
            "       0.87795276, 0.8976378 , 0.92125984, 0.94094488, 0.9488189 ,\n",
            "       0.52362205, 0.65354331, 0.73228346, 0.80314961, 0.8503937 ,\n",
            "       0.72047244, 0.81889764, 0.8503937 , 0.86614173, 0.88582677,\n",
            "       0.87795276, 0.90551181, 0.92519685, 0.94488189, 0.95669291,\n",
            "       0.52755906, 0.66141732, 0.74015748, 0.81496063, 0.85433071]), 'split4_test_score': array([0.73913043, 0.6798419 , 0.7312253 , 0.77470356, 0.83003953,\n",
            "       0.55731225, 0.90909091, 0.91304348, 0.92490119, 0.93280632,\n",
            "       0.51383399, 0.56916996, 0.66403162, 0.70355731, 0.75494071,\n",
            "       0.63636364, 0.72332016, 0.78656126, 0.84980237, 0.87747036,\n",
            "       0.67588933, 0.90909091, 0.91304348, 0.93280632, 0.93280632,\n",
            "       0.51383399, 0.66403162, 0.68379447, 0.74703557, 0.80237154,\n",
            "       0.65217391, 0.75098814, 0.83399209, 0.87747036, 0.87747036,\n",
            "       0.71936759, 0.92094862, 0.92490119, 0.93280632, 0.93280632,\n",
            "       0.51778656, 0.63241107, 0.70355731, 0.75889328, 0.82213439,\n",
            "       0.6798419 , 0.77470356, 0.85770751, 0.87747036, 0.88537549,\n",
            "       0.90118577, 0.90513834, 0.92885375, 0.93280632, 0.93280632,\n",
            "       0.51778656, 0.65217391, 0.71541502, 0.79051383, 0.83794466,\n",
            "       0.70355731, 0.80237154, 0.87747036, 0.87747036, 0.90513834,\n",
            "       0.8972332 , 0.90513834, 0.93280632, 0.93280632, 0.93675889,\n",
            "       0.51778656, 0.66403162, 0.73913043, 0.80632411, 0.84980237,\n",
            "       0.70355731, 0.83003953, 0.87747036, 0.88142292, 0.90118577,\n",
            "       0.8972332 , 0.92094862, 0.93280632, 0.93280632, 0.93280632,\n",
            "       0.52173913, 0.66798419, 0.74703557, 0.80632411, 0.84980237,\n",
            "       0.71541502, 0.83794466, 0.87747036, 0.88932806, 0.90909091,\n",
            "       0.90909091, 0.91304348, 0.93280632, 0.93280632, 0.93280632,\n",
            "       0.5256917 , 0.66798419, 0.74703557, 0.81818182, 0.85375494,\n",
            "       0.72332016, 0.84980237, 0.88142292, 0.90513834, 0.91699605,\n",
            "       0.90909091, 0.92490119, 0.93280632, 0.93280632, 0.93280632,\n",
            "       0.5256917 , 0.67588933, 0.75494071, 0.82213439, 0.86166008,\n",
            "       0.7312253 , 0.85770751, 0.87747036, 0.90513834, 0.91699605,\n",
            "       0.92094862, 0.92094862, 0.93280632, 0.93280632, 0.93675889,\n",
            "       0.52964427, 0.68774704, 0.75494071, 0.83003953, 0.85375494]), 'split5_test_score': array([0.71541502, 0.6798419 , 0.73517787, 0.7826087 , 0.82213439,\n",
            "       0.58893281, 0.87747036, 0.89328063, 0.88537549, 0.91699605,\n",
            "       0.52173913, 0.67193676, 0.6284585 , 0.69565217, 0.72727273,\n",
            "       0.61660079, 0.72727273, 0.80632411, 0.83794466, 0.86956522,\n",
            "       0.67193676, 0.8972332 , 0.88537549, 0.91699605, 0.92885375,\n",
            "       0.52173913, 0.60869565, 0.65612648, 0.71541502, 0.77865613,\n",
            "       0.64822134, 0.75098814, 0.82213439, 0.86166008, 0.86956522,\n",
            "       0.82213439, 0.90118577, 0.90513834, 0.92094862, 0.93280632,\n",
            "       0.52173913, 0.61264822, 0.68774704, 0.74703557, 0.7944664 ,\n",
            "       0.6798419 , 0.7826087 , 0.8458498 , 0.87351779, 0.88142292,\n",
            "       0.88537549, 0.88142292, 0.91304348, 0.92490119, 0.93280632,\n",
            "       0.5256917 , 0.61660079, 0.70750988, 0.75889328, 0.82608696,\n",
            "       0.69565217, 0.81027668, 0.86166008, 0.87747036, 0.88932806,\n",
            "       0.87351779, 0.88142292, 0.91699605, 0.93280632, 0.93280632,\n",
            "       0.52964427, 0.6284585 , 0.71146245, 0.77865613, 0.83794466,\n",
            "       0.71146245, 0.82213439, 0.87351779, 0.87747036, 0.90118577,\n",
            "       0.88537549, 0.88537549, 0.91699605, 0.93675889, 0.94071146,\n",
            "       0.52964427, 0.63636364, 0.71541502, 0.7826087 , 0.85770751,\n",
            "       0.71936759, 0.83399209, 0.87351779, 0.88142292, 0.8972332 ,\n",
            "       0.88142292, 0.88537549, 0.92094862, 0.93675889, 0.94071146,\n",
            "       0.52964427, 0.63636364, 0.72332016, 0.7944664 , 0.86956522,\n",
            "       0.72727273, 0.83794466, 0.86956522, 0.90118577, 0.8972332 ,\n",
            "       0.87747036, 0.88537549, 0.92094862, 0.93280632, 0.94071146,\n",
            "       0.53359684, 0.64031621, 0.72727273, 0.80237154, 0.87747036,\n",
            "       0.73517787, 0.8458498 , 0.87747036, 0.90513834, 0.89328063,\n",
            "       0.88142292, 0.88932806, 0.92490119, 0.93280632, 0.9486166 ,\n",
            "       0.54150198, 0.64426877, 0.73517787, 0.81422925, 0.88142292]), 'split6_test_score': array([0.75889328, 0.68774704, 0.77865613, 0.82608696, 0.85375494,\n",
            "       0.5770751 , 0.86166008, 0.90909091, 0.91699605, 0.92885375,\n",
            "       0.51778656, 0.77865613, 0.63636364, 0.70355731, 0.75494071,\n",
            "       0.64426877, 0.75889328, 0.83399209, 0.85770751, 0.86561265,\n",
            "       0.66007905, 0.8972332 , 0.91699605, 0.92885375, 0.93280632,\n",
            "       0.52173913, 0.61264822, 0.67193676, 0.75494071, 0.78656126,\n",
            "       0.67193676, 0.80237154, 0.85770751, 0.86166008, 0.86166008,\n",
            "       0.76679842, 0.91304348, 0.91699605, 0.93280632, 0.93280632,\n",
            "       0.52173913, 0.61264822, 0.69960474, 0.75889328, 0.81818182,\n",
            "       0.68774704, 0.82608696, 0.86166008, 0.85770751, 0.88537549,\n",
            "       0.86956522, 0.90909091, 0.92490119, 0.93280632, 0.94071146,\n",
            "       0.52173913, 0.62450593, 0.72332016, 0.75889328, 0.83794466,\n",
            "       0.70750988, 0.84189723, 0.86561265, 0.87351779, 0.88932806,\n",
            "       0.8458498 , 0.91304348, 0.92885375, 0.93280632, 0.94071146,\n",
            "       0.52173913, 0.63636364, 0.73517787, 0.79051383, 0.83794466,\n",
            "       0.71936759, 0.85375494, 0.86166008, 0.88537549, 0.88932806,\n",
            "       0.85770751, 0.91699605, 0.93280632, 0.93280632, 0.9486166 ,\n",
            "       0.52173913, 0.63636364, 0.75494071, 0.79051383, 0.84980237,\n",
            "       0.73517787, 0.85770751, 0.86166008, 0.88932806, 0.89328063,\n",
            "       0.86166008, 0.91699605, 0.93280632, 0.94071146, 0.95256917,\n",
            "       0.52173913, 0.64426877, 0.75098814, 0.81422925, 0.85375494,\n",
            "       0.75889328, 0.85770751, 0.86166008, 0.88932806, 0.89328063,\n",
            "       0.86166008, 0.91699605, 0.93280632, 0.94071146, 0.95652174,\n",
            "       0.5256917 , 0.65217391, 0.75494071, 0.82608696, 0.85375494,\n",
            "       0.77865613, 0.86166008, 0.87351779, 0.88932806, 0.8972332 ,\n",
            "       0.86166008, 0.91699605, 0.93280632, 0.94071146, 0.95652174,\n",
            "       0.54150198, 0.66007905, 0.75889328, 0.83399209, 0.85770751]), 'split7_test_score': array([0.7312253 , 0.64822134, 0.71146245, 0.7826087 , 0.81422925,\n",
            "       0.60474308, 0.88537549, 0.90118577, 0.90513834, 0.91699605,\n",
            "       0.5256917 , 0.72727273, 0.59683794, 0.67588933, 0.73913043,\n",
            "       0.60474308, 0.69960474, 0.79051383, 0.82213439, 0.83794466,\n",
            "       0.68379447, 0.89328063, 0.90513834, 0.91699605, 0.92094862,\n",
            "       0.52964427, 0.58893281, 0.64031621, 0.7312253 , 0.78656126,\n",
            "       0.62055336, 0.76284585, 0.81818182, 0.83794466, 0.85375494,\n",
            "       0.74703557, 0.90909091, 0.90513834, 0.92094862, 0.92094862,\n",
            "       0.52964427, 0.58102767, 0.67588933, 0.743083  , 0.80237154,\n",
            "       0.64822134, 0.7826087 , 0.83003953, 0.84980237, 0.86561265,\n",
            "       0.91699605, 0.8972332 , 0.90909091, 0.92094862, 0.92094862,\n",
            "       0.52964427, 0.59288538, 0.69565217, 0.77470356, 0.82608696,\n",
            "       0.66403162, 0.79841897, 0.83003953, 0.85375494, 0.86956522,\n",
            "       0.90909091, 0.90118577, 0.92094862, 0.91699605, 0.93280632,\n",
            "       0.53359684, 0.59683794, 0.71541502, 0.78656126, 0.83399209,\n",
            "       0.68774704, 0.81027668, 0.83794466, 0.85375494, 0.87351779,\n",
            "       0.8972332 , 0.90513834, 0.92094862, 0.92490119, 0.94071146,\n",
            "       0.53359684, 0.60474308, 0.72727273, 0.79841897, 0.83794466,\n",
            "       0.6916996 , 0.81818182, 0.8458498 , 0.86956522, 0.87747036,\n",
            "       0.90118577, 0.90118577, 0.92094862, 0.92094862, 0.94071146,\n",
            "       0.53754941, 0.60869565, 0.73913043, 0.80237154, 0.8458498 ,\n",
            "       0.69960474, 0.82213439, 0.84980237, 0.86956522, 0.88142292,\n",
            "       0.88537549, 0.90513834, 0.92094862, 0.92490119, 0.94071146,\n",
            "       0.54940711, 0.61660079, 0.743083  , 0.80632411, 0.84980237,\n",
            "       0.71146245, 0.83003953, 0.85375494, 0.87351779, 0.88537549,\n",
            "       0.88142292, 0.90513834, 0.92094862, 0.92885375, 0.9486166 ,\n",
            "       0.55335968, 0.61660079, 0.743083  , 0.82213439, 0.85375494]), 'split8_test_score': array([0.77075099, 0.6798419 , 0.77075099, 0.82608696, 0.87747036,\n",
            "       0.57312253, 0.88537549, 0.88537549, 0.90513834, 0.93675889,\n",
            "       0.52964427, 0.68379447, 0.6284585 , 0.6798419 , 0.74703557,\n",
            "       0.62450593, 0.77075099, 0.84189723, 0.87747036, 0.88932806,\n",
            "       0.69960474, 0.88537549, 0.89328063, 0.93675889, 0.94466403,\n",
            "       0.52964427, 0.6284585 , 0.65612648, 0.73517787, 0.80237154,\n",
            "       0.65217391, 0.7944664 , 0.87747036, 0.88142292, 0.88932806,\n",
            "       0.75889328, 0.8972332 , 0.92490119, 0.93675889, 0.94071146,\n",
            "       0.53359684, 0.60869565, 0.67588933, 0.76679842, 0.82213439,\n",
            "       0.6798419 , 0.82608696, 0.88142292, 0.88932806, 0.89328063,\n",
            "       0.90513834, 0.88142292, 0.92885375, 0.94466403, 0.94466403,\n",
            "       0.53754941, 0.62450593, 0.6916996 , 0.7826087 , 0.83399209,\n",
            "       0.70355731, 0.84980237, 0.88142292, 0.88932806, 0.91304348,\n",
            "       0.88142292, 0.88537549, 0.93675889, 0.94071146, 0.9486166 ,\n",
            "       0.53754941, 0.6284585 , 0.71936759, 0.81027668, 0.85770751,\n",
            "       0.72727273, 0.86956522, 0.88932806, 0.89328063, 0.92490119,\n",
            "       0.88142292, 0.89328063, 0.93675889, 0.94071146, 0.95652174,\n",
            "       0.53754941, 0.63636364, 0.73517787, 0.81422925, 0.86166008,\n",
            "       0.75098814, 0.87747036, 0.88932806, 0.90513834, 0.92490119,\n",
            "       0.88142292, 0.8972332 , 0.93675889, 0.94466403, 0.95652174,\n",
            "       0.53754941, 0.64031621, 0.743083  , 0.81818182, 0.87351779,\n",
            "       0.77075099, 0.87747036, 0.88932806, 0.91699605, 0.92490119,\n",
            "       0.88537549, 0.90513834, 0.94071146, 0.94466403, 0.95652174,\n",
            "       0.54150198, 0.64426877, 0.74703557, 0.82213439, 0.87351779,\n",
            "       0.77075099, 0.88142292, 0.88932806, 0.91699605, 0.92885375,\n",
            "       0.88537549, 0.91304348, 0.94071146, 0.9486166 , 0.95652174,\n",
            "       0.54545455, 0.64822134, 0.75098814, 0.83399209, 0.87747036]), 'split9_test_score': array([0.71146245, 0.64426877, 0.70750988, 0.77075099, 0.80632411,\n",
            "       0.58893281, 0.86166008, 0.87747036, 0.88932806, 0.90909091,\n",
            "       0.52964427, 0.73913043, 0.59288538, 0.67193676, 0.71936759,\n",
            "       0.5770751 , 0.70355731, 0.79051383, 0.82213439, 0.8458498 ,\n",
            "       0.6798419 , 0.88142292, 0.88932806, 0.90909091, 0.92094862,\n",
            "       0.53359684, 0.58893281, 0.6284585 , 0.71146245, 0.77470356,\n",
            "       0.60869565, 0.72332016, 0.81027668, 0.84189723, 0.86561265,\n",
            "       0.88932806, 0.88142292, 0.8972332 , 0.91304348, 0.93280632,\n",
            "       0.53754941, 0.58893281, 0.66403162, 0.73913043, 0.79841897,\n",
            "       0.64426877, 0.77075099, 0.82213439, 0.86166008, 0.85770751,\n",
            "       0.88142292, 0.87747036, 0.8972332 , 0.92094862, 0.93675889,\n",
            "       0.53754941, 0.59288538, 0.68774704, 0.75889328, 0.82213439,\n",
            "       0.67193676, 0.79841897, 0.83399209, 0.86561265, 0.86166008,\n",
            "       0.84189723, 0.87747036, 0.91304348, 0.93280632, 0.94466403,\n",
            "       0.53754941, 0.59288538, 0.69960474, 0.77470356, 0.8458498 ,\n",
            "       0.68379447, 0.80632411, 0.8458498 , 0.86561265, 0.87351779,\n",
            "       0.86166008, 0.88932806, 0.91304348, 0.93280632, 0.95652174,\n",
            "       0.53754941, 0.60869565, 0.71146245, 0.78656126, 0.85770751,\n",
            "       0.6916996 , 0.81818182, 0.86166008, 0.86561265, 0.88142292,\n",
            "       0.86166008, 0.88537549, 0.91304348, 0.93280632, 0.96047431,\n",
            "       0.54150198, 0.60869565, 0.71936759, 0.79841897, 0.86166008,\n",
            "       0.70355731, 0.82213439, 0.86561265, 0.86561265, 0.88142292,\n",
            "       0.86166008, 0.88932806, 0.91699605, 0.93675889, 0.96442688,\n",
            "       0.54150198, 0.62055336, 0.72727273, 0.80237154, 0.86561265,\n",
            "       0.70750988, 0.82213439, 0.86561265, 0.87351779, 0.88142292,\n",
            "       0.85770751, 0.90118577, 0.92094862, 0.94071146, 0.96837945,\n",
            "       0.54150198, 0.62450593, 0.73517787, 0.82213439, 0.86956522]), 'mean_test_score': array([0.72733342, 0.66733062, 0.73678535, 0.79242632, 0.82952912,\n",
            "       0.57893312, 0.88436245, 0.89266907, 0.90489247, 0.92304784,\n",
            "       0.5201332 , 0.64967321, 0.62627836, 0.69138993, 0.73757586,\n",
            "       0.61917463, 0.7288911 , 0.80584638, 0.83860913, 0.85991566,\n",
            "       0.67522486, 0.89305655, 0.89897762, 0.92304784, 0.93172481,\n",
            "       0.52171268, 0.61916996, 0.66060502, 0.72850207, 0.78532725,\n",
            "       0.64285581, 0.76046653, 0.83425975, 0.85596931, 0.87095173,\n",
            "       0.7553951 , 0.89977281, 0.91278516, 0.92580997, 0.93684759,\n",
            "       0.52289845, 0.60773085, 0.68823099, 0.7494149 , 0.8109676 ,\n",
            "       0.66733062, 0.79242632, 0.84492079, 0.86740531, 0.87884597,\n",
            "       0.88596838, 0.88793377, 0.91712676, 0.93211696, 0.93960972,\n",
            "       0.52408266, 0.61759983, 0.70520525, 0.7675687 , 0.83188354,\n",
            "       0.69060876, 0.81374062, 0.85438984, 0.87292801, 0.88634963,\n",
            "       0.8835626 , 0.89108805, 0.92423205, 0.93448383, 0.94513243,\n",
            "       0.52487318, 0.62588466, 0.71705518, 0.78769568, 0.84293828,\n",
            "       0.70324142, 0.82794964, 0.85952196, 0.8772665 , 0.89069435,\n",
            "       0.88987426, 0.89858703, 0.92541471, 0.93763811, 0.9498724 ,\n",
            "       0.52526843, 0.63338209, 0.72692571, 0.79794435, 0.85201363,\n",
            "       0.71744266, 0.83702499, 0.86661791, 0.88200803, 0.89503283,\n",
            "       0.88751828, 0.89976347, 0.92620367, 0.93960972, 0.95184401,\n",
            "       0.52802901, 0.63693162, 0.73284367, 0.80899443, 0.85872366,\n",
            "       0.7288911 , 0.83860913, 0.86977063, 0.88871962, 0.89739971,\n",
            "       0.88436245, 0.90489247, 0.92738788, 0.94039868, 0.95302823,\n",
            "       0.53118795, 0.64364165, 0.74033644, 0.81648875, 0.86306371,\n",
            "       0.73678535, 0.84492079, 0.87332171, 0.89030064, 0.90015873,\n",
            "       0.88594037, 0.90844356, 0.9297532 , 0.94276555, 0.95697457,\n",
            "       0.53592636, 0.65074072, 0.74507018, 0.82754194, 0.86621798]), 'std_test_score': array([0.02476766, 0.01452303, 0.02178933, 0.02026959, 0.02258544,\n",
            "       0.01508657, 0.01644255, 0.01390968, 0.01417274, 0.01401137,\n",
            "       0.00655364, 0.0846289 , 0.02307652, 0.01423405, 0.01117828,\n",
            "       0.01952146, 0.02085735, 0.01966721, 0.02131874, 0.01853279,\n",
            "       0.01276084, 0.01225111, 0.01222001, 0.01401137, 0.01261193,\n",
            "       0.0075098 , 0.02371128, 0.01910321, 0.01357403, 0.01060569,\n",
            "       0.0168962 , 0.02334275, 0.02179491, 0.01758015, 0.01467857,\n",
            "       0.05903858, 0.01533296, 0.01382601, 0.01179208, 0.01468154,\n",
            "       0.0083135 , 0.02108778, 0.0155493 , 0.01015   , 0.01317568,\n",
            "       0.01452303, 0.02026959, 0.0192477 , 0.01587319, 0.0139081 ,\n",
            "       0.02279627, 0.01302877, 0.01526973, 0.01319692, 0.01393165,\n",
            "       0.00825209, 0.02076634, 0.01244275, 0.01187916, 0.01478661,\n",
            "       0.01497234, 0.01965025, 0.01993269, 0.0144096 , 0.01679565,\n",
            "       0.02732295, 0.01352296, 0.01315544, 0.01252237, 0.01232836,\n",
            "       0.00873299, 0.0228419 , 0.01232085, 0.01192931, 0.01228059,\n",
            "       0.01594809, 0.02090067, 0.02035697, 0.01492957, 0.01642242,\n",
            "       0.01791986, 0.01460749, 0.01288418, 0.01422266, 0.0127553 ,\n",
            "       0.00848936, 0.02119197, 0.01398201, 0.00921701, 0.0115752 ,\n",
            "       0.01714559, 0.02205022, 0.01601567, 0.01380243, 0.01486071,\n",
            "       0.01783215, 0.01105157, 0.01259228, 0.01393165, 0.01248839,\n",
            "       0.00787095, 0.02075163, 0.01147181, 0.01163812, 0.01066801,\n",
            "       0.02085735, 0.02131874, 0.01527578, 0.01715075, 0.01484911,\n",
            "       0.01644255, 0.01417274, 0.01260895, 0.01352332, 0.01281584,\n",
            "       0.00933214, 0.01851582, 0.00949825, 0.01453937, 0.00996883,\n",
            "       0.02178933, 0.0192477 , 0.01371817, 0.01609977, 0.01466991,\n",
            "       0.01991138, 0.01168643, 0.01374807, 0.01303643, 0.01139807,\n",
            "       0.00942797, 0.02038094, 0.00821087, 0.01467596, 0.0102275 ]), 'rank_test_score': array([101, 111,  95,  84,  75, 126,  47,  36,  26,  21, 135, 115, 120,\n",
            "       107,  94, 122,  98,  82,  70,  61, 110,  35,  31,  21,  14, 134,\n",
            "       123, 113, 100,  87, 117,  89,  73,  64,  55,  90,  29,  24,  18,\n",
            "        11, 133, 125, 109,  91,  80, 111,  84,  67,  57,  51,  45,  42,\n",
            "        23,  13,   8, 132, 124, 105,  88,  74, 108,  79,  65,  54,  44,\n",
            "        49,  37,  20,  12,   5, 131, 121, 104,  86,  69, 106,  76,  62,\n",
            "        52,  38,  40,  32,  19,  10,   4, 130, 119, 102,  83,  66, 103,\n",
            "        72,  58,  50,  34,  43,  30,  17,   9,   3, 129, 118,  97,  81,\n",
            "        63,  98,  70,  56,  41,  33,  47,  26,  16,   7,   2, 128, 116,\n",
            "        93,  78,  60,  95,  67,  53,  39,  28,  46,  25,  15,   6,   1,\n",
            "       127, 114,  92,  77,  59], dtype=int32)}\n"
          ]
        }
      ],
      "metadata": {
        "colab": {
          "base_uri": "https://localhost:8080/"
        },
        "id": "-CK-a0b8SvKo",
        "outputId": "353e41a9-4aa0-4c55-cf2d-6ca7acff7a65"
      }
    },
    {
      "cell_type": "code",
      "source": [
        "print(model_svm.best_params_)"
      ],
      "execution_count": null,
      "outputs": [
        {
          "output_type": "stream",
          "name": "stdout",
          "text": [
            "{'C': 0.9, 'degree': 3, 'gamma': 0.05, 'kernel': 'poly'}\n"
          ]
        }
      ],
      "metadata": {
        "colab": {
          "base_uri": "https://localhost:8080/"
        },
        "id": "nf0NDLgESvKo",
        "outputId": "e8f9a29d-718c-424d-d1d9-ab5b72396dfa"
      }
    },
    {
      "cell_type": "code",
      "source": [
        "y_pred= model_svm.predict(X_test)\n",
        "print(metrics.accuracy_score(y_pred,y_test))"
      ],
      "execution_count": null,
      "outputs": [
        {
          "output_type": "stream",
          "name": "stdout",
          "text": [
            "0.9589905362776026\n"
          ]
        }
      ],
      "metadata": {
        "colab": {
          "base_uri": "https://localhost:8080/"
        },
        "id": "6sWenhh6SvKo",
        "outputId": "3f17c0fb-45e3-46a9-d09f-1c8f88765571"
      }
    },
    {
      "cell_type": "markdown",
      "source": [
        "#KNN"
      ],
      "metadata": {
        "id": "xAj7i7QeUWtl"
      }
    },
    {
      "cell_type": "code",
      "source": [
        "from sklearn.neighbors import KNeighborsClassifier\n",
        "\n",
        "train_error= []\n",
        "test_error= []\n",
        "\n",
        "for k in range(1, 31):\n",
        "    knn= KNeighborsClassifier(n_neighbors=k)\n",
        "    knn.fit(X_train, y_train)\n",
        "\n",
        "    y_pred1= knn.predict(X_train)\n",
        "    train_error.append(np.mean(y_train!=y_pred1))\n",
        "\n",
        "    y_pred2= knn.predict(X_test)\n",
        "    test_error.append(np.mean(y_test!=y_pred2))\n",
        "\n",
        "# Plotting error curve\n",
        "plt.figure(figsize=(10, 5))\n",
        "plt.plot(range(1, 31), train_error, color='b', label=\"Train\")\n",
        "plt.plot(range(1, 31), test_error, color='r', label=\"Test\")\n",
        "plt.xlabel('Number of nearest neighbors (k)', fontsize=14)\n",
        "plt.ylabel('Error', fontsize=14)\n",
        "plt.title('Finding optimal value of K using error curves', fontsize=18, pad=15)\n",
        "plt.legend()\n",
        "plt.show()"
      ],
      "metadata": {
        "colab": {
          "base_uri": "https://localhost:8080/",
          "height": 510
        },
        "id": "-4FUA11pm3IU",
        "outputId": "615de7fb-117b-4338-da7f-25eff250ba32"
      },
      "execution_count": null,
      "outputs": [
        {
          "output_type": "display_data",
          "data": {
            "text/plain": [
              "<Figure size 1000x500 with 1 Axes>"
            ],
            "image/png": "[encoded data removed]"
          },
          "metadata": {}
        }
      ]
    },
    {
      "cell_type": "code",
      "source": [
        "from sklearn import metrics\n",
        "\n",
        "# Instantiate the KNN class\n",
        "knn= KNeighborsClassifier(n_neighbors=3)\n",
        "\n",
        "# Fitting the data\n",
        "knn.fit(X_train,y_train)\n",
        "\n",
        "# Predicting\n",
        "y_pred= knn.predict(X_test)\n",
        "\n",
        "# Model evaluation\n",
        "print(\"Accuracy: \", 100*np.round(metrics.accuracy_score(y_test,y_pred), 5), \"%\")"
      ],
      "metadata": {
        "colab": {
          "base_uri": "https://localhost:8080/"
        },
        "id": "UmliGLDSnzOq",
        "outputId": "b35f03e6-b020-4356-dc76-fcc40f57afee"
      },
      "execution_count": null,
      "outputs": [
        {
          "output_type": "stream",
          "name": "stdout",
          "text": [
            "Accuracy:  97.161 %\n"
          ]
        }
      ]
    },
    {
      "cell_type": "markdown",
      "source": [
        "#Random Forest Classifier"
      ],
      "metadata": {
        "id": "gEiA0ChXUYjn"
      }
    },
    {
      "cell_type": "code",
      "source": [
        "from sklearn.ensemble import RandomForestClassifier as RFC\n",
        "\n",
        "# Instantiate the Random Forest class\n",
        "clf = RFC(max_depth=2, random_state=0)\n",
        "\n",
        "# Fitting the data\n",
        "clf.fit(X_train, y_train)"
      ],
      "metadata": {
        "id": "3v5IwKr7UbKu"
      },
      "execution_count": null,
      "outputs": []
    },
    {
      "cell_type": "code",
      "source": [
        "# Predicting\n",
        "y_pred= clf.predict(X_test)\n",
        "\n",
        "# Model evaluation\n",
        "print(\"Accuracy: \", 100*np.round(metrics.accuracy_score(y_test,y_pred), 5), \"%\")"
      ],
      "metadata": {
        "colab": {
          "base_uri": "https://localhost:8080/"
        },
        "id": "pVxiUUA6UwS2",
        "outputId": "c239bf9e-e580-482a-91de-7105f539ecd8"
      },
      "execution_count": null,
      "outputs": [
        {
          "output_type": "stream",
          "name": "stdout",
          "text": [
            "Accuracy:  97.634 %\n"
          ]
        }
      ]
    },
    {
      "cell_type": "markdown",
      "source": [
        "#Decision Tree Classifier\n"
      ],
      "metadata": {
        "id": "Tnu-czagVuKu"
      }
    },
    {
      "cell_type": "code",
      "source": [
        "from sklearn import tree\n",
        "\n",
        "# Instantiate the Decision Tree class\n",
        "DT = tree.DecisionTreeClassifier()\n",
        "\n",
        "# Fitting the data\n",
        "DT = DT.fit(X_train, y_train)"
      ],
      "metadata": {
        "id": "nXNlxoybVEUy"
      },
      "execution_count": null,
      "outputs": []
    },
    {
      "cell_type": "code",
      "source": [
        "# Predicting\n",
        "y_pred= DT.predict(X_test)\n",
        "\n",
        "# Model evaluation\n",
        "print(\"Accuracy: \", 100*np.round(metrics.accuracy_score(y_test,y_pred), 5), \"%\")"
      ],
      "metadata": {
        "colab": {
          "base_uri": "https://localhost:8080/"
        },
        "id": "-OnzqAgHVgSm",
        "outputId": "9b7e8435-8315-44c5-e51e-6805f089b69a"
      },
      "execution_count": null,
      "outputs": [
        {
          "output_type": "stream",
          "name": "stdout",
          "text": [
            "Accuracy:  97.161 %\n"
          ]
        }
      ]
    },
    {
      "cell_type": "markdown",
      "source": [
        "#LDA"
      ],
      "metadata": {
        "id": "N9Q4TN44V3oN"
      }
    },
    {
      "cell_type": "code",
      "source": [
        "from sklearn.discriminant_analysis import LinearDiscriminantAnalysis\n",
        "\n",
        "LDA = LinearDiscriminantAnalysis()\n",
        "\n",
        "# Fit the LDA model on the training data\n",
        "LDA.fit(X_train, y_train)\n",
        "\n",
        "# Predicting\n",
        "y_pred = LDA.predict(X_test)\n",
        "\n",
        "# Model evaluation\n",
        "print(\"Accuracy:\", 100 * np.round(metrics.accuracy_score(y_test, y_pred), 5), \"%\")\n"
      ],
      "metadata": {
        "colab": {
          "base_uri": "https://localhost:8080/"
        },
        "id": "9bNG7gXkZGOs",
        "outputId": "7772f44f-06cd-4756-c98e-1b29c472f1fd"
      },
      "execution_count": null,
      "outputs": [
        {
          "output_type": "stream",
          "name": "stdout",
          "text": [
            "Accuracy: 96.53 %\n"
          ]
        }
      ]
    },
    {
      "cell_type": "markdown",
      "source": [
        "#R plot"
      ],
      "metadata": {
        "id": "wEzDg85PZp5T"
      }
    },
    {
      "cell_type": "code",
      "source": [
        "import matplotlib.pyplot as plt\n",
        "import numpy as np\n",
        "\n",
        "# Sample data for five models\n",
        "models = ['model_svm', 'DT', 'LDA', 'KNN', 'RFC']\n",
        "x = np.arange(0, 10, 0.1)\n",
        "\n",
        "# Create a grid of subplots\n",
        "fig, axes = plt.subplots(nrows=2, ncols=3, figsize=(12, 8))\n",
        "\n",
        "# Iterate over models and plot in each subplot\n",
        "for i, model in enumerate(models):\n",
        "    # Calculate y-values based on model and x-values\n",
        "    y = np.sin(x * (i + 1))\n",
        "\n",
        "    # Determine subplot position\n",
        "    row = i // 3\n",
        "    col = i % 3\n",
        "\n",
        "    # Plot the data in the corresponding subplot\n",
        "    axes[row, col].plot(x, y)\n",
        "    axes[row, col].set_title(model)\n",
        "\n",
        "# Adjust the spacing between subplots\n",
        "plt.tight_layout()\n",
        "\n",
        "# Display the plot\n",
        "plt.show()\n"
      ],
      "metadata": {
        "colab": {
          "base_uri": "https://localhost:8080/",
          "height": 807
        },
        "id": "gmwoik20WlP9",
        "outputId": "aced536d-be6c-448f-885e-5f95048b3d70"
      },
      "execution_count": null,
      "outputs": [
        {
          "output_type": "display_data",
          "data": {
            "text/plain": [
              "<Figure size 1200x800 with 6 Axes>"
            ],
            "image/png": "[encoded data removed]"
          },
          "metadata": {}
        }
      ]
    },
    {
      "cell_type": "code",
      "source": [
        "import pandas as pd\n",
        "import matplotlib.pyplot as plt\n",
        "\n",
        "# Sample data for five models\n",
        "models = ['model_svm', 'DT', 'LDA', 'KNN', 'RFC']\n",
        "metrics = ['Accuracy', 'Precision', 'Recall', 'F1-Score']\n",
        "\n",
        "\n",
        "# Create a pandas DataFrame from the data\n",
        "df = pd.DataFrame(df, columns=metrics, index=models)\n",
        "\n",
        "# Normalize the data\n",
        "df_normalized = (df - df.min()) / (df.max() - df.min())\n",
        "\n",
        "# Create parallel plot\n",
        "plt.figure(figsize=(10, 6))\n",
        "for i in range(len(models)):\n",
        "    plt.plot(df_normalized.iloc[i], marker='o', label=models[i])\n",
        "plt.xlabel('Metrics')\n",
        "plt.ylabel('Normalized Values')\n",
        "plt.title('Parallel Plot - Model Comparison')\n",
        "plt.xticks(range(len(metrics)), metrics)\n",
        "plt.legend()\n",
        "plt.show()\n"
      ],
      "metadata": {
        "colab": {
          "base_uri": "https://localhost:8080/",
          "height": 564
        },
        "id": "otb9nPDHapwQ",
        "outputId": "c106822f-1dc4-4f21-9227-376516fba8ae"
      },
      "execution_count": null,
      "outputs": [
        {
          "output_type": "display_data",
          "data": {
            "text/plain": [
              "<Figure size 1000x600 with 1 Axes>"
            ],
            "image/png": "[encoded data removed]"
          },
          "metadata": {}
        }
      ]
    },
    {
      "cell_type": "code",
      "source": [
        "import pandas as pd\n",
        "import matplotlib.pyplot as plt\n",
        "\n",
        "# Sample data for five models\n",
        "models = ['model_svm', 'DT', 'LDA', 'KNN', 'RFC']\n",
        "metrics = ['Accuracy', 'Precision', 'Recall', 'F1-Score']\n",
        "data = [\n",
        "    [0.85, 0.90, 0.80, 0.87],\n",
        "    [0.82, 0.88, 0.76, 0.84],\n",
        "    [0.87, 0.92, 0.81, 0.89],\n",
        "    [0.84, 0.89, 0.78, 0.86],\n",
        "    [0.88, 0.93, 0.83, 0.90]\n",
        "]\n",
        "\n",
        "# Create a pandas DataFrame from the data\n",
        "df = pd.DataFrame(data, columns=metrics, index=models)\n",
        "\n",
        "# Normalize the data\n",
        "df_normalized = (df - df.min()) / (df.max() - df.min())\n",
        "\n",
        "# Plotting parallel coordinates\n",
        "plt.figure(figsize=(10, 6))\n",
        "pd.plotting.parallel_coordinates(df_normalized, 'Model')\n",
        "plt.xlabel('Metrics')\n",
        "plt.ylabel('Normalized Values')\n",
        "plt.title('Parallel Plot - Model Comparison')\n",
        "plt.legend(loc='upper right')\n",
        "plt.xticks(rotation=45)\n",
        "plt.show()\n"
      ],
      "metadata": {
        "colab": {
          "base_uri": "https://localhost:8080/",
          "height": 519
        },
        "id": "Ykqax4gPbkH8",
        "outputId": "28a9e12c-da9a-41e7-b062-d795dd48ee5f"
      },
      "execution_count": null,
      "outputs": [
        {
          "output_type": "error",
          "ename": "KeyError",
          "evalue": "ignored",
          "traceback": [
            "\u001b[0;31m---------------------------------------------------------------------------\u001b[0m",
            "\u001b[0;31mKeyError\u001b[0m                                  Traceback (most recent call last)",
            "\u001b[0;32m/usr/local/lib/python3.10/dist-packages/pandas/core/indexes/base.py\u001b[0m in \u001b[0;36mget_loc\u001b[0;34m(self, key, method, tolerance)\u001b[0m\n\u001b[1;32m   3801\u001b[0m             \u001b[0;32mtry\u001b[0m\u001b[0;34m:\u001b[0m\u001b[0;34m\u001b[0m\u001b[0;34m\u001b[0m\u001b[0m\n\u001b[0;32m-> 3802\u001b[0;31m                 \u001b[0;32mreturn\u001b[0m \u001b[0mself\u001b[0m\u001b[0;34m.\u001b[0m\u001b[0m_engine\u001b[0m\u001b[0;34m.\u001b[0m\u001b[0mget_loc\u001b[0m\u001b[0;34m(\u001b[0m\u001b[0mcasted_key\u001b[0m\u001b[0;34m)\u001b[0m\u001b[0;34m\u001b[0m\u001b[0;34m\u001b[0m\u001b[0m\n\u001b[0m\u001b[1;32m   3803\u001b[0m             \u001b[0;32mexcept\u001b[0m \u001b[0mKeyError\u001b[0m \u001b[0;32mas\u001b[0m \u001b[0merr\u001b[0m\u001b[0;34m:\u001b[0m\u001b[0;34m\u001b[0m\u001b[0;34m\u001b[0m\u001b[0m\n",
            "\u001b[0;32m/usr/local/lib/python3.10/dist-packages/pandas/_libs/index.pyx\u001b[0m in \u001b[0;36mpandas._libs.index.IndexEngine.get_loc\u001b[0;34m()\u001b[0m\n",
            "\u001b[0;32m/usr/local/lib/python3.10/dist-packages/pandas/_libs/index.pyx\u001b[0m in \u001b[0;36mpandas._libs.index.IndexEngine.get_loc\u001b[0;34m()\u001b[0m\n",
            "\u001b[0;32mpandas/_libs/hashtable_class_helper.pxi\u001b[0m in \u001b[0;36mpandas._libs.hashtable.PyObjectHashTable.get_item\u001b[0;34m()\u001b[0m\n",
            "\u001b[0;32mpandas/_libs/hashtable_class_helper.pxi\u001b[0m in \u001b[0;36mpandas._libs.hashtable.PyObjectHashTable.get_item\u001b[0;34m()\u001b[0m\n",
            "\u001b[0;31mKeyError\u001b[0m: 'Model'",
            "\nThe above exception was the direct cause of the following exception:\n",
            "\u001b[0;31mKeyError\u001b[0m                                  Traceback (most recent call last)",
            "\u001b[0;32m<ipython-input-89-d80b126b827a>\u001b[0m in \u001b[0;36m<cell line: 23>\u001b[0;34m()\u001b[0m\n\u001b[1;32m     21\u001b[0m \u001b[0;31m# Plotting parallel coordinates\u001b[0m\u001b[0;34m\u001b[0m\u001b[0;34m\u001b[0m\u001b[0m\n\u001b[1;32m     22\u001b[0m \u001b[0mplt\u001b[0m\u001b[0;34m.\u001b[0m\u001b[0mfigure\u001b[0m\u001b[0;34m(\u001b[0m\u001b[0mfigsize\u001b[0m\u001b[0;34m=\u001b[0m\u001b[0;34m(\u001b[0m\u001b[0;36m10\u001b[0m\u001b[0;34m,\u001b[0m \u001b[0;36m6\u001b[0m\u001b[0;34m)\u001b[0m\u001b[0;34m)\u001b[0m\u001b[0;34m\u001b[0m\u001b[0;34m\u001b[0m\u001b[0m\n\u001b[0;32m---> 23\u001b[0;31m \u001b[0mpd\u001b[0m\u001b[0;34m.\u001b[0m\u001b[0mplotting\u001b[0m\u001b[0;34m.\u001b[0m\u001b[0mparallel_coordinates\u001b[0m\u001b[0;34m(\u001b[0m\u001b[0mdf_normalized\u001b[0m\u001b[0;34m,\u001b[0m \u001b[0;34m'Model'\u001b[0m\u001b[0;34m)\u001b[0m\u001b[0;34m\u001b[0m\u001b[0;34m\u001b[0m\u001b[0m\n\u001b[0m\u001b[1;32m     24\u001b[0m \u001b[0mplt\u001b[0m\u001b[0;34m.\u001b[0m\u001b[0mxlabel\u001b[0m\u001b[0;34m(\u001b[0m\u001b[0;34m'Metrics'\u001b[0m\u001b[0;34m)\u001b[0m\u001b[0;34m\u001b[0m\u001b[0;34m\u001b[0m\u001b[0m\n\u001b[1;32m     25\u001b[0m \u001b[0mplt\u001b[0m\u001b[0;34m.\u001b[0m\u001b[0mylabel\u001b[0m\u001b[0;34m(\u001b[0m\u001b[0;34m'Normalized Values'\u001b[0m\u001b[0;34m)\u001b[0m\u001b[0;34m\u001b[0m\u001b[0;34m\u001b[0m\u001b[0m\n",
            "\u001b[0;32m/usr/local/lib/python3.10/dist-packages/pandas/plotting/_misc.py\u001b[0m in \u001b[0;36mparallel_coordinates\u001b[0;34m(frame, class_column, cols, ax, color, use_columns, xticks, colormap, axvlines, axvlines_kwds, sort_labels, **kwargs)\u001b[0m\n\u001b[1;32m    449\u001b[0m     \"\"\"\n\u001b[1;32m    450\u001b[0m     \u001b[0mplot_backend\u001b[0m \u001b[0;34m=\u001b[0m \u001b[0m_get_plot_backend\u001b[0m\u001b[0;34m(\u001b[0m\u001b[0;34m\"matplotlib\"\u001b[0m\u001b[0;34m)\u001b[0m\u001b[0;34m\u001b[0m\u001b[0;34m\u001b[0m\u001b[0m\n\u001b[0;32m--> 451\u001b[0;31m     return plot_backend.parallel_coordinates(\n\u001b[0m\u001b[1;32m    452\u001b[0m         \u001b[0mframe\u001b[0m\u001b[0;34m=\u001b[0m\u001b[0mframe\u001b[0m\u001b[0;34m,\u001b[0m\u001b[0;34m\u001b[0m\u001b[0;34m\u001b[0m\u001b[0m\n\u001b[1;32m    453\u001b[0m         \u001b[0mclass_column\u001b[0m\u001b[0;34m=\u001b[0m\u001b[0mclass_column\u001b[0m\u001b[0;34m,\u001b[0m\u001b[0;34m\u001b[0m\u001b[0;34m\u001b[0m\u001b[0m\n",
            "\u001b[0;32m/usr/local/lib/python3.10/dist-packages/pandas/plotting/_matplotlib/misc.py\u001b[0m in \u001b[0;36mparallel_coordinates\u001b[0;34m(frame, class_column, cols, ax, color, use_columns, xticks, colormap, axvlines, axvlines_kwds, sort_labels, **kwds)\u001b[0m\n\u001b[1;32m    367\u001b[0m \u001b[0;34m\u001b[0m\u001b[0m\n\u001b[1;32m    368\u001b[0m     \u001b[0mn\u001b[0m \u001b[0;34m=\u001b[0m \u001b[0mlen\u001b[0m\u001b[0;34m(\u001b[0m\u001b[0mframe\u001b[0m\u001b[0;34m)\u001b[0m\u001b[0;34m\u001b[0m\u001b[0;34m\u001b[0m\u001b[0m\n\u001b[0;32m--> 369\u001b[0;31m     \u001b[0mclasses\u001b[0m \u001b[0;34m=\u001b[0m \u001b[0mframe\u001b[0m\u001b[0;34m[\u001b[0m\u001b[0mclass_column\u001b[0m\u001b[0;34m]\u001b[0m\u001b[0;34m.\u001b[0m\u001b[0mdrop_duplicates\u001b[0m\u001b[0;34m(\u001b[0m\u001b[0;34m)\u001b[0m\u001b[0;34m\u001b[0m\u001b[0;34m\u001b[0m\u001b[0m\n\u001b[0m\u001b[1;32m    370\u001b[0m     \u001b[0mclass_col\u001b[0m \u001b[0;34m=\u001b[0m \u001b[0mframe\u001b[0m\u001b[0;34m[\u001b[0m\u001b[0mclass_column\u001b[0m\u001b[0;34m]\u001b[0m\u001b[0;34m\u001b[0m\u001b[0;34m\u001b[0m\u001b[0m\n\u001b[1;32m    371\u001b[0m \u001b[0;34m\u001b[0m\u001b[0m\n",
            "\u001b[0;32m/usr/local/lib/python3.10/dist-packages/pandas/core/frame.py\u001b[0m in \u001b[0;36m__getitem__\u001b[0;34m(self, key)\u001b[0m\n\u001b[1;32m   3805\u001b[0m             \u001b[0;32mif\u001b[0m \u001b[0mself\u001b[0m\u001b[0;34m.\u001b[0m\u001b[0mcolumns\u001b[0m\u001b[0;34m.\u001b[0m\u001b[0mnlevels\u001b[0m \u001b[0;34m>\u001b[0m \u001b[0;36m1\u001b[0m\u001b[0;34m:\u001b[0m\u001b[0;34m\u001b[0m\u001b[0;34m\u001b[0m\u001b[0m\n\u001b[1;32m   3806\u001b[0m                 \u001b[0;32mreturn\u001b[0m \u001b[0mself\u001b[0m\u001b[0;34m.\u001b[0m\u001b[0m_getitem_multilevel\u001b[0m\u001b[0;34m(\u001b[0m\u001b[0mkey\u001b[0m\u001b[0;34m)\u001b[0m\u001b[0;34m\u001b[0m\u001b[0;34m\u001b[0m\u001b[0m\n\u001b[0;32m-> 3807\u001b[0;31m             \u001b[0mindexer\u001b[0m \u001b[0;34m=\u001b[0m \u001b[0mself\u001b[0m\u001b[0;34m.\u001b[0m\u001b[0mcolumns\u001b[0m\u001b[0;34m.\u001b[0m\u001b[0mget_loc\u001b[0m\u001b[0;34m(\u001b[0m\u001b[0mkey\u001b[0m\u001b[0;34m)\u001b[0m\u001b[0;34m\u001b[0m\u001b[0;34m\u001b[0m\u001b[0m\n\u001b[0m\u001b[1;32m   3808\u001b[0m             \u001b[0;32mif\u001b[0m \u001b[0mis_integer\u001b[0m\u001b[0;34m(\u001b[0m\u001b[0mindexer\u001b[0m\u001b[0;34m)\u001b[0m\u001b[0;34m:\u001b[0m\u001b[0;34m\u001b[0m\u001b[0;34m\u001b[0m\u001b[0m\n\u001b[1;32m   3809\u001b[0m                 \u001b[0mindexer\u001b[0m \u001b[0;34m=\u001b[0m \u001b[0;34m[\u001b[0m\u001b[0mindexer\u001b[0m\u001b[0;34m]\u001b[0m\u001b[0;34m\u001b[0m\u001b[0;34m\u001b[0m\u001b[0m\n",
            "\u001b[0;32m/usr/local/lib/python3.10/dist-packages/pandas/core/indexes/base.py\u001b[0m in \u001b[0;36mget_loc\u001b[0;34m(self, key, method, tolerance)\u001b[0m\n\u001b[1;32m   3802\u001b[0m                 \u001b[0;32mreturn\u001b[0m \u001b[0mself\u001b[0m\u001b[0;34m.\u001b[0m\u001b[0m_engine\u001b[0m\u001b[0;34m.\u001b[0m\u001b[0mget_loc\u001b[0m\u001b[0;34m(\u001b[0m\u001b[0mcasted_key\u001b[0m\u001b[0;34m)\u001b[0m\u001b[0;34m\u001b[0m\u001b[0;34m\u001b[0m\u001b[0m\n\u001b[1;32m   3803\u001b[0m             \u001b[0;32mexcept\u001b[0m \u001b[0mKeyError\u001b[0m \u001b[0;32mas\u001b[0m \u001b[0merr\u001b[0m\u001b[0;34m:\u001b[0m\u001b[0;34m\u001b[0m\u001b[0;34m\u001b[0m\u001b[0m\n\u001b[0;32m-> 3804\u001b[0;31m                 \u001b[0;32mraise\u001b[0m \u001b[0mKeyError\u001b[0m\u001b[0;34m(\u001b[0m\u001b[0mkey\u001b[0m\u001b[0;34m)\u001b[0m \u001b[0;32mfrom\u001b[0m \u001b[0merr\u001b[0m\u001b[0;34m\u001b[0m\u001b[0;34m\u001b[0m\u001b[0m\n\u001b[0m\u001b[1;32m   3805\u001b[0m             \u001b[0;32mexcept\u001b[0m \u001b[0mTypeError\u001b[0m\u001b[0;34m:\u001b[0m\u001b[0;34m\u001b[0m\u001b[0;34m\u001b[0m\u001b[0m\n\u001b[1;32m   3806\u001b[0m                 \u001b[0;31m# If we have a listlike key, _check_indexing_error will raise\u001b[0m\u001b[0;34m\u001b[0m\u001b[0;34m\u001b[0m\u001b[0m\n",
            "\u001b[0;31mKeyError\u001b[0m: 'Model'"
          ]
        },
        {
          "output_type": "display_data",
          "data": {
            "text/plain": [
              "<Figure size 1000x600 with 0 Axes>"
            ]
          },
          "metadata": {}
        }
      ]
    },
    {
      "cell_type": "code",
      "source": [
        "import seaborn as sns\n",
        "import pandas as pd\n",
        "\n",
        "# Sample data for two models\n",
        "models = ['model_svm', 'DT']\n",
        "accuracies = [0.85, 0.92]\n",
        "\n",
        "# Create a pandas DataFrame from the data\n",
        "df = pd.DataFrame({'Model': models, 'Accuracy': accuracies})\n",
        "\n",
        "# Plotting pairwise plot\n",
        "sns.pairplot(df, kind='scatter', hue='Model', vars=['Accuracy'])\n",
        "plt.title('Pairwise Plot - Accuracies of Two Models')\n",
        "\n",
        "# Display the plot\n",
        "plt.show()\n"
      ],
      "metadata": {
        "colab": {
          "base_uri": "https://localhost:8080/",
          "height": 284
        },
        "id": "y-M_EpKcbnTA",
        "outputId": "ece5888e-8c3c-4cc5-ba81-057a33b3f681"
      },
      "execution_count": null,
      "outputs": [
        {
          "output_type": "display_data",
          "data": {
            "text/plain": [
              "<Figure size 302.861x250 with 2 Axes>"
            ],
            "image/png": "[encoded data removed]"
          },
          "metadata": {}
        }
      ]
    }
  ]
}